{
 "cells": [
  {
   "cell_type": "code",
   "execution_count": 2,
   "metadata": {},
   "outputs": [
    {
     "name": "stdout",
     "output_type": "stream",
     "text": [
      "Random States Producing Desired Range of Accuracies:\n",
      "Random State 4: KNN Accuracy 0.9751180764276514, NBC Accuracy 0.9619471876341779\n",
      "Random State 10: KNN Accuracy 0.9751180764276514, NBC Accuracy 0.9619471876341776\n"
     ]
    }
   ],
   "source": [
    "import numpy as np\n",
    "\n",
    "# Load the saved numpy arrays containing mean accuracies for KNN and NBC\n",
    "knn_accuracies = np.load('KNN_accuracies.npy')\n",
    "nbc_accuracies = np.load('NBC_accuracies.npy')\n",
    "\n",
    "# Desired accuracy range for KNN and NBC\n",
    "desired_knn_accuracy = 0.975109\n",
    "desired_nbc_accuracy = 0.961932\n",
    "accuracy_range = 0.0001  # Adjust this range as needed\n",
    "\n",
    "# Find the random states that produce the desired range of accuracies for both models\n",
    "matching_states = []\n",
    "\n",
    "for random_state in range(101):  # Random states from 0 to 100\n",
    "    knn_diff = abs(knn_accuracies[random_state] - desired_knn_accuracy)\n",
    "    nbc_diff = abs(nbc_accuracies[random_state] - desired_nbc_accuracy)\n",
    "\n",
    "    if knn_diff <= accuracy_range and nbc_diff <= accuracy_range:\n",
    "        matching_states.append((random_state, knn_accuracies[random_state], nbc_accuracies[random_state]))\n",
    "\n",
    "# Sort the matching states by KNN accuracy (optional)\n",
    "matching_states.sort(key=lambda x: x[1])\n",
    "\n",
    "# Display the random states that produce the desired range of accuracies for both models\n",
    "print(\"Random States Producing Desired Range of Accuracies:\")\n",
    "for state, knn_acc, nbc_acc in matching_states:\n",
    "    print(f\"Random State {state}: KNN Accuracy {knn_acc}, NBC Accuracy {nbc_acc}\")\n"
   ]
  }
 ],
 "metadata": {
  "kernelspec": {
   "display_name": "base",
   "language": "python",
   "name": "python3"
  },
  "language_info": {
   "codemirror_mode": {
    "name": "ipython",
    "version": 3
   },
   "file_extension": ".py",
   "mimetype": "text/x-python",
   "name": "python",
   "nbconvert_exporter": "python",
   "pygments_lexer": "ipython3",
   "version": "3.9.12"
  },
  "orig_nbformat": 4
 },
 "nbformat": 4,
 "nbformat_minor": 2
}
