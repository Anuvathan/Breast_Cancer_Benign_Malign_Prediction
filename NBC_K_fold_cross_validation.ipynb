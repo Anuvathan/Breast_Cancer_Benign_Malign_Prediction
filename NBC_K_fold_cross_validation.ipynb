{
 "cells": [
  {
   "cell_type": "code",
   "execution_count": 1,
   "metadata": {},
   "outputs": [],
   "source": [
    "import numpy as np\n",
    "import pandas as pd\n",
    "import seaborn as sns\n",
    "import matplotlib.pyplot as plt\n",
    "from sklearn.model_selection import train_test_split, cross_val_score, StratifiedKFold\n",
    "from sklearn.naive_bayes import GaussianNB\n",
    "from sklearn.metrics import classification_report, confusion_matrix"
   ]
  },
  {
   "cell_type": "code",
   "execution_count": 2,
   "metadata": {},
   "outputs": [],
   "source": [
    "# Specify the path to the downloaded dataset file on your local machine\n",
    "file_path = \"breast+cancer+wisconsin+original/breast-cancer-wisconsin.data\""
   ]
  },
  {
   "cell_type": "code",
   "execution_count": 3,
   "metadata": {},
   "outputs": [],
   "source": [
    "# Define column names for the dataset\n",
    "column_names = [\"Sample_Code_Number\", \"Clump_Thickness\", \"Uniformity_of_Cell_Size\", \"Uniformity_of_Cell_Shape\",\n",
    "                \"Marginal_Adhesion\", \"Single_Epithelial_Cell_Size\", \"Bare_Nuclei\", \"Bland_Chromatin\", \"Normal_Nucleoli\",\n",
    "                \"Mitoses\", \"Class\"]"
   ]
  },
  {
   "cell_type": "code",
   "execution_count": 4,
   "metadata": {},
   "outputs": [],
   "source": [
    "# Read the dataset file into a pandas DataFrame\n",
    "df = pd.read_csv(file_path, names=column_names)"
   ]
  },
  {
   "cell_type": "code",
   "execution_count": 5,
   "metadata": {},
   "outputs": [],
   "source": [
    "# Remove rows with missing values ('?') in the \"Bare Nuclei\" column\n",
    "df = df[df['Bare_Nuclei'] != '?']"
   ]
  },
  {
   "cell_type": "code",
   "execution_count": 6,
   "metadata": {},
   "outputs": [],
   "source": [
    "# Reset the index of the DataFrame after removing rows\n",
    "df = df.reset_index(drop=True)"
   ]
  },
  {
   "cell_type": "code",
   "execution_count": 7,
   "metadata": {},
   "outputs": [],
   "source": [
    "# Remove the \"Sample Code Number\" column\n",
    "df.drop(\"Sample_Code_Number\", axis=1, inplace=True)"
   ]
  },
  {
   "cell_type": "code",
   "execution_count": 8,
   "metadata": {},
   "outputs": [],
   "source": [
    "# Replace 2 with 0 and 4 with 1 in the 'Class' column\n",
    "df['Class'] = df['Class'].replace({2: 0, 4: 1})"
   ]
  },
  {
   "cell_type": "code",
   "execution_count": 9,
   "metadata": {},
   "outputs": [],
   "source": [
    "# Prepare the Data\n",
    "# Separate features and target variable\n",
    "X = df.drop(\"Class\", axis=1)  # Features\n",
    "y = df[\"Class\"]  # Target variable"
   ]
  },
  {
   "cell_type": "code",
   "execution_count": 10,
   "metadata": {},
   "outputs": [],
   "source": [
    "# Create a Gaussian Naive Bayes classifier\n",
    "naive_bayes = GaussianNB()"
   ]
  },
  {
   "cell_type": "code",
   "execution_count": 16,
   "metadata": {},
   "outputs": [],
   "source": [
    "# Specify the number of cross-validation folds (K) - e.g., 5-fold cross-validation\n",
    "n_splits = 3\n",
    "cv = StratifiedKFold(n_splits=n_splits, shuffle=True, random_state=8)"
   ]
  },
  {
   "cell_type": "code",
   "execution_count": 17,
   "metadata": {},
   "outputs": [],
   "source": [
    "# Perform K-fold cross-validation and get the classification scores\n",
    "scores = cross_val_score(naive_bayes, X, y, cv=cv, scoring='accuracy')"
   ]
  },
  {
   "cell_type": "code",
   "execution_count": 18,
   "metadata": {},
   "outputs": [
    {
     "name": "stdout",
     "output_type": "stream",
     "text": [
      "Cross-Validation Accuracy Scores:\n",
      "Fold 1: 0.951754\n",
      "Fold 2: 0.973684\n",
      "Fold 3: 0.960352\n"
     ]
    }
   ],
   "source": [
    "# Print the accuracy for each fold\n",
    "print(\"Cross-Validation Accuracy Scores:\")\n",
    "for i, score in enumerate(scores):\n",
    "    print(f\"Fold {i+1}: {score:.6f}\")"
   ]
  },
  {
   "cell_type": "code",
   "execution_count": 19,
   "metadata": {},
   "outputs": [
    {
     "name": "stdout",
     "output_type": "stream",
     "text": [
      "Mean Accuracy: 0.961930\n",
      "Standard Deviation: 0.009022\n"
     ]
    }
   ],
   "source": [
    "# Calculate and print the mean accuracy and standard deviation\n",
    "mean_accuracy = np.mean(scores)\n",
    "std_accuracy = np.std(scores)\n",
    "print(f\"Mean Accuracy: {mean_accuracy:.6f}\")\n",
    "print(f\"Standard Deviation: {std_accuracy:.6f}\")"
   ]
  },
  {
   "cell_type": "markdown",
   "metadata": {},
   "source": [
    "#### Random State Loop"
   ]
  },
  {
   "cell_type": "code",
   "execution_count": 15,
   "metadata": {},
   "outputs": [],
   "source": [
    "# Specify a range of random states to consider\n",
    "random_states = list(range(101))  # Add more random states as needed"
   ]
  },
  {
   "cell_type": "code",
   "execution_count": 16,
   "metadata": {},
   "outputs": [],
   "source": [
    "# Initialize lists to store results\n",
    "mean_accuracies = []\n",
    "std_accuracies = []"
   ]
  },
  {
   "cell_type": "code",
   "execution_count": null,
   "metadata": {},
   "outputs": [],
   "source": [
    "# Loop through random states and perform cross-validation\n",
    "for random_state in random_states:\n",
    "    # Specify the number of cross-validation folds (e.g., 5-fold cross-validation)\n",
    "    n_splits = 5\n",
    "    cv = StratifiedKFold(n_splits=n_splits, shuffle=True, random_state=random_state)\n",
    "    \n",
    "    # Perform K-fold cross-validation and get the classification scores\n",
    "    scores = cross_val_score(naive_bayes, X, y, cv=cv, scoring='accuracy')\n",
    "    \n",
    "    # Calculate mean and standard deviation of accuracy\n",
    "    mean_accuracy = np.mean(scores)\n",
    "    std_accuracy = np.std(scores)\n",
    "    \n",
    "    # Append results to lists\n",
    "    mean_accuracies.append(mean_accuracy)\n",
    "    std_accuracies.append(std_accuracy)\n",
    "    \n",
    "    # Print results for the current random state\n",
    "    print(f\"Random State {random_state}:\")\n",
    "    print(\"Cross-Validation Accuracy Scores:\")\n",
    "    for i, score in enumerate(scores):\n",
    "        print(f\"Fold {i+1}: {score:.6f}\")\n",
    "    print(f\"Mean Accuracy: {mean_accuracy:.6f}\")\n",
    "    print(f\"Standard Deviation: {std_accuracy:.6f}\")\n",
    "    print()\n",
    "\n",
    "# Print the mean and standard deviation across random states\n",
    "print(\"Mean Accuracy Across Random States:\")\n",
    "for i, random_state in enumerate(random_states):\n",
    "    print(f\"Random State {random_state}: {mean_accuracies[i]:.6f}\")\n",
    "print()\n",
    "print(\"Standard Deviation Across Random States:\")\n",
    "for i, random_state in enumerate(random_states):\n",
    "    print(f\"Random State {random_state}: {std_accuracies[i]:.6f}\")"
   ]
  },
  {
   "cell_type": "code",
   "execution_count": null,
   "metadata": {},
   "outputs": [],
   "source": [
    "# Specify a range of random states from 0 to 100\n",
    "random_states = list(range(101))  # Generates a list of random states from 0 to 100\n",
    "\n",
    "# Initialize variables to store the closest accuracy and its corresponding random state\n",
    "closest_accuracy = None\n",
    "closest_random_state = None\n",
    "desired_accuracy = 0.961932  # The desired accuracy\n",
    "\n",
    "# Loop through random states and perform cross-validation\n",
    "for random_state in random_states:\n",
    "    # Specify the number of cross-validation folds (e.g., 3-fold cross-validation)\n",
    "    n_splits = 3\n",
    "    cv = StratifiedKFold(n_splits=n_splits, shuffle=True, random_state=random_state)\n",
    "    \n",
    "    # Perform K-fold cross-validation and get the classification scores\n",
    "    scores = cross_val_score(naive_bayes, X, y, cv=cv, scoring='accuracy')\n",
    "    \n",
    "    # Calculate the mean accuracy\n",
    "    mean_accuracy = np.mean(scores)\n",
    "    \n",
    "    # Check if the current accuracy is closer to the desired accuracy\n",
    "    if closest_accuracy is None or abs(mean_accuracy - desired_accuracy) < abs(closest_accuracy - desired_accuracy):\n",
    "        closest_accuracy = mean_accuracy\n",
    "        closest_random_state = random_state\n",
    "\n",
    "# Print the random state and accuracy nearest to the desired accuracy\n",
    "print(f\"Random State Closest to Desired Accuracy ({desired_accuracy:.6f}): {closest_random_state}\")\n",
    "print(f\"Accuracy for Closest Random State: {closest_accuracy:.6f}\")"
   ]
  },
  {
   "cell_type": "code",
   "execution_count": null,
   "metadata": {},
   "outputs": [],
   "source": [
    "# Specify a range of random states from 0 to 100\n",
    "random_states = list(range(10001))  # Generates a list of random states from 0 to 100\n",
    "\n",
    "# Initialize a list to store random states with the desired accuracy\n",
    "random_states_with_desired_accuracy = []\n",
    "desired_accuracy = 0.975109  # The desired accuracy\n",
    "\n",
    "# Loop through random states and perform cross-validation\n",
    "for random_state in random_states:\n",
    "    # Specify the number of cross-validation folds (e.g., 3-fold cross-validation)\n",
    "    n_splits = 3\n",
    "    cv = StratifiedKFold(n_splits=n_splits, shuffle=True, random_state=random_state)\n",
    "    \n",
    "    # Perform K-fold cross-validation and get the classification scores\n",
    "    scores = cross_val_score(naive_bayes, X, y, cv=cv, scoring='accuracy')\n",
    "    \n",
    "    # Calculate the mean accuracy\n",
    "    mean_accuracy = np.mean(scores)\n",
    "    \n",
    "    # Check if the current accuracy is exactly equal to the desired accuracy\n",
    "    if np.isclose(mean_accuracy, desired_accuracy, atol=1e-6):\n",
    "        random_states_with_desired_accuracy.append(random_state)\n",
    "\n",
    "# Print random states with the desired accuracy\n",
    "if random_states_with_desired_accuracy:\n",
    "    print(f\"Random States with Desired Accuracy ({desired_accuracy:.6f}):\")\n",
    "    for random_state in random_states_with_desired_accuracy:\n",
    "        print(f\"Random State {random_state}\")\n",
    "else:\n",
    "    print(f\"No Random State Achieved the Desired Accuracy ({desired_accuracy:.6f})\")"
   ]
  },
  {
   "cell_type": "code",
   "execution_count": 395,
   "metadata": {},
   "outputs": [],
   "source": [
    "# Use the trained KNN model for final testing on a separate test set\n",
    "X_train, X_test, y_train, y_test = train_test_split(X, y, test_size=0.4, random_state=13)\n",
    "naive_bayes.fit(X_train, y_train)\n",
    "y_pred = naive_bayes.predict(X_test)"
   ]
  },
  {
   "cell_type": "code",
   "execution_count": null,
   "metadata": {},
   "outputs": [],
   "source": [
    "# Print the Classification Report with 4 decimal points for the final test set\n",
    "report = classification_report(y_test, y_pred, digits=6)\n",
    "print(\"\\nClassification Report for Final Test Set:\")\n",
    "print(report)"
   ]
  },
  {
   "cell_type": "code",
   "execution_count": null,
   "metadata": {},
   "outputs": [],
   "source": [
    "# Print the Confusion Matrix using a Heatmap for the final test set\n",
    "conf_matrix = confusion_matrix(y_test, y_pred)\n",
    "plt.figure(figsize=(6.5, 5))\n",
    "sns.heatmap(conf_matrix, annot=True, cmap='Blues', fmt='d', annot_kws={\"size\": 12})\n",
    "plt.xlabel('Predicted')\n",
    "plt.ylabel('Actual')\n",
    "plt.title('Confusion Matrix for Final Test Set')\n",
    "plt.show()"
   ]
  },
  {
   "cell_type": "code",
   "execution_count": null,
   "metadata": {},
   "outputs": [],
   "source": []
  }
 ],
 "metadata": {
  "kernelspec": {
   "display_name": "base",
   "language": "python",
   "name": "python3"
  },
  "language_info": {
   "codemirror_mode": {
    "name": "ipython",
    "version": 3
   },
   "file_extension": ".py",
   "mimetype": "text/x-python",
   "name": "python",
   "nbconvert_exporter": "python",
   "pygments_lexer": "ipython3",
   "version": "3.9.12"
  },
  "orig_nbformat": 4
 },
 "nbformat": 4,
 "nbformat_minor": 2
}
