{
 "cells": [
  {
   "cell_type": "code",
   "execution_count": 2,
   "id": "44cf6859",
   "metadata": {},
   "outputs": [],
   "source": [
    "import numpy as np\n",
    "import pandas as pd\n",
    "from sklearn.model_selection import train_test_split,cross_val_score, StratifiedKFold\n",
    "from sklearn.neighbors import KNeighborsClassifier\n",
    "from sklearn.metrics import accuracy_score, classification_report\n",
    "from sklearn.naive_bayes import GaussianNB\n",
    "import warnings\n",
    "\n",
    "# To ignore all warnings, set the filter to \"ignore\"\n",
    "warnings.filterwarnings(\"ignore\")"
   ]
  },
  {
   "cell_type": "code",
   "execution_count": 3,
   "id": "1111e09a",
   "metadata": {},
   "outputs": [],
   "source": [
    "data_file = \"./breast+cancer+wisconsin+original/breast-cancer-wisconsin.data\"\n"
   ]
  },
  {
   "cell_type": "code",
   "execution_count": 4,
   "id": "42ede13f",
   "metadata": {},
   "outputs": [],
   "source": [
    "column_names = [\"Sample Code\", \"Clump Thickness\", \"Uniformity of Cell Size\", \"Uniformity of Cell Shape\",\n",
    "                \"Marginal Adhesion\", \"Single Epithelial Cell Size\", \"Bare Nuclei\", \"Bland Chromatin\",\n",
    "                \"Normal Nucleoli\", \"Mitoses\", \"Class\"]"
   ]
  },
  {
   "cell_type": "code",
   "execution_count": 5,
   "id": "a3fb9564",
   "metadata": {},
   "outputs": [],
   "source": [
    "data = pd.read_csv(data_file, names=column_names)"
   ]
  },
  {
   "cell_type": "code",
   "execution_count": 6,
   "id": "0fe62312",
   "metadata": {},
   "outputs": [
    {
     "data": {
      "text/html": [
       "<div>\n",
       "<style scoped>\n",
       "    .dataframe tbody tr th:only-of-type {\n",
       "        vertical-align: middle;\n",
       "    }\n",
       "\n",
       "    .dataframe tbody tr th {\n",
       "        vertical-align: top;\n",
       "    }\n",
       "\n",
       "    .dataframe thead th {\n",
       "        text-align: right;\n",
       "    }\n",
       "</style>\n",
       "<table border=\"1\" class=\"dataframe\">\n",
       "  <thead>\n",
       "    <tr style=\"text-align: right;\">\n",
       "      <th></th>\n",
       "      <th>Sample Code</th>\n",
       "      <th>Clump Thickness</th>\n",
       "      <th>Uniformity of Cell Size</th>\n",
       "      <th>Uniformity of Cell Shape</th>\n",
       "      <th>Marginal Adhesion</th>\n",
       "      <th>Single Epithelial Cell Size</th>\n",
       "      <th>Bare Nuclei</th>\n",
       "      <th>Bland Chromatin</th>\n",
       "      <th>Normal Nucleoli</th>\n",
       "      <th>Mitoses</th>\n",
       "      <th>Class</th>\n",
       "    </tr>\n",
       "  </thead>\n",
       "  <tbody>\n",
       "    <tr>\n",
       "      <th>0</th>\n",
       "      <td>1000025</td>\n",
       "      <td>5</td>\n",
       "      <td>1</td>\n",
       "      <td>1</td>\n",
       "      <td>1</td>\n",
       "      <td>2</td>\n",
       "      <td>1</td>\n",
       "      <td>3</td>\n",
       "      <td>1</td>\n",
       "      <td>1</td>\n",
       "      <td>2</td>\n",
       "    </tr>\n",
       "    <tr>\n",
       "      <th>1</th>\n",
       "      <td>1002945</td>\n",
       "      <td>5</td>\n",
       "      <td>4</td>\n",
       "      <td>4</td>\n",
       "      <td>5</td>\n",
       "      <td>7</td>\n",
       "      <td>10</td>\n",
       "      <td>3</td>\n",
       "      <td>2</td>\n",
       "      <td>1</td>\n",
       "      <td>2</td>\n",
       "    </tr>\n",
       "    <tr>\n",
       "      <th>2</th>\n",
       "      <td>1015425</td>\n",
       "      <td>3</td>\n",
       "      <td>1</td>\n",
       "      <td>1</td>\n",
       "      <td>1</td>\n",
       "      <td>2</td>\n",
       "      <td>2</td>\n",
       "      <td>3</td>\n",
       "      <td>1</td>\n",
       "      <td>1</td>\n",
       "      <td>2</td>\n",
       "    </tr>\n",
       "    <tr>\n",
       "      <th>3</th>\n",
       "      <td>1016277</td>\n",
       "      <td>6</td>\n",
       "      <td>8</td>\n",
       "      <td>8</td>\n",
       "      <td>1</td>\n",
       "      <td>3</td>\n",
       "      <td>4</td>\n",
       "      <td>3</td>\n",
       "      <td>7</td>\n",
       "      <td>1</td>\n",
       "      <td>2</td>\n",
       "    </tr>\n",
       "    <tr>\n",
       "      <th>4</th>\n",
       "      <td>1017023</td>\n",
       "      <td>4</td>\n",
       "      <td>1</td>\n",
       "      <td>1</td>\n",
       "      <td>3</td>\n",
       "      <td>2</td>\n",
       "      <td>1</td>\n",
       "      <td>3</td>\n",
       "      <td>1</td>\n",
       "      <td>1</td>\n",
       "      <td>2</td>\n",
       "    </tr>\n",
       "  </tbody>\n",
       "</table>\n",
       "</div>"
      ],
      "text/plain": [
       "   Sample Code  Clump Thickness  Uniformity of Cell Size  \\\n",
       "0      1000025                5                        1   \n",
       "1      1002945                5                        4   \n",
       "2      1015425                3                        1   \n",
       "3      1016277                6                        8   \n",
       "4      1017023                4                        1   \n",
       "\n",
       "   Uniformity of Cell Shape  Marginal Adhesion  Single Epithelial Cell Size  \\\n",
       "0                         1                  1                            2   \n",
       "1                         4                  5                            7   \n",
       "2                         1                  1                            2   \n",
       "3                         8                  1                            3   \n",
       "4                         1                  3                            2   \n",
       "\n",
       "  Bare Nuclei  Bland Chromatin  Normal Nucleoli  Mitoses  Class  \n",
       "0           1                3                1        1      2  \n",
       "1          10                3                2        1      2  \n",
       "2           2                3                1        1      2  \n",
       "3           4                3                7        1      2  \n",
       "4           1                3                1        1      2  "
      ]
     },
     "execution_count": 6,
     "metadata": {},
     "output_type": "execute_result"
    }
   ],
   "source": [
    "data.head()"
   ]
  },
  {
   "cell_type": "code",
   "execution_count": 7,
   "id": "b40a9081",
   "metadata": {},
   "outputs": [],
   "source": [
    "data = data.drop(columns=[column_names[0]])"
   ]
  },
  {
   "cell_type": "code",
   "execution_count": 8,
   "id": "b74a5578",
   "metadata": {},
   "outputs": [
    {
     "name": "stdout",
     "output_type": "stream",
     "text": [
      "Missing Value Counts:\n",
      "Clump Thickness                 0\n",
      "Uniformity of Cell Size         0\n",
      "Uniformity of Cell Shape        0\n",
      "Marginal Adhesion               0\n",
      "Single Epithelial Cell Size     0\n",
      "Bare Nuclei                    16\n",
      "Bland Chromatin                 0\n",
      "Normal Nucleoli                 0\n",
      "Mitoses                         0\n",
      "Class                           0\n",
      "dtype: int64\n"
     ]
    }
   ],
   "source": [
    "null_counts = data.isin(['?']).sum()\n",
    "\n",
    "# Print the counts of missing values for each column\n",
    "print(\"Missing Value Counts:\")\n",
    "print(null_counts)"
   ]
  },
  {
   "cell_type": "code",
   "execution_count": 9,
   "id": "4982a9cf",
   "metadata": {},
   "outputs": [],
   "source": [
    "# Replace '?' with NaN in the entire DataFrame\n",
    "data = data.replace('?', np.nan)"
   ]
  },
  {
   "cell_type": "code",
   "execution_count": 10,
   "id": "f8deff4f",
   "metadata": {},
   "outputs": [],
   "source": [
    "# Remove rows containing NaN values (including rows with '?')\n",
    "data_cleaned = data.dropna()"
   ]
  },
  {
   "cell_type": "code",
   "execution_count": 11,
   "id": "116bb060",
   "metadata": {},
   "outputs": [
    {
     "data": {
      "text/plain": [
       "(699, 10)"
      ]
     },
     "execution_count": 11,
     "metadata": {},
     "output_type": "execute_result"
    }
   ],
   "source": [
    "data.shape"
   ]
  },
  {
   "cell_type": "code",
   "execution_count": 12,
   "id": "82696096",
   "metadata": {},
   "outputs": [
    {
     "data": {
      "text/plain": [
       "(683, 10)"
      ]
     },
     "execution_count": 12,
     "metadata": {},
     "output_type": "execute_result"
    }
   ],
   "source": [
    "data_cleaned.shape"
   ]
  },
  {
   "cell_type": "code",
   "execution_count": 13,
   "id": "714ad138",
   "metadata": {},
   "outputs": [],
   "source": [
    "X = data_cleaned.drop(\"Class\", axis=1)\n",
    "y = data_cleaned[\"Class\"]"
   ]
  },
  {
   "cell_type": "code",
   "execution_count": 14,
   "id": "f19678ed",
   "metadata": {},
   "outputs": [
    {
     "data": {
      "text/html": [
       "<div>\n",
       "<style scoped>\n",
       "    .dataframe tbody tr th:only-of-type {\n",
       "        vertical-align: middle;\n",
       "    }\n",
       "\n",
       "    .dataframe tbody tr th {\n",
       "        vertical-align: top;\n",
       "    }\n",
       "\n",
       "    .dataframe thead th {\n",
       "        text-align: right;\n",
       "    }\n",
       "</style>\n",
       "<table border=\"1\" class=\"dataframe\">\n",
       "  <thead>\n",
       "    <tr style=\"text-align: right;\">\n",
       "      <th></th>\n",
       "      <th>Clump Thickness</th>\n",
       "      <th>Uniformity of Cell Size</th>\n",
       "      <th>Uniformity of Cell Shape</th>\n",
       "      <th>Marginal Adhesion</th>\n",
       "      <th>Single Epithelial Cell Size</th>\n",
       "      <th>Bare Nuclei</th>\n",
       "      <th>Bland Chromatin</th>\n",
       "      <th>Normal Nucleoli</th>\n",
       "      <th>Mitoses</th>\n",
       "    </tr>\n",
       "  </thead>\n",
       "  <tbody>\n",
       "    <tr>\n",
       "      <th>0</th>\n",
       "      <td>5</td>\n",
       "      <td>1</td>\n",
       "      <td>1</td>\n",
       "      <td>1</td>\n",
       "      <td>2</td>\n",
       "      <td>1</td>\n",
       "      <td>3</td>\n",
       "      <td>1</td>\n",
       "      <td>1</td>\n",
       "    </tr>\n",
       "    <tr>\n",
       "      <th>1</th>\n",
       "      <td>5</td>\n",
       "      <td>4</td>\n",
       "      <td>4</td>\n",
       "      <td>5</td>\n",
       "      <td>7</td>\n",
       "      <td>10</td>\n",
       "      <td>3</td>\n",
       "      <td>2</td>\n",
       "      <td>1</td>\n",
       "    </tr>\n",
       "    <tr>\n",
       "      <th>2</th>\n",
       "      <td>3</td>\n",
       "      <td>1</td>\n",
       "      <td>1</td>\n",
       "      <td>1</td>\n",
       "      <td>2</td>\n",
       "      <td>2</td>\n",
       "      <td>3</td>\n",
       "      <td>1</td>\n",
       "      <td>1</td>\n",
       "    </tr>\n",
       "    <tr>\n",
       "      <th>3</th>\n",
       "      <td>6</td>\n",
       "      <td>8</td>\n",
       "      <td>8</td>\n",
       "      <td>1</td>\n",
       "      <td>3</td>\n",
       "      <td>4</td>\n",
       "      <td>3</td>\n",
       "      <td>7</td>\n",
       "      <td>1</td>\n",
       "    </tr>\n",
       "    <tr>\n",
       "      <th>4</th>\n",
       "      <td>4</td>\n",
       "      <td>1</td>\n",
       "      <td>1</td>\n",
       "      <td>3</td>\n",
       "      <td>2</td>\n",
       "      <td>1</td>\n",
       "      <td>3</td>\n",
       "      <td>1</td>\n",
       "      <td>1</td>\n",
       "    </tr>\n",
       "  </tbody>\n",
       "</table>\n",
       "</div>"
      ],
      "text/plain": [
       "   Clump Thickness  Uniformity of Cell Size  Uniformity of Cell Shape  \\\n",
       "0                5                        1                         1   \n",
       "1                5                        4                         4   \n",
       "2                3                        1                         1   \n",
       "3                6                        8                         8   \n",
       "4                4                        1                         1   \n",
       "\n",
       "   Marginal Adhesion  Single Epithelial Cell Size Bare Nuclei  \\\n",
       "0                  1                            2           1   \n",
       "1                  5                            7          10   \n",
       "2                  1                            2           2   \n",
       "3                  1                            3           4   \n",
       "4                  3                            2           1   \n",
       "\n",
       "   Bland Chromatin  Normal Nucleoli  Mitoses  \n",
       "0                3                1        1  \n",
       "1                3                2        1  \n",
       "2                3                1        1  \n",
       "3                3                7        1  \n",
       "4                3                1        1  "
      ]
     },
     "execution_count": 14,
     "metadata": {},
     "output_type": "execute_result"
    }
   ],
   "source": [
    "X.head()"
   ]
  },
  {
   "cell_type": "code",
   "execution_count": 15,
   "id": "892e161d",
   "metadata": {},
   "outputs": [
    {
     "data": {
      "text/plain": [
       "0    2\n",
       "1    2\n",
       "2    2\n",
       "3    2\n",
       "4    2\n",
       "Name: Class, dtype: int64"
      ]
     },
     "execution_count": 15,
     "metadata": {},
     "output_type": "execute_result"
    }
   ],
   "source": [
    "y.head()"
   ]
  },
  {
   "cell_type": "code",
   "execution_count": 16,
   "id": "5400b888",
   "metadata": {},
   "outputs": [],
   "source": [
    "# Split the data into a 60:40 ratio for training and testing\n",
    "X_train, X_test, y_train, y_test = train_test_split(X, y, test_size=0.4, random_state=13, stratify=y)\n"
   ]
  },
  {
   "cell_type": "markdown",
   "id": "9dde9683",
   "metadata": {},
   "source": [
    "## KNN"
   ]
  },
  {
   "cell_type": "code",
   "execution_count": 17,
   "id": "968afe2f",
   "metadata": {},
   "outputs": [],
   "source": [
    "# Create a k-NN classifier with a specified value of k (e.g., k=3)\n",
    "k = 3\n",
    "knn_classifier = KNeighborsClassifier(n_neighbors=k)\n"
   ]
  },
  {
   "cell_type": "code",
   "execution_count": 18,
   "id": "27fd6019",
   "metadata": {},
   "outputs": [
    {
     "name": "stdout",
     "output_type": "stream",
     "text": [
      "Cross-Validation Scores (Accuracy): [0.97080292 0.97810219 0.97080292 0.98529412 0.97058824]\n",
      "Mean Accuracy: 0.9751180764276514\n",
      "Standard Deviation: 0.005834678450946536\n"
     ]
    }
   ],
   "source": [
    "# Perform k-fold cross-validation ( k=5)\n",
    "\n",
    "n_splits = 5\n",
    "num_folds = StratifiedKFold(n_splits=n_splits, shuffle=True, random_state=4)\n",
    "cv_scores = cross_val_score(knn_classifier, X, y, cv=num_folds, scoring='accuracy')\n",
    "\n",
    "# Print cross-validation results\n",
    "meanAcc = np.mean(cv_scores)\n",
    "maxAcc = 0\n",
    "for i, score in enumerate(cv_scores):\n",
    "    if maxAcc < score:\n",
    "        maxAcc = score\n",
    "        \n",
    "percent = (meanAcc-maxAcc) * 100\n",
    "\n",
    "print(f\"Cross-Validation Scores (Accuracy): {cv_scores}\")\n",
    "print(f\"Mean Accuracy: {meanAcc}\")\n",
    "print(f\"Standard Deviation: {np.std(cv_scores)}\")"
   ]
  },
  {
   "cell_type": "code",
   "execution_count": 19,
   "id": "97b687e7",
   "metadata": {
    "scrolled": true
   },
   "outputs": [
    {
     "name": "stdout",
     "output_type": "stream",
     "text": [
      "Accuracy: 0.9708029197080292\n",
      "Classification Report:\n",
      "              precision    recall  f1-score   support\n",
      "\n",
      "           2       0.98      0.97      0.98       178\n",
      "           4       0.95      0.97      0.96        96\n",
      "\n",
      "    accuracy                           0.97       274\n",
      "   macro avg       0.97      0.97      0.97       274\n",
      "weighted avg       0.97      0.97      0.97       274\n",
      "\n"
     ]
    }
   ],
   "source": [
    "knn_classifier.fit(X_train, y_train)\n",
    "\n",
    "# Make predictions on the test data\n",
    "y_pred = knn_classifier.predict(X_test)\n",
    "\n",
    "# Evaluate the model\n",
    "accuracy = accuracy_score(y_test, y_pred)\n",
    "classification_rep = classification_report(y_test, y_pred)\n",
    "\n",
    "print(f\"Accuracy: {accuracy}\")\n",
    "print(\"Classification Report:\")\n",
    "print(classification_rep)"
   ]
  },
  {
   "cell_type": "code",
   "execution_count": null,
   "id": "54bca586",
   "metadata": {},
   "outputs": [],
   "source": []
  },
  {
   "cell_type": "markdown",
   "id": "4943fc17",
   "metadata": {},
   "source": [
    "## LogisticRegression"
   ]
  },
  {
   "cell_type": "code",
   "execution_count": 20,
   "id": "9df6af57",
   "metadata": {},
   "outputs": [],
   "source": [
    "import numpy as np\n",
    "import pandas as pd\n",
    "from sklearn.model_selection import train_test_split\n",
    "from sklearn.linear_model import LogisticRegression\n",
    "from sklearn.metrics import accuracy_score, classification_report\n",
    "from sklearn.model_selection import GridSearchCV\n",
    "\n",
    "# Load the Breast Cancer Wisconsin dataset or your own dataset\n",
    "# Replace 'data_file.csv' with your dataset file path\n",
    "data = data_cleaned\n",
    "\n",
    "# Separate data into features (X) and target labels (y)\n",
    "X = data.drop('Class', axis=1)\n",
    "y = data['Class']\n",
    "\n",
    "# Split the dataset into a training set and a testing set\n",
    "X_train, X_test, y_train, y_test = train_test_split(X, y, test_size=0.4, random_state=13, stratify=y)\n",
    "\n",
    "# Create a Logistic Regression classifier\n",
    "logistic_classifier = LogisticRegression( max_iter=500)\n",
    "\n",
    "# Define a dictionary of hyperparameters and their possible values\n",
    "param_grid = {\n",
    "    'penalty': ['l1', 'l2'],\n",
    "    'C': [0.001, 0.01, 0.1, 1, 10],\n",
    "    'solver': ['liblinear', 'saga','newton-cholesky','sag'],\n",
    "    'class_weight': [None, 'balanced']\n",
    "}\n"
   ]
  },
  {
   "cell_type": "code",
   "execution_count": 21,
   "id": "7ba4cd66",
   "metadata": {},
   "outputs": [
    {
     "name": "stdout",
     "output_type": "stream",
     "text": [
      "Best Hyperparameters: {'C': 0.01, 'class_weight': None, 'penalty': 'l2', 'solver': 'saga'}\n",
      "Best Cross-Validated Accuracy: 0.9681722372779283\n"
     ]
    }
   ],
   "source": [
    "# Create a GridSearchCV object with the logistic classifier and hyperparameter grid\n",
    "grid_search = GridSearchCV(logistic_classifier, param_grid, cv=5, scoring='accuracy')\n",
    "\n",
    "# Fit the GridSearchCV object to the training data to find the best hyperparameters\n",
    "grid_search.fit(X_train, y_train)\n",
    "\n",
    "# Print the best hyperparameters and the corresponding cross-validated score\n",
    "print(\"Best Hyperparameters:\", grid_search.best_params_)\n",
    "print(\"Best Cross-Validated Accuracy:\", grid_search.best_score_)"
   ]
  },
  {
   "cell_type": "code",
   "execution_count": null,
   "id": "3f431388",
   "metadata": {},
   "outputs": [],
   "source": []
  },
  {
   "cell_type": "code",
   "execution_count": 22,
   "id": "89e77e07",
   "metadata": {},
   "outputs": [
    {
     "name": "stdout",
     "output_type": "stream",
     "text": [
      "Cross-Validation Scores (Accuracy): [0.96350365 0.95620438 0.97810219 0.96323529 0.95588235]\n",
      "Mean Accuracy: 0.963385573207385\n",
      "Standard Deviation: 0.008055844906130632\n"
     ]
    }
   ],
   "source": [
    "\n",
    "# Create a Logistic Regression classifier\n",
    "logistic_classifier = LogisticRegression(C= 0.01, class_weight= None, penalty= \"l2\", solver= 'saga')\n",
    "\n",
    "# Perform k-fold cross-validation ( k=5)\n",
    "n_splits = 5\n",
    "num_folds = StratifiedKFold(n_splits=n_splits, shuffle=True, random_state=4)\n",
    "cv_scores = cross_val_score(logistic_classifier, X, y, cv=num_folds, scoring='accuracy')\n",
    "\n",
    "# Print cross-validation results\n",
    "meanAcc = np.mean(cv_scores)\n",
    "maxAcc = 0\n",
    "for i, score in enumerate(cv_scores):\n",
    "    if maxAcc < score:\n",
    "        maxAcc = score\n",
    "        \n",
    "percent = (meanAcc-maxAcc) * 100\n",
    "\n",
    "print(f\"Cross-Validation Scores (Accuracy): {cv_scores}\")\n",
    "print(f\"Mean Accuracy: {meanAcc}\")\n",
    "print(f\"Standard Deviation: {np.std(cv_scores)}\")"
   ]
  },
  {
   "cell_type": "code",
   "execution_count": 23,
   "id": "62fa46a7",
   "metadata": {
    "scrolled": true
   },
   "outputs": [
    {
     "name": "stdout",
     "output_type": "stream",
     "text": [
      "Accuracy: 0.9708029197080292\n",
      "Classification Report:\n",
      "              precision    recall  f1-score   support\n",
      "\n",
      "           2       0.98      0.98      0.98       178\n",
      "           4       0.96      0.96      0.96        96\n",
      "\n",
      "    accuracy                           0.97       274\n",
      "   macro avg       0.97      0.97      0.97       274\n",
      "weighted avg       0.97      0.97      0.97       274\n",
      "\n"
     ]
    }
   ],
   "source": [
    "# Fit the classifier to the training data\n",
    "logistic_classifier.fit(X_train, y_train)\n",
    "\n",
    "# Make predictions on the test data\n",
    "y_pred = logistic_classifier.predict(X_test)\n",
    "\n",
    "# Evaluate the model\n",
    "accuracy = accuracy_score(y_test, y_pred)\n",
    "classification_rep = classification_report(y_test, y_pred)\n",
    "\n",
    "print(f\"Accuracy: {accuracy}\")\n",
    "print(\"Classification Report:\")\n",
    "print(classification_rep)"
   ]
  },
  {
   "cell_type": "code",
   "execution_count": null,
   "id": "0a3a369d",
   "metadata": {},
   "outputs": [],
   "source": []
  },
  {
   "cell_type": "markdown",
   "id": "50319400",
   "metadata": {},
   "source": [
    "## SVC"
   ]
  },
  {
   "cell_type": "code",
   "execution_count": 24,
   "id": "5403bda6",
   "metadata": {},
   "outputs": [],
   "source": [
    "import numpy as np\n",
    "import pandas as pd\n",
    "from sklearn.model_selection import cross_val_score, train_test_split\n",
    "from sklearn.svm import SVC\n",
    "from sklearn.metrics import accuracy_score, classification_report\n",
    "\n",
    "# Load the Breast Cancer Wisconsin dataset or your own dataset\n",
    "# Replace 'data_file.csv' with your dataset file path\n",
    "data = data_cleaned\n",
    "\n",
    "# Separate data into features (X) and target labels (y)\n",
    "X = data.drop('Class', axis=1)\n",
    "y = data['Class']\n",
    "\n",
    "# Split the dataset into a training set and a testing set\n",
    "X_train, X_test, y_train, y_test = train_test_split(X, y, test_size=0.4, random_state=13, stratify=y)\n",
    "\n",
    "# Create an SVM classifier\n",
    "svc_classifier = SVC()  # You can choose different kernels such as 'linear', 'rbf', or 'poly'\n",
    "\n",
    "# Define a dictionary of hyperparameters and their possible values\n",
    "param_grid = {\n",
    "    'C': [0.01, 0.1, 1, 10],\n",
    "    'kernel': ['linear', 'rbf'],\n",
    "    'gamma': [0.01, 0.1, 1, 'scale', 'auto'],\n",
    "    'class_weight': ['balanced', None],\n",
    "    'probability': [True, False]\n",
    "}"
   ]
  },
  {
   "cell_type": "code",
   "execution_count": 25,
   "id": "2d90b76d",
   "metadata": {},
   "outputs": [
    {
     "name": "stdout",
     "output_type": "stream",
     "text": [
      "Best Hyperparameters: {'C': 0.01, 'class_weight': 'balanced', 'gamma': 0.01, 'kernel': 'linear', 'probability': True}\n",
      "Best Cross-Validated Accuracy: 0.970581150255947\n"
     ]
    }
   ],
   "source": [
    "# Create a GridSearchCV object with the SVC classifier and hyperparameter grid\n",
    "grid_search = GridSearchCV(svc_classifier, param_grid, cv=5, scoring='accuracy')\n",
    "\n",
    "# Fit the GridSearchCV object to the training data to find the best hyperparameters\n",
    "grid_search.fit(X_train, y_train)\n",
    "\n",
    "# Print the best hyperparameters and the corresponding cross-validated score\n",
    "print(\"Best Hyperparameters:\", grid_search.best_params_)\n",
    "print(\"Best Cross-Validated Accuracy:\", grid_search.best_score_)"
   ]
  },
  {
   "cell_type": "code",
   "execution_count": 26,
   "id": "db8c2154",
   "metadata": {},
   "outputs": [
    {
     "name": "stdout",
     "output_type": "stream",
     "text": [
      "Cross-Validation Scores (Accuracy): [0.95620438 0.94890511 0.98540146 0.98529412 0.97794118]\n",
      "Mean Accuracy: 0.9707492486045514\n",
      "Standard Deviation: 0.015275365563899886\n"
     ]
    }
   ],
   "source": [
    "svc_classifier = SVC(C=0.01, class_weight = 'balanced', gamma = 0.01, kernel='linear', probability= True)\n",
    "# Perform 5-fold cross-validation on the training data\n",
    "num_folds = 5\n",
    "cv_scores = cross_val_score(svc_classifier, X, y, cv=num_folds)\n",
    "\n",
    "# Print cross-validation results\n",
    "meanAcc = np.mean(cv_scores)\n",
    "maxAcc = 0\n",
    "for i, score in enumerate(cv_scores):\n",
    "    if maxAcc < score:\n",
    "        maxAcc = score\n",
    "        \n",
    "percent = (meanAcc-maxAcc) * 100\n",
    "\n",
    "print(f\"Cross-Validation Scores (Accuracy): {cv_scores}\")\n",
    "print(f\"Mean Accuracy: {meanAcc}\")\n",
    "print(f\"Standard Deviation: {np.std(cv_scores)}\")\n"
   ]
  },
  {
   "cell_type": "markdown",
   "id": "59739f96",
   "metadata": {},
   "source": [
    " class sklearn.svm.SVC(*, C=1.0, kernel='rbf', degree=3, gamma='scale', coef0=0.0, shrinking=True, probability=False, tol=0.001, cache_size=200, class_weight=None, verbose=False, max_iter=-1, decision_function_shape='ovr', break_ties=False, random_state=None)"
   ]
  },
  {
   "cell_type": "code",
   "execution_count": 27,
   "id": "af7bfc8b",
   "metadata": {},
   "outputs": [
    {
     "name": "stdout",
     "output_type": "stream",
     "text": [
      "Accuracy: 0.9817518248175182\n",
      "Classification Report:\n",
      "              precision    recall  f1-score   support\n",
      "\n",
      "           2       1.00      0.97      0.99       178\n",
      "           4       0.95      1.00      0.97        96\n",
      "\n",
      "    accuracy                           0.98       274\n",
      "   macro avg       0.98      0.99      0.98       274\n",
      "weighted avg       0.98      0.98      0.98       274\n",
      "\n"
     ]
    }
   ],
   "source": [
    "# Fit the classifier to the training data\n",
    "svc_classifier.fit(X_train, y_train)\n",
    "\n",
    "# Make predictions on the test data\n",
    "y_pred = svc_classifier.predict(X_test)\n",
    "\n",
    "# Evaluate the model\n",
    "accuracy = accuracy_score(y_test, y_pred)\n",
    "classification_rep = classification_report(y_test, y_pred)\n",
    "\n",
    "print(f\"Accuracy: {accuracy}\")\n",
    "print(\"Classification Report:\")\n",
    "print(classification_rep)"
   ]
  },
  {
   "cell_type": "code",
   "execution_count": null,
   "id": "7ccafa81",
   "metadata": {},
   "outputs": [],
   "source": []
  },
  {
   "cell_type": "code",
   "execution_count": null,
   "id": "3e173f92",
   "metadata": {},
   "outputs": [],
   "source": []
  },
  {
   "cell_type": "code",
   "execution_count": null,
   "id": "d209d3e0",
   "metadata": {},
   "outputs": [],
   "source": []
  },
  {
   "cell_type": "code",
   "execution_count": null,
   "id": "cb2c4045",
   "metadata": {},
   "outputs": [],
   "source": []
  },
  {
   "cell_type": "code",
   "execution_count": null,
   "id": "4fbd7bae",
   "metadata": {},
   "outputs": [],
   "source": [
    "# Import necessary libraries\n",
    "from sklearn.linear_model import LogisticRegression\n",
    "from sklearn.model_selection import StratifiedKFold, RandomizedSearchCV, cross_val_score\n",
    "import numpy as np\n",
    "\n",
    "# Create an instance of the Logistic Regression Classifier\n",
    "logistic_model = LogisticRegression()\n",
    "\n",
    "# Specify the number of cross-validation folds (K) - e.g., 5-fold cross-validation\n",
    "n_splits = 5\n",
    "cv = StratifiedKFold(n_splits=n_splits, shuffle=True, random_state=4)\n",
    "\n",
    "# Define the hyperparameter grid for RandomizedSearchCV\n",
    "param_dist = {\n",
    "    'C': [0.1, 1, 10],  # Inverse of regularization strength\n",
    "    'penalty': ['l1', 'l2'],  # Regularization type\n",
    "    'solver': ['liblinear', 'saga'],  # Algorithm to use in the optimization problem\n",
    "    'max_iter': [100, 200, 300],  # Maximum number of iterations for the solver\n",
    "    'random_state': [13]  # Random seed for reproducibility\n",
    "}\n",
    "\n",
    "# Create RandomizedSearchCV with the Logistic Regression model and parameter grid\n",
    "random_search = RandomizedSearchCV(\n",
    "    logistic_model,\n",
    "    param_distributions=param_dist,\n",
    "    n_iter=500,  # Number of random combinations to try\n",
    "    cv=cv,\n",
    "    scoring='accuracy',\n",
    "    random_state=13,\n",
    "    n_jobs=-1  # Use all available CPU cores for parallel processing\n",
    ")\n",
    "\n",
    "# Perform Randomized Search to find the best hyperparameters\n",
    "random_search.fit(X, y)\n",
    "\n",
    "# Get the best hyperparameters\n",
    "best_params = random_search.best_params_\n",
    "print(\"Best Hyperparameters:\", best_params)\n",
    "\n",
    "# Train the Logistic Regression model with the best hyperparameters\n",
    "best_logistic_model = LogisticRegression(**best_params)\n",
    "\n",
    "# Perform K-fold cross-validation and get the classification scores\n",
    "scores = cross_val_score(best_logistic_model, X, y, cv=cv, scoring='accuracy')\n",
    "\n",
    "# Print the accuracy for each fold\n",
    "print(\"Cross-Validation Accuracy Scores:\")\n",
    "for i, score in enumerate(scores):\n",
    "    print(f\"Fold {i+1}: {score:.6f}\")\n",
    "\n",
    "# Calculate and print the mean accuracy and standard deviation\n",
    "mean_accuracy = np.mean(scores)\n",
    "std_accuracy = np.std(scores)\n",
    "print(f\"Mean Accuracy: {mean_accuracy:.6f}\")\n",
    "print(f\"Standard Deviation: {std_accuracy:.6f}\")\n"
   ]
  },
  {
   "cell_type": "code",
   "execution_count": null,
   "id": "9b216321",
   "metadata": {},
   "outputs": [],
   "source": [
    "from sklearn.model_selection import cross_val_predict\n",
    "\n",
    "\n",
    "# Initialize lists to store precision and recall values for each fold\n",
    "precision_per_fold = []\n",
    "recall_per_fold = []\n",
    "\n",
    "# Perform K-fold cross-validation and get the predicted labels for each fold\n",
    "predicted_labels = cross_val_predict(best_logistic_model, X, y, cv=cv)\n",
    "\n",
    "# Calculate and print accuracy, precision, and recall for each fold and class\n",
    "print(\"Cross-Validation Metrics:\")\n",
    "for i, (train_idx, test_idx) in enumerate(cv.split(X, y)):\n",
    "    accuracy = accuracy_score(y[test_idx], predicted_labels[test_idx])\n",
    "    precision = precision_score(y[test_idx], predicted_labels[test_idx], average=None)\n",
    "    recall = recall_score(y[test_idx], predicted_labels[test_idx], average=None)\n",
    "    \n",
    "    print(f\"Fold {i + 1}:\")\n",
    "    print(f\"  Accuracy: {accuracy:.6f}\")\n",
    "    \n",
    "    for class_idx, (prec, rec) in enumerate(zip(precision, recall)):\n",
    "        print(f\"  Class {class_idx + 1}:\")\n",
    "        print(f\"    Precision: {prec:.6f}\")\n",
    "        print(f\"    Recall: {rec:.6f}\")\n",
    "        print()\n",
    "    \n",
    "    # Append precision and recall values for this fold to the lists\n",
    "    precision_per_fold.append(precision)\n",
    "    recall_per_fold.append(recall)\n",
    "\n",
    "# Calculate and print the mean accuracy, precision, and recall across all folds\n",
    "mean_accuracy = np.mean(scores)\n",
    "\n",
    "# Calculate mean precision and recall for each class\n",
    "mean_precision_per_class = np.mean(precision_per_fold, axis=0)\n",
    "mean_recall_per_class = np.mean(recall_per_fold, axis=0)\n",
    "\n",
    "# Calculate standard deviation of accuracy, precision, and recall across folds\n",
    "std_accuracy = np.std(scores)\n",
    "std_precision_per_class = np.std(precision_per_fold, axis=0)\n",
    "std_recall_per_class = np.std(recall_per_fold, axis=0)\n",
    "\n",
    "print(\"Mean Metrics:\")\n",
    "print(f\"Mean Accuracy: {mean_accuracy:.6f}\")\n",
    "\n",
    "for class_idx, (mean_prec, mean_rec) in enumerate(zip(mean_precision_per_class, mean_recall_per_class)):\n",
    "    print(f\"Class {class_idx + 1}:\")\n",
    "    print(f\"  Mean Precision: {mean_prec:.6f}\")\n",
    "    print(f\"  Mean Recall: {mean_rec:.6f}\")\n",
    "    print()\n",
    "\n",
    "print(\"Standard Deviation Metrics:\")\n",
    "print(f\"Standard Deviation Accuracy: {std_accuracy:.6f}\")\n",
    "\n",
    "for class_idx, (std_prec, std_rec) in enumerate(zip(std_precision_per_class, std_recall_per_class)):\n",
    "    print(f\"Class {class_idx + 1}:\")\n",
    "    print(f\"  Standard Deviation Precision: {std_prec:.6f}\")\n",
    "    print(f\"  Standard Deviation Recall: {std_rec:.6f}\")\n"
   ]
  },
  {
   "cell_type": "code",
   "execution_count": null,
   "id": "2644407d",
   "metadata": {},
   "outputs": [],
   "source": []
  },
  {
   "cell_type": "code",
   "execution_count": null,
   "id": "8fb9fb6b",
   "metadata": {},
   "outputs": [],
   "source": [
    "# Import necessary libraries\n",
    "from sklearn.svm import SVC\n",
    "from sklearn.model_selection import StratifiedKFold, RandomizedSearchCV, cross_val_score\n",
    "import numpy as np\n",
    "\n",
    "# Create an instance of the SVC Classifier\n",
    "svc_model = SVC()\n",
    "\n",
    "# Specify the number of cross-validation folds (K) - e.g., 5-fold cross-validation\n",
    "n_splits = 5\n",
    "cv = StratifiedKFold(n_splits=n_splits, shuffle=True, random_state=4)\n",
    "\n",
    "# Define the hyperparameter grid for RandomizedSearchCV\n",
    "param_dist = {\n",
    "    'C': [0.1, 1, 10],  # Regularization parameter\n",
    "    'kernel': ['linear', 'poly', 'rbf', 'sigmoid'],  # Kernel type\n",
    "    'degree': [2, 3, 4],  # Degree of the polynomial kernel (only for 'poly' kernel)\n",
    "    'gamma': ['scale', 'auto'] + [0.001, 0.01, 0.1, 1, 10],  # Kernel coefficient for 'rbf', 'poly', and 'sigmoid' kernels\n",
    "    'shrinking': [True, False],  # Whether to use the shrinking heuristic\n",
    "    'class_weight': [None, 'balanced'],  # Weights associated with classes\n",
    "    'decision_function_shape': ['ovr', 'ovo'],  # Decision function shape\n",
    "    'random_state': [42]  # Random seed for reproducibility\n",
    "}\n",
    "\n",
    "# Create RandomizedSearchCV with the SVC model and parameter grid\n",
    "random_search = RandomizedSearchCV(\n",
    "    svc_model,\n",
    "    param_distributions=param_dist,\n",
    "    n_iter=10,  # Number of random combinations to try\n",
    "    cv=cv,\n",
    "    scoring='accuracy',\n",
    "    random_state=42,\n",
    "    n_jobs=-1  # Use all available CPU cores for parallel processing\n",
    ")\n",
    "\n",
    "# Perform Randomized Search to find the best hyperparameters\n",
    "random_search.fit(X, y)\n",
    "\n",
    "# Get the best hyperparameters\n",
    "best_params = random_search.best_params_\n",
    "print(\"Best Hyperparameters:\", best_params)\n",
    "\n",
    "# Train the SVC model with the best hyperparameters\n",
    "best_svc_model = SVC(**best_params)\n",
    "\n",
    "# Perform K-fold cross-validation and get the classification scores\n",
    "scores = cross_val_score(best_svc_model, X, y, cv=cv, scoring='accuracy')\n",
    "\n",
    "# Print the accuracy for each fold\n",
    "print(\"Cross-Validation Accuracy Scores:\")\n",
    "for i, score in enumerate(scores):\n",
    "    print(f\"Fold {i+1}: {score:.6f}\")\n",
    "\n",
    "# Calculate and print the mean accuracy and standard deviation\n",
    "mean_accuracy = np.mean(scores)\n",
    "std_accuracy = np.std(scores)\n",
    "print(f\"Mean Accuracy: {mean_accuracy:.6f}\")\n",
    "print(f\"Standard Deviation: {std_accuracy:.6f}\")\n"
   ]
  },
  {
   "cell_type": "code",
   "execution_count": null,
   "id": "e7e1e89f",
   "metadata": {},
   "outputs": [],
   "source": []
  }
 ],
 "metadata": {
  "kernelspec": {
   "display_name": "Python 3 (ipykernel)",
   "language": "python",
   "name": "python3"
  },
  "language_info": {
   "codemirror_mode": {
    "name": "ipython",
    "version": 3
   },
   "file_extension": ".py",
   "mimetype": "text/x-python",
   "name": "python",
   "nbconvert_exporter": "python",
   "pygments_lexer": "ipython3",
   "version": "3.9.12"
  }
 },
 "nbformat": 4,
 "nbformat_minor": 5
}
