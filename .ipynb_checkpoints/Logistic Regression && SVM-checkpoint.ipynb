{
 "cells": [
  {
   "cell_type": "code",
   "execution_count": 1,
   "id": "44cf6859",
   "metadata": {},
   "outputs": [],
   "source": [
    "import numpy as np\n",
    "import pandas as pd\n",
    "import seaborn as sns\n",
    "import matplotlib.pyplot as plt\n",
    "from sklearn.metrics import classification_report, confusion_matrix,accuracy_score\n",
    "from sklearn.metrics import precision_score, recall_score, accuracy_score\n",
    "from sklearn.model_selection import cross_val_predict\n",
    "from sklearn.model_selection import train_test_split, cross_val_score, StratifiedKFold, RandomizedSearchCV\n",
    "from sklearn.neighbors import KNeighborsClassifier\n",
    "from sklearn.naive_bayes import GaussianNB\n",
    "from sklearn.svm import SVC\n",
    "from sklearn.linear_model import LogisticRegression\n",
    "import warnings\n",
    "\n",
    "# To ignore all warnings, set the filter to \"ignore\"\n",
    "warnings.filterwarnings(\"ignore\")"
   ]
  },
  {
   "cell_type": "code",
   "execution_count": 2,
   "id": "88467c09",
   "metadata": {
    "scrolled": true
   },
   "outputs": [
    {
     "data": {
      "text/html": [
       "<div>\n",
       "<style scoped>\n",
       "    .dataframe tbody tr th:only-of-type {\n",
       "        vertical-align: middle;\n",
       "    }\n",
       "\n",
       "    .dataframe tbody tr th {\n",
       "        vertical-align: top;\n",
       "    }\n",
       "\n",
       "    .dataframe thead th {\n",
       "        text-align: right;\n",
       "    }\n",
       "</style>\n",
       "<table border=\"1\" class=\"dataframe\">\n",
       "  <thead>\n",
       "    <tr style=\"text-align: right;\">\n",
       "      <th></th>\n",
       "      <th>Sample_Code_Number</th>\n",
       "      <th>Clump_Thickness</th>\n",
       "      <th>Uniformity_of_Cell_Size</th>\n",
       "      <th>Uniformity_of_Cell_Shape</th>\n",
       "      <th>Marginal_Adhesion</th>\n",
       "      <th>Single_Epithelial_Cell_Size</th>\n",
       "      <th>Bare_Nuclei</th>\n",
       "      <th>Bland_Chromatin</th>\n",
       "      <th>Normal_Nucleoli</th>\n",
       "      <th>Mitoses</th>\n",
       "      <th>Class</th>\n",
       "    </tr>\n",
       "  </thead>\n",
       "  <tbody>\n",
       "    <tr>\n",
       "      <th>0</th>\n",
       "      <td>1000025</td>\n",
       "      <td>5</td>\n",
       "      <td>1</td>\n",
       "      <td>1</td>\n",
       "      <td>1</td>\n",
       "      <td>2</td>\n",
       "      <td>1</td>\n",
       "      <td>3</td>\n",
       "      <td>1</td>\n",
       "      <td>1</td>\n",
       "      <td>2</td>\n",
       "    </tr>\n",
       "    <tr>\n",
       "      <th>1</th>\n",
       "      <td>1002945</td>\n",
       "      <td>5</td>\n",
       "      <td>4</td>\n",
       "      <td>4</td>\n",
       "      <td>5</td>\n",
       "      <td>7</td>\n",
       "      <td>10</td>\n",
       "      <td>3</td>\n",
       "      <td>2</td>\n",
       "      <td>1</td>\n",
       "      <td>2</td>\n",
       "    </tr>\n",
       "    <tr>\n",
       "      <th>2</th>\n",
       "      <td>1015425</td>\n",
       "      <td>3</td>\n",
       "      <td>1</td>\n",
       "      <td>1</td>\n",
       "      <td>1</td>\n",
       "      <td>2</td>\n",
       "      <td>2</td>\n",
       "      <td>3</td>\n",
       "      <td>1</td>\n",
       "      <td>1</td>\n",
       "      <td>2</td>\n",
       "    </tr>\n",
       "    <tr>\n",
       "      <th>3</th>\n",
       "      <td>1016277</td>\n",
       "      <td>6</td>\n",
       "      <td>8</td>\n",
       "      <td>8</td>\n",
       "      <td>1</td>\n",
       "      <td>3</td>\n",
       "      <td>4</td>\n",
       "      <td>3</td>\n",
       "      <td>7</td>\n",
       "      <td>1</td>\n",
       "      <td>2</td>\n",
       "    </tr>\n",
       "    <tr>\n",
       "      <th>4</th>\n",
       "      <td>1017023</td>\n",
       "      <td>4</td>\n",
       "      <td>1</td>\n",
       "      <td>1</td>\n",
       "      <td>3</td>\n",
       "      <td>2</td>\n",
       "      <td>1</td>\n",
       "      <td>3</td>\n",
       "      <td>1</td>\n",
       "      <td>1</td>\n",
       "      <td>2</td>\n",
       "    </tr>\n",
       "  </tbody>\n",
       "</table>\n",
       "</div>"
      ],
      "text/plain": [
       "   Sample_Code_Number  Clump_Thickness  Uniformity_of_Cell_Size  \\\n",
       "0             1000025                5                        1   \n",
       "1             1002945                5                        4   \n",
       "2             1015425                3                        1   \n",
       "3             1016277                6                        8   \n",
       "4             1017023                4                        1   \n",
       "\n",
       "   Uniformity_of_Cell_Shape  Marginal_Adhesion  Single_Epithelial_Cell_Size  \\\n",
       "0                         1                  1                            2   \n",
       "1                         4                  5                            7   \n",
       "2                         1                  1                            2   \n",
       "3                         8                  1                            3   \n",
       "4                         1                  3                            2   \n",
       "\n",
       "  Bare_Nuclei  Bland_Chromatin  Normal_Nucleoli  Mitoses  Class  \n",
       "0           1                3                1        1      2  \n",
       "1          10                3                2        1      2  \n",
       "2           2                3                1        1      2  \n",
       "3           4                3                7        1      2  \n",
       "4           1                3                1        1      2  "
      ]
     },
     "execution_count": 2,
     "metadata": {},
     "output_type": "execute_result"
    }
   ],
   "source": [
    "# Specify the path to the downloaded dataset file on your local machine\n",
    "file_path = \"breast+cancer+wisconsin+original/breast-cancer-wisconsin.data\"\n",
    "\n",
    "# Define column names for the dataset\n",
    "column_names = [\"Sample_Code_Number\", \"Clump_Thickness\", \"Uniformity_of_Cell_Size\", \"Uniformity_of_Cell_Shape\",\n",
    "                \"Marginal_Adhesion\", \"Single_Epithelial_Cell_Size\", \"Bare_Nuclei\", \"Bland_Chromatin\", \"Normal_Nucleoli\",\n",
    "                \"Mitoses\", \"Class\"]\n",
    "\n",
    "# Read the dataset file into a pandas DataFrame\n",
    "df = pd.read_csv(file_path, names=column_names)\n",
    "\n",
    "# Display the first few rows of the DataFrame to verify the data loading\n",
    "df.head()"
   ]
  },
  {
   "cell_type": "code",
   "execution_count": 3,
   "id": "1db9f099",
   "metadata": {
    "scrolled": true
   },
   "outputs": [
    {
     "data": {
      "text/plain": [
       "2    458\n",
       "4    241\n",
       "Name: Class, dtype: int64"
      ]
     },
     "execution_count": 3,
     "metadata": {},
     "output_type": "execute_result"
    }
   ],
   "source": [
    "df.Class.value_counts()"
   ]
  },
  {
   "cell_type": "code",
   "execution_count": 4,
   "id": "fe87efdb",
   "metadata": {
    "scrolled": true
   },
   "outputs": [
    {
     "data": {
      "text/plain": [
       "Sample_Code_Number             0\n",
       "Clump_Thickness                0\n",
       "Uniformity_of_Cell_Size        0\n",
       "Uniformity_of_Cell_Shape       0\n",
       "Marginal_Adhesion              0\n",
       "Single_Epithelial_Cell_Size    0\n",
       "Bare_Nuclei                    0\n",
       "Bland_Chromatin                0\n",
       "Normal_Nucleoli                0\n",
       "Mitoses                        0\n",
       "Class                          0\n",
       "dtype: int64"
      ]
     },
     "execution_count": 4,
     "metadata": {},
     "output_type": "execute_result"
    }
   ],
   "source": [
    "df.isna().sum()"
   ]
  },
  {
   "cell_type": "code",
   "execution_count": 5,
   "id": "985e7d51",
   "metadata": {
    "scrolled": true
   },
   "outputs": [
    {
     "data": {
      "text/plain": [
       "['Sample_Code_Number',\n",
       " 'Clump_Thickness',\n",
       " 'Uniformity_of_Cell_Size',\n",
       " 'Uniformity_of_Cell_Shape',\n",
       " 'Marginal_Adhesion',\n",
       " 'Single_Epithelial_Cell_Size',\n",
       " 'Bare_Nuclei',\n",
       " 'Bland_Chromatin',\n",
       " 'Normal_Nucleoli',\n",
       " 'Mitoses',\n",
       " 'Class']"
      ]
     },
     "execution_count": 5,
     "metadata": {},
     "output_type": "execute_result"
    }
   ],
   "source": [
    "list = df.columns.tolist\n",
    "list()"
   ]
  },
  {
   "cell_type": "code",
   "execution_count": 6,
   "id": "7edd0f4b",
   "metadata": {
    "scrolled": true
   },
   "outputs": [
    {
     "data": {
      "text/plain": [
       "1     145\n",
       "2      50\n",
       "3     108\n",
       "4      80\n",
       "5     130\n",
       "6      34\n",
       "7      23\n",
       "8      46\n",
       "9      14\n",
       "10     69\n",
       "Name: Clump_Thickness, dtype: int64"
      ]
     },
     "execution_count": 6,
     "metadata": {},
     "output_type": "execute_result"
    }
   ],
   "source": [
    "df.Clump_Thickness.value_counts().sort_index(ascending=True)"
   ]
  },
  {
   "cell_type": "code",
   "execution_count": 7,
   "id": "e17b74d6",
   "metadata": {
    "scrolled": true
   },
   "outputs": [
    {
     "data": {
      "text/plain": [
       "1     384\n",
       "2      45\n",
       "3      52\n",
       "4      40\n",
       "5      30\n",
       "6      27\n",
       "7      19\n",
       "8      29\n",
       "9       6\n",
       "10     67\n",
       "Name: Uniformity_of_Cell_Size, dtype: int64"
      ]
     },
     "execution_count": 7,
     "metadata": {},
     "output_type": "execute_result"
    }
   ],
   "source": [
    "df.Uniformity_of_Cell_Size.value_counts().sort_index(ascending=True)"
   ]
  },
  {
   "cell_type": "code",
   "execution_count": 8,
   "id": "d4b2e0d3",
   "metadata": {
    "scrolled": true
   },
   "outputs": [
    {
     "data": {
      "text/plain": [
       "1     353\n",
       "2      59\n",
       "3      56\n",
       "4      44\n",
       "5      34\n",
       "6      30\n",
       "7      30\n",
       "8      28\n",
       "9       7\n",
       "10     58\n",
       "Name: Uniformity_of_Cell_Shape, dtype: int64"
      ]
     },
     "execution_count": 8,
     "metadata": {},
     "output_type": "execute_result"
    }
   ],
   "source": [
    "df.Uniformity_of_Cell_Shape.value_counts().sort_index(ascending=True)"
   ]
  },
  {
   "cell_type": "code",
   "execution_count": 9,
   "id": "1f5011e5",
   "metadata": {},
   "outputs": [
    {
     "data": {
      "text/plain": [
       "1     407\n",
       "2      58\n",
       "3      58\n",
       "4      33\n",
       "5      23\n",
       "6      22\n",
       "7      13\n",
       "8      25\n",
       "9       5\n",
       "10     55\n",
       "Name: Marginal_Adhesion, dtype: int64"
      ]
     },
     "execution_count": 9,
     "metadata": {},
     "output_type": "execute_result"
    }
   ],
   "source": [
    "df.Marginal_Adhesion.value_counts().sort_index(ascending=True)"
   ]
  },
  {
   "cell_type": "code",
   "execution_count": 10,
   "id": "ff7e7e37",
   "metadata": {},
   "outputs": [
    {
     "data": {
      "text/plain": [
       "1      47\n",
       "2     386\n",
       "3      72\n",
       "4      48\n",
       "5      39\n",
       "6      41\n",
       "7      12\n",
       "8      21\n",
       "9       2\n",
       "10     31\n",
       "Name: Single_Epithelial_Cell_Size, dtype: int64"
      ]
     },
     "execution_count": 10,
     "metadata": {},
     "output_type": "execute_result"
    }
   ],
   "source": [
    "df.Single_Epithelial_Cell_Size.value_counts().sort_index(ascending=True)"
   ]
  },
  {
   "cell_type": "code",
   "execution_count": 11,
   "id": "9a26648c",
   "metadata": {},
   "outputs": [
    {
     "data": {
      "text/plain": [
       "1     402\n",
       "10    132\n",
       "2      30\n",
       "3      28\n",
       "4      19\n",
       "5      30\n",
       "6       4\n",
       "7       8\n",
       "8      21\n",
       "9       9\n",
       "?      16\n",
       "Name: Bare_Nuclei, dtype: int64"
      ]
     },
     "execution_count": 11,
     "metadata": {},
     "output_type": "execute_result"
    }
   ],
   "source": [
    "df.Bare_Nuclei.value_counts().sort_index(ascending=True)"
   ]
  },
  {
   "cell_type": "code",
   "execution_count": 12,
   "id": "257ce096",
   "metadata": {},
   "outputs": [
    {
     "data": {
      "text/plain": [
       "1     152\n",
       "2     166\n",
       "3     165\n",
       "4      40\n",
       "5      34\n",
       "6      10\n",
       "7      73\n",
       "8      28\n",
       "9      11\n",
       "10     20\n",
       "Name: Bland_Chromatin, dtype: int64"
      ]
     },
     "execution_count": 12,
     "metadata": {},
     "output_type": "execute_result"
    }
   ],
   "source": [
    "df.Bland_Chromatin.value_counts().sort_index(ascending=True)"
   ]
  },
  {
   "cell_type": "code",
   "execution_count": 13,
   "id": "12bb2b95",
   "metadata": {},
   "outputs": [
    {
     "data": {
      "text/plain": [
       "1     443\n",
       "2      36\n",
       "3      44\n",
       "4      18\n",
       "5      19\n",
       "6      22\n",
       "7      16\n",
       "8      24\n",
       "9      16\n",
       "10     61\n",
       "Name: Normal_Nucleoli, dtype: int64"
      ]
     },
     "execution_count": 13,
     "metadata": {},
     "output_type": "execute_result"
    }
   ],
   "source": [
    "df.Normal_Nucleoli.value_counts().sort_index(ascending=True)"
   ]
  },
  {
   "cell_type": "code",
   "execution_count": 14,
   "id": "cf362b31",
   "metadata": {},
   "outputs": [
    {
     "data": {
      "text/plain": [
       "1     579\n",
       "2      35\n",
       "3      33\n",
       "4      12\n",
       "5       6\n",
       "6       3\n",
       "7       9\n",
       "8       8\n",
       "10     14\n",
       "Name: Mitoses, dtype: int64"
      ]
     },
     "execution_count": 14,
     "metadata": {},
     "output_type": "execute_result"
    }
   ],
   "source": [
    "df.Mitoses.value_counts().sort_index(ascending=True)"
   ]
  },
  {
   "cell_type": "code",
   "execution_count": 15,
   "id": "4a4d38d0",
   "metadata": {},
   "outputs": [
    {
     "data": {
      "text/plain": [
       "2    458\n",
       "4    241\n",
       "Name: Class, dtype: int64"
      ]
     },
     "execution_count": 15,
     "metadata": {},
     "output_type": "execute_result"
    }
   ],
   "source": [
    "df.Class.value_counts().sort_index(ascending=True)"
   ]
  },
  {
   "cell_type": "code",
   "execution_count": 16,
   "id": "76d1c0e1",
   "metadata": {},
   "outputs": [],
   "source": [
    "# Remove rows with missing values ('?') in the \"Bare Nuclei\" column\n",
    "df = df[df['Bare_Nuclei'] != '?']\n",
    "\n",
    "# Reset the index of the DataFrame after removing rows\n",
    "df = df.reset_index(drop=True)"
   ]
  },
  {
   "cell_type": "code",
   "execution_count": 17,
   "id": "6961752e",
   "metadata": {},
   "outputs": [
    {
     "name": "stdout",
     "output_type": "stream",
     "text": [
      "1     402\n",
      "10    132\n",
      "2      30\n",
      "5      30\n",
      "3      28\n",
      "8      21\n",
      "4      19\n",
      "9       9\n",
      "7       8\n",
      "6       4\n",
      "Name: Bare_Nuclei, dtype: int64\n"
     ]
    }
   ],
   "source": [
    "# Check the value counts again to verify that the rows with missing values have been removed\n",
    "print(df['Bare_Nuclei'].value_counts())"
   ]
  },
  {
   "cell_type": "code",
   "execution_count": 18,
   "id": "2d88c868",
   "metadata": {},
   "outputs": [
    {
     "data": {
      "text/plain": [
       "(683, 11)"
      ]
     },
     "execution_count": 18,
     "metadata": {},
     "output_type": "execute_result"
    }
   ],
   "source": [
    "df.shape"
   ]
  },
  {
   "cell_type": "code",
   "execution_count": 19,
   "id": "5a603f74",
   "metadata": {},
   "outputs": [
    {
     "data": {
      "text/html": [
       "<div>\n",
       "<style scoped>\n",
       "    .dataframe tbody tr th:only-of-type {\n",
       "        vertical-align: middle;\n",
       "    }\n",
       "\n",
       "    .dataframe tbody tr th {\n",
       "        vertical-align: top;\n",
       "    }\n",
       "\n",
       "    .dataframe thead th {\n",
       "        text-align: right;\n",
       "    }\n",
       "</style>\n",
       "<table border=\"1\" class=\"dataframe\">\n",
       "  <thead>\n",
       "    <tr style=\"text-align: right;\">\n",
       "      <th></th>\n",
       "      <th>Sample_Code_Number</th>\n",
       "      <th>Clump_Thickness</th>\n",
       "      <th>Uniformity_of_Cell_Size</th>\n",
       "      <th>Uniformity_of_Cell_Shape</th>\n",
       "      <th>Marginal_Adhesion</th>\n",
       "      <th>Single_Epithelial_Cell_Size</th>\n",
       "      <th>Bare_Nuclei</th>\n",
       "      <th>Bland_Chromatin</th>\n",
       "      <th>Normal_Nucleoli</th>\n",
       "      <th>Mitoses</th>\n",
       "      <th>Class</th>\n",
       "    </tr>\n",
       "  </thead>\n",
       "  <tbody>\n",
       "    <tr>\n",
       "      <th>0</th>\n",
       "      <td>1000025</td>\n",
       "      <td>5</td>\n",
       "      <td>1</td>\n",
       "      <td>1</td>\n",
       "      <td>1</td>\n",
       "      <td>2</td>\n",
       "      <td>1</td>\n",
       "      <td>3</td>\n",
       "      <td>1</td>\n",
       "      <td>1</td>\n",
       "      <td>2</td>\n",
       "    </tr>\n",
       "    <tr>\n",
       "      <th>1</th>\n",
       "      <td>1002945</td>\n",
       "      <td>5</td>\n",
       "      <td>4</td>\n",
       "      <td>4</td>\n",
       "      <td>5</td>\n",
       "      <td>7</td>\n",
       "      <td>10</td>\n",
       "      <td>3</td>\n",
       "      <td>2</td>\n",
       "      <td>1</td>\n",
       "      <td>2</td>\n",
       "    </tr>\n",
       "    <tr>\n",
       "      <th>2</th>\n",
       "      <td>1015425</td>\n",
       "      <td>3</td>\n",
       "      <td>1</td>\n",
       "      <td>1</td>\n",
       "      <td>1</td>\n",
       "      <td>2</td>\n",
       "      <td>2</td>\n",
       "      <td>3</td>\n",
       "      <td>1</td>\n",
       "      <td>1</td>\n",
       "      <td>2</td>\n",
       "    </tr>\n",
       "    <tr>\n",
       "      <th>3</th>\n",
       "      <td>1016277</td>\n",
       "      <td>6</td>\n",
       "      <td>8</td>\n",
       "      <td>8</td>\n",
       "      <td>1</td>\n",
       "      <td>3</td>\n",
       "      <td>4</td>\n",
       "      <td>3</td>\n",
       "      <td>7</td>\n",
       "      <td>1</td>\n",
       "      <td>2</td>\n",
       "    </tr>\n",
       "    <tr>\n",
       "      <th>4</th>\n",
       "      <td>1017023</td>\n",
       "      <td>4</td>\n",
       "      <td>1</td>\n",
       "      <td>1</td>\n",
       "      <td>3</td>\n",
       "      <td>2</td>\n",
       "      <td>1</td>\n",
       "      <td>3</td>\n",
       "      <td>1</td>\n",
       "      <td>1</td>\n",
       "      <td>2</td>\n",
       "    </tr>\n",
       "  </tbody>\n",
       "</table>\n",
       "</div>"
      ],
      "text/plain": [
       "   Sample_Code_Number  Clump_Thickness  Uniformity_of_Cell_Size  \\\n",
       "0             1000025                5                        1   \n",
       "1             1002945                5                        4   \n",
       "2             1015425                3                        1   \n",
       "3             1016277                6                        8   \n",
       "4             1017023                4                        1   \n",
       "\n",
       "   Uniformity_of_Cell_Shape  Marginal_Adhesion  Single_Epithelial_Cell_Size  \\\n",
       "0                         1                  1                            2   \n",
       "1                         4                  5                            7   \n",
       "2                         1                  1                            2   \n",
       "3                         8                  1                            3   \n",
       "4                         1                  3                            2   \n",
       "\n",
       "  Bare_Nuclei  Bland_Chromatin  Normal_Nucleoli  Mitoses  Class  \n",
       "0           1                3                1        1      2  \n",
       "1          10                3                2        1      2  \n",
       "2           2                3                1        1      2  \n",
       "3           4                3                7        1      2  \n",
       "4           1                3                1        1      2  "
      ]
     },
     "execution_count": 19,
     "metadata": {},
     "output_type": "execute_result"
    }
   ],
   "source": [
    "df.head()"
   ]
  },
  {
   "cell_type": "code",
   "execution_count": 20,
   "id": "b2d0bda2",
   "metadata": {},
   "outputs": [
    {
     "name": "stdout",
     "output_type": "stream",
     "text": [
      "Sample_Code_Number              int64\n",
      "Clump_Thickness                 int64\n",
      "Uniformity_of_Cell_Size         int64\n",
      "Uniformity_of_Cell_Shape        int64\n",
      "Marginal_Adhesion               int64\n",
      "Single_Epithelial_Cell_Size     int64\n",
      "Bare_Nuclei                    object\n",
      "Bland_Chromatin                 int64\n",
      "Normal_Nucleoli                 int64\n",
      "Mitoses                         int64\n",
      "Class                           int64\n",
      "dtype: object\n"
     ]
    }
   ],
   "source": [
    "print(df.dtypes)"
   ]
  },
  {
   "cell_type": "code",
   "execution_count": 21,
   "id": "20f2d426",
   "metadata": {},
   "outputs": [],
   "source": [
    "df['Bare_Nuclei'] = pd.to_numeric(df['Bare_Nuclei'], errors='coerce')"
   ]
  },
  {
   "cell_type": "code",
   "execution_count": 22,
   "id": "49ec1728",
   "metadata": {},
   "outputs": [],
   "source": [
    "# Remove the \"Sample Code Number\" column\n",
    "df.drop(\"Sample_Code_Number\", axis=1,inplace=True)"
   ]
  },
  {
   "cell_type": "code",
   "execution_count": 23,
   "id": "15885948",
   "metadata": {},
   "outputs": [],
   "source": [
    "df['Bare_Nuclei'] = df['Bare_Nuclei'].astype(int)"
   ]
  },
  {
   "cell_type": "code",
   "execution_count": 24,
   "id": "fb92c0a1",
   "metadata": {},
   "outputs": [
    {
     "name": "stdout",
     "output_type": "stream",
     "text": [
      "Clump_Thickness                int64\n",
      "Uniformity_of_Cell_Size        int64\n",
      "Uniformity_of_Cell_Shape       int64\n",
      "Marginal_Adhesion              int64\n",
      "Single_Epithelial_Cell_Size    int64\n",
      "Bare_Nuclei                    int32\n",
      "Bland_Chromatin                int64\n",
      "Normal_Nucleoli                int64\n",
      "Mitoses                        int64\n",
      "Class                          int64\n",
      "dtype: object\n"
     ]
    }
   ],
   "source": [
    "print(df.dtypes)"
   ]
  },
  {
   "cell_type": "code",
   "execution_count": 25,
   "id": "6474ff18",
   "metadata": {},
   "outputs": [],
   "source": [
    "# Replace 2 with 0 and 4 with 1 in the 'Class' column\n",
    "df['Class'] = df['Class'].replace({2: 0, 4: 1})"
   ]
  },
  {
   "cell_type": "code",
   "execution_count": 26,
   "id": "d9c116a2",
   "metadata": {},
   "outputs": [
    {
     "data": {
      "image/png": "[encoded data removed]",
      "text/plain": [
       "<Figure size 576x432 with 1 Axes>"
      ]
     },
     "metadata": {
      "needs_background": "light"
     },
     "output_type": "display_data"
    }
   ],
   "source": [
    "import matplotlib.pyplot as plt\n",
    "\n",
    "\n",
    "# Group the DataFrame by the \"Class\" column and count the occurrences of each diagnosis\n",
    "diagnosis_counts = df['Class'].value_counts()\n",
    "\n",
    "# Create a bar plot\n",
    "plt.figure(figsize=(8, 6))\n",
    "ax = diagnosis_counts.plot(kind='bar', color=['green', 'red'])\n",
    "\n",
    "# Customize the plot labels and title\n",
    "plt.xlabel('Diagnosis')\n",
    "plt.ylabel('Count')\n",
    "plt.title('Diagnosis Count in Breast Cancer Dataset')\n",
    "\n",
    "# Annotate the bars with their counts\n",
    "for i, v in enumerate(diagnosis_counts):\n",
    "    ax.text(i, v + 5, str(v), ha='center', va='bottom', fontsize=12)\n",
    "\n",
    "# Add the total count as a text annotation\n",
    "total_count = diagnosis_counts.sum()\n",
    "plt.text(0.5, total_count + 10, f'Total: {total_count}', ha='center', va='bottom', fontsize=12)\n",
    "\n",
    "# Show the plot\n",
    "plt.show()"
   ]
  },
  {
   "cell_type": "code",
   "execution_count": 27,
   "id": "3eefb3b1",
   "metadata": {},
   "outputs": [],
   "source": [
    "# Prepare the Data\n",
    "# Separate features and target variable\n",
    "X = df.drop(\"Class\", axis=1)  # Features\n",
    "y = df[\"Class\"]  # Target variable"
   ]
  },
  {
   "cell_type": "code",
   "execution_count": 28,
   "id": "f19678ed",
   "metadata": {},
   "outputs": [
    {
     "data": {
      "text/html": [
       "<div>\n",
       "<style scoped>\n",
       "    .dataframe tbody tr th:only-of-type {\n",
       "        vertical-align: middle;\n",
       "    }\n",
       "\n",
       "    .dataframe tbody tr th {\n",
       "        vertical-align: top;\n",
       "    }\n",
       "\n",
       "    .dataframe thead th {\n",
       "        text-align: right;\n",
       "    }\n",
       "</style>\n",
       "<table border=\"1\" class=\"dataframe\">\n",
       "  <thead>\n",
       "    <tr style=\"text-align: right;\">\n",
       "      <th></th>\n",
       "      <th>Clump_Thickness</th>\n",
       "      <th>Uniformity_of_Cell_Size</th>\n",
       "      <th>Uniformity_of_Cell_Shape</th>\n",
       "      <th>Marginal_Adhesion</th>\n",
       "      <th>Single_Epithelial_Cell_Size</th>\n",
       "      <th>Bare_Nuclei</th>\n",
       "      <th>Bland_Chromatin</th>\n",
       "      <th>Normal_Nucleoli</th>\n",
       "      <th>Mitoses</th>\n",
       "    </tr>\n",
       "  </thead>\n",
       "  <tbody>\n",
       "    <tr>\n",
       "      <th>0</th>\n",
       "      <td>5</td>\n",
       "      <td>1</td>\n",
       "      <td>1</td>\n",
       "      <td>1</td>\n",
       "      <td>2</td>\n",
       "      <td>1</td>\n",
       "      <td>3</td>\n",
       "      <td>1</td>\n",
       "      <td>1</td>\n",
       "    </tr>\n",
       "    <tr>\n",
       "      <th>1</th>\n",
       "      <td>5</td>\n",
       "      <td>4</td>\n",
       "      <td>4</td>\n",
       "      <td>5</td>\n",
       "      <td>7</td>\n",
       "      <td>10</td>\n",
       "      <td>3</td>\n",
       "      <td>2</td>\n",
       "      <td>1</td>\n",
       "    </tr>\n",
       "    <tr>\n",
       "      <th>2</th>\n",
       "      <td>3</td>\n",
       "      <td>1</td>\n",
       "      <td>1</td>\n",
       "      <td>1</td>\n",
       "      <td>2</td>\n",
       "      <td>2</td>\n",
       "      <td>3</td>\n",
       "      <td>1</td>\n",
       "      <td>1</td>\n",
       "    </tr>\n",
       "    <tr>\n",
       "      <th>3</th>\n",
       "      <td>6</td>\n",
       "      <td>8</td>\n",
       "      <td>8</td>\n",
       "      <td>1</td>\n",
       "      <td>3</td>\n",
       "      <td>4</td>\n",
       "      <td>3</td>\n",
       "      <td>7</td>\n",
       "      <td>1</td>\n",
       "    </tr>\n",
       "    <tr>\n",
       "      <th>4</th>\n",
       "      <td>4</td>\n",
       "      <td>1</td>\n",
       "      <td>1</td>\n",
       "      <td>3</td>\n",
       "      <td>2</td>\n",
       "      <td>1</td>\n",
       "      <td>3</td>\n",
       "      <td>1</td>\n",
       "      <td>1</td>\n",
       "    </tr>\n",
       "  </tbody>\n",
       "</table>\n",
       "</div>"
      ],
      "text/plain": [
       "   Clump_Thickness  Uniformity_of_Cell_Size  Uniformity_of_Cell_Shape  \\\n",
       "0                5                        1                         1   \n",
       "1                5                        4                         4   \n",
       "2                3                        1                         1   \n",
       "3                6                        8                         8   \n",
       "4                4                        1                         1   \n",
       "\n",
       "   Marginal_Adhesion  Single_Epithelial_Cell_Size  Bare_Nuclei  \\\n",
       "0                  1                            2            1   \n",
       "1                  5                            7           10   \n",
       "2                  1                            2            2   \n",
       "3                  1                            3            4   \n",
       "4                  3                            2            1   \n",
       "\n",
       "   Bland_Chromatin  Normal_Nucleoli  Mitoses  \n",
       "0                3                1        1  \n",
       "1                3                2        1  \n",
       "2                3                1        1  \n",
       "3                3                7        1  \n",
       "4                3                1        1  "
      ]
     },
     "execution_count": 28,
     "metadata": {},
     "output_type": "execute_result"
    }
   ],
   "source": [
    "X.head()"
   ]
  },
  {
   "cell_type": "code",
   "execution_count": 29,
   "id": "892e161d",
   "metadata": {},
   "outputs": [
    {
     "data": {
      "text/plain": [
       "0    0\n",
       "1    0\n",
       "2    0\n",
       "3    0\n",
       "4    0\n",
       "Name: Class, dtype: int64"
      ]
     },
     "execution_count": 29,
     "metadata": {},
     "output_type": "execute_result"
    }
   ],
   "source": [
    "y.head()"
   ]
  },
  {
   "cell_type": "code",
   "execution_count": 30,
   "id": "5400b888",
   "metadata": {},
   "outputs": [],
   "source": [
    "# Split the Data\n",
    "X_train, X_test, y_train, y_test = train_test_split(X, y, test_size=0.4, random_state=13, stratify=y)"
   ]
  },
  {
   "cell_type": "markdown",
   "id": "9dde9683",
   "metadata": {},
   "source": [
    "## KNN"
   ]
  },
  {
   "cell_type": "code",
   "execution_count": 31,
   "id": "968afe2f",
   "metadata": {},
   "outputs": [],
   "source": [
    "# Create a k-NN classifier with a specified value of k (e.g., k=3)\n",
    "k = 3\n",
    "knn_classifier = KNeighborsClassifier(n_neighbors=k)\n"
   ]
  },
  {
   "cell_type": "code",
   "execution_count": 32,
   "id": "27fd6019",
   "metadata": {},
   "outputs": [
    {
     "name": "stdout",
     "output_type": "stream",
     "text": [
      "Cross-Validation Scores (Accuracy): [0.97080292 0.97810219 0.97080292 0.98529412 0.97058824]\n",
      "Mean Accuracy: 0.975118\n",
      "Standard Deviation: 0.005835\n"
     ]
    }
   ],
   "source": [
    "# Perform k-fold cross-validation ( k=5)\n",
    "\n",
    "n_splits = 5\n",
    "num_folds = StratifiedKFold(n_splits=n_splits, shuffle=True, random_state=4)\n",
    "cv_scores = cross_val_score(knn_classifier, X, y, cv=num_folds, scoring='accuracy')\n",
    "\n",
    "# Print cross-validation results\n",
    "meanAcc = np.mean(cv_scores)\n",
    "maxAcc = 0\n",
    "for i, score in enumerate(cv_scores):\n",
    "    if maxAcc < score:\n",
    "        maxAcc = score\n",
    "        \n",
    "percent = (meanAcc-maxAcc) * 100\n",
    "\n",
    "print(f\"Cross-Validation Scores (Accuracy): {cv_scores}\")\n",
    "print(f\"Mean Accuracy: {meanAcc:.6f}\")\n",
    "print(f\"Standard Deviation: {np.std(cv_scores):.6f}\")"
   ]
  },
  {
   "cell_type": "code",
   "execution_count": 33,
   "id": "97b687e7",
   "metadata": {
    "scrolled": true
   },
   "outputs": [
    {
     "name": "stdout",
     "output_type": "stream",
     "text": [
      "Accuracy: 0.970803\n",
      "Classification Report:\n",
      "              precision    recall  f1-score   support\n",
      "\n",
      "           0       0.98      0.97      0.98       178\n",
      "           1       0.95      0.97      0.96        96\n",
      "\n",
      "    accuracy                           0.97       274\n",
      "   macro avg       0.97      0.97      0.97       274\n",
      "weighted avg       0.97      0.97      0.97       274\n",
      "\n"
     ]
    }
   ],
   "source": [
    "knn_classifier.fit(X_train, y_train)\n",
    "\n",
    "# Make predictions on the test data\n",
    "y_pred = knn_classifier.predict(X_test)\n",
    "\n",
    "# Evaluate the model\n",
    "accuracy = accuracy_score(y_test, y_pred)\n",
    "classification_rep = classification_report(y_test, y_pred)\n",
    "\n",
    "print(f\"Accuracy: {accuracy:.6f}\")\n",
    "print(\"Classification Report:\")\n",
    "print(classification_rep)"
   ]
  },
  {
   "cell_type": "code",
   "execution_count": null,
   "id": "54bca586",
   "metadata": {},
   "outputs": [],
   "source": []
  },
  {
   "cell_type": "markdown",
   "id": "4943fc17",
   "metadata": {},
   "source": [
    "## LogisticRegression"
   ]
  },
  {
   "cell_type": "code",
   "execution_count": 34,
   "id": "9df6af57",
   "metadata": {},
   "outputs": [],
   "source": [
    "# Create a Logistic Regression classifier\n",
    "logistic_classifier = LogisticRegression()\n",
    "\n",
    "# Define a dictionary of hyperparameters and their possible values\n",
    "param_grid = {\n",
    "    'penalty': ['l1', 'l2'],\n",
    "    'C': [0.001, 0.01, 0.1, 1, 10],\n",
    "    'solver': ['liblinear', 'saga','newton-cholesky','sag'],\n",
    "    'class_weight': [None, 'balanced']\n",
    "}\n"
   ]
  },
  {
   "cell_type": "code",
   "execution_count": null,
   "id": "8b43e40b",
   "metadata": {},
   "outputs": [],
   "source": []
  },
  {
   "cell_type": "code",
   "execution_count": 35,
   "id": "c6e1c28b",
   "metadata": {},
   "outputs": [
    {
     "name": "stdout",
     "output_type": "stream",
     "text": [
      "Best Hyperparameters: {'solver': 'liblinear', 'penalty': 'l1', 'class_weight': 'balanced', 'C': 1}\n",
      "Cross-Validation Accuracy Scores:\n",
      "Fold 1: 0.970803\n",
      "Fold 2: 0.963504\n",
      "Fold 3: 0.978102\n",
      "Fold 4: 0.970588\n",
      "Fold 5: 0.985294\n",
      "Mean Accuracy: 0.973658\n",
      "Standard Deviation: 0.007427\n"
     ]
    }
   ],
   "source": [
    "# Create a Logistic Regression classifier\n",
    "logistic_classifier = LogisticRegression()\n",
    "\n",
    "# Specify the number of cross-validation folds (K) - e.g., 5-fold cross-validation\n",
    "n_splits = 5\n",
    "cv = StratifiedKFold(n_splits=n_splits, shuffle=True, random_state=4)\n",
    "\n",
    "# Define the hyperparameter grid for RandomizedSearchCV\n",
    "param_dist = {\n",
    "    'penalty': ['l1', 'l2'],\n",
    "    'C': [0.001, 0.01, 0.1, 1, 10],\n",
    "    'solver': ['liblinear', 'saga','newton-cholesky','sag'],\n",
    "    'class_weight': [None, 'balanced']\n",
    "}\n",
    "\n",
    "\n",
    "# Create RandomizedSearchCV with the logistic_classifier model and parameter grid\n",
    "random_search = RandomizedSearchCV(\n",
    "    logistic_classifier,\n",
    "    param_distributions=param_dist,\n",
    "    n_iter=500,  # Number of random combinations to try\n",
    "    cv=cv,\n",
    "    scoring='accuracy',\n",
    "    random_state=42,\n",
    "    n_jobs=-1  # Use all available CPU cores for parallel processing\n",
    ")\n",
    "\n",
    "# Perform Randomized Search to find the best hyperparameters\n",
    "random_search.fit(X, y)\n",
    "\n",
    "# Get the best hyperparameters\n",
    "best_params = random_search.best_params_\n",
    "print(\"Best Hyperparameters:\", best_params)\n",
    "\n",
    "# Train the XGBoost model with the best hyperparameters\n",
    "best_logistic_classifier= LogisticRegression(**best_params)\n",
    "\n",
    "# Perform K-fold cross-validation and get the classification scores\n",
    "scores = cross_val_score(best_logistic_classifier, X, y, cv=cv, scoring='accuracy')\n",
    "\n",
    "# Print the accuracy for each fold\n",
    "print(\"Cross-Validation Accuracy Scores:\")\n",
    "for i, score in enumerate(scores):\n",
    "    print(f\"Fold {i+1}: {score:.6f}\")\n",
    "\n",
    "# Calculate and print the mean accuracy and standard deviation\n",
    "mean_accuracy = np.mean(scores)\n",
    "std_accuracy = np.std(scores)\n",
    "print(f\"Mean Accuracy: {mean_accuracy:.6f}\")\n",
    "print(f\"Standard Deviation: {std_accuracy:.6f}\")\n"
   ]
  },
  {
   "cell_type": "code",
   "execution_count": 55,
   "id": "89e77e07",
   "metadata": {},
   "outputs": [],
   "source": [
    "logistic_classifier = LogisticRegression(\n",
    "    solver='liblinear',    # Specify the solver algorithm.\n",
    "    penalty='l1',         # Regularization penalty type.\n",
    "    class_weight='balanced',  # Adjust class weights to balance imbalanced data.\n",
    "    C=1                    # Inverse of regularization strength.\n",
    ")\n"
   ]
  },
  {
   "cell_type": "code",
   "execution_count": 37,
   "id": "ee99a79c",
   "metadata": {},
   "outputs": [
    {
     "name": "stdout",
     "output_type": "stream",
     "text": [
      "Cross-Validation Accuracy Scores:\n",
      "Fold 1: 0.970803\n",
      "Fold 2: 0.963504\n",
      "Fold 3: 0.978102\n",
      "Fold 4: 0.970588\n",
      "Fold 5: 0.985294\n"
     ]
    }
   ],
   "source": [
    "# Specify the number of cross-validation folds (K) - e.g., 5-fold cross-validation\n",
    "n_splits = 5\n",
    "cv = StratifiedKFold(n_splits=n_splits, shuffle=True, random_state=4)\n",
    "\n",
    "# Perform K-fold cross-validation and get the classification scores\n",
    "scores = cross_val_score(logistic_classifier, X, y, cv=cv, scoring='accuracy')\n",
    "\n",
    "# Print the accuracy for each fold\n",
    "print(\"Cross-Validation Accuracy Scores:\")\n",
    "for i, score in enumerate(scores):\n",
    "    print(f\"Fold {i+1}: {score:.6f}\")"
   ]
  },
  {
   "cell_type": "code",
   "execution_count": 38,
   "id": "50b1068f",
   "metadata": {},
   "outputs": [
    {
     "name": "stdout",
     "output_type": "stream",
     "text": [
      "Mean Accuracy: 0.973658\n",
      "Standard Deviation: 0.007427\n"
     ]
    }
   ],
   "source": [
    "# Calculate and print the mean accuracy and standard deviation\n",
    "mean_accuracy = np.mean(scores)\n",
    "std_accuracy = np.std(scores)\n",
    "print(f\"Mean Accuracy: {mean_accuracy:.6f}\")\n",
    "print(f\"Standard Deviation: {std_accuracy:.6f}\")"
   ]
  },
  {
   "cell_type": "code",
   "execution_count": 39,
   "id": "e1b0e003",
   "metadata": {
    "scrolled": true
   },
   "outputs": [
    {
     "name": "stdout",
     "output_type": "stream",
     "text": [
      "Cross-Validation Metrics:\n",
      "Fold 1:\n",
      "  Accuracy: 0.970803\n",
      "  Class 1:\n",
      "    Precision: 0.988506\n",
      "    Recall: 0.966292\n",
      "\n",
      "  Class 2:\n",
      "    Precision: 0.940000\n",
      "    Recall: 0.979167\n",
      "\n",
      "Fold 2:\n",
      "  Accuracy: 0.963504\n",
      "  Class 1:\n",
      "    Precision: 0.966667\n",
      "    Recall: 0.977528\n",
      "\n",
      "  Class 2:\n",
      "    Precision: 0.957447\n",
      "    Recall: 0.937500\n",
      "\n",
      "Fold 3:\n",
      "  Accuracy: 0.978102\n",
      "  Class 1:\n",
      "    Precision: 0.988636\n",
      "    Recall: 0.977528\n",
      "\n",
      "  Class 2:\n",
      "    Precision: 0.959184\n",
      "    Recall: 0.979167\n",
      "\n",
      "Fold 4:\n",
      "  Accuracy: 0.970588\n",
      "  Class 1:\n",
      "    Precision: 0.988506\n",
      "    Recall: 0.966292\n",
      "\n",
      "  Class 2:\n",
      "    Precision: 0.938776\n",
      "    Recall: 0.978723\n",
      "\n",
      "Fold 5:\n",
      "  Accuracy: 0.985294\n",
      "  Class 1:\n",
      "    Precision: 0.988636\n",
      "    Recall: 0.988636\n",
      "\n",
      "  Class 2:\n",
      "    Precision: 0.979167\n",
      "    Recall: 0.979167\n",
      "\n",
      "Mean Metrics:\n",
      "Mean Accuracy: 0.973658\n",
      "Class 1:\n",
      "  Mean Precision: 0.984190\n",
      "  Mean Recall: 0.975255\n",
      "\n",
      "Class 2:\n",
      "  Mean Precision: 0.954915\n",
      "  Mean Recall: 0.970745\n",
      "\n",
      "Standard Deviation Metrics:\n",
      "Standard Deviation Accuracy: 0.007427\n",
      "Class 1:\n",
      "  Standard Deviation Precision: 0.008762\n",
      "  Standard Deviation Recall: 0.008367\n",
      "Class 2:\n",
      "  Standard Deviation Precision: 0.014803\n",
      "  Standard Deviation Recall: 0.016623\n"
     ]
    }
   ],
   "source": [
    "# Initialize lists to store precision and recall values for each fold\n",
    "precision_per_fold = []\n",
    "recall_per_fold = []\n",
    "\n",
    "# Perform K-fold cross-validation and get the predicted labels for each fold\n",
    "predicted_labels = cross_val_predict(logistic_classifier, X, y, cv=cv)\n",
    "\n",
    "# Calculate and print accuracy, precision, and recall for each fold and class\n",
    "print(\"Cross-Validation Metrics:\")\n",
    "for i, (train_idx, test_idx) in enumerate(cv.split(X, y)):\n",
    "    accuracy = accuracy_score(y[test_idx], predicted_labels[test_idx])\n",
    "    precision = precision_score(y[test_idx], predicted_labels[test_idx], average=None)\n",
    "    recall = recall_score(y[test_idx], predicted_labels[test_idx], average=None)\n",
    "    \n",
    "    print(f\"Fold {i + 1}:\")\n",
    "    print(f\"  Accuracy: {accuracy:.6f}\")\n",
    "    \n",
    "    for class_idx, (prec, rec) in enumerate(zip(precision, recall)):\n",
    "        print(f\"  Class {class_idx + 1}:\")\n",
    "        print(f\"    Precision: {prec:.6f}\")\n",
    "        print(f\"    Recall: {rec:.6f}\")\n",
    "        print()\n",
    "    \n",
    "    # Append precision and recall values for this fold to the lists\n",
    "    precision_per_fold.append(precision)\n",
    "    recall_per_fold.append(recall)\n",
    "\n",
    "# Calculate and print the mean accuracy, precision, and recall across all folds\n",
    "mean_accuracy = np.mean(scores)\n",
    "\n",
    "# Calculate mean precision and recall for each class\n",
    "mean_precision_per_class = np.mean(precision_per_fold, axis=0)\n",
    "mean_recall_per_class = np.mean(recall_per_fold, axis=0)\n",
    "\n",
    "# Calculate standard deviation of accuracy, precision, and recall across folds\n",
    "std_accuracy = np.std(scores)\n",
    "std_precision_per_class = np.std(precision_per_fold, axis=0)\n",
    "std_recall_per_class = np.std(recall_per_fold, axis=0)\n",
    "\n",
    "print(\"Mean Metrics:\")\n",
    "print(f\"Mean Accuracy: {mean_accuracy:.6f}\")\n",
    "\n",
    "for class_idx, (mean_prec, mean_rec) in enumerate(zip(mean_precision_per_class, mean_recall_per_class)):\n",
    "    print(f\"Class {class_idx + 1}:\")\n",
    "    print(f\"  Mean Precision: {mean_prec:.6f}\")\n",
    "    print(f\"  Mean Recall: {mean_rec:.6f}\")\n",
    "    print()\n",
    "\n",
    "print(\"Standard Deviation Metrics:\")\n",
    "print(f\"Standard Deviation Accuracy: {std_accuracy:.6f}\")\n",
    "\n",
    "for class_idx, (std_prec, std_rec) in enumerate(zip(std_precision_per_class, std_recall_per_class)):\n",
    "    print(f\"Class {class_idx + 1}:\")\n",
    "    print(f\"  Standard Deviation Precision: {std_prec:.6f}\")\n",
    "    print(f\"  Standard Deviation Recall: {std_rec:.6f}\")"
   ]
  },
  {
   "cell_type": "markdown",
   "id": "66d9a6fc",
   "metadata": {},
   "source": [
    "### 60 - 40 split model training and evaluation for logistic_classifier"
   ]
  },
  {
   "cell_type": "code",
   "execution_count": 40,
   "id": "62fa46a7",
   "metadata": {
    "scrolled": false
   },
   "outputs": [
    {
     "name": "stdout",
     "output_type": "stream",
     "text": [
      "Classification Report:\n",
      "              precision    recall  f1-score   support\n",
      "\n",
      "           0   0.983051  0.977528  0.980282       178\n",
      "           1   0.958763  0.968750  0.963731        96\n",
      "\n",
      "    accuracy                       0.974453       274\n",
      "   macro avg   0.970907  0.973139  0.972006       274\n",
      "weighted avg   0.974541  0.974453  0.974483       274\n",
      "\n"
     ]
    },
    {
     "data": {
      "image/png": "[encoded data removed]",
      "text/plain": [
       "<Figure size 468x360 with 2 Axes>"
      ]
     },
     "metadata": {
      "needs_background": "light"
     },
     "output_type": "display_data"
    }
   ],
   "source": [
    "# Fit the classifier to the training data\n",
    "logistic_classifier.fit(X_train, y_train)\n",
    "\n",
    "# Make predictions on the test data\n",
    "y_pred = logistic_classifier.predict(X_test)\n",
    "\n",
    "# Print the Classification Report with 4 decimal points\n",
    "report = classification_report(y_test, y_pred, digits=6)\n",
    "print(\"Classification Report:\")\n",
    "print(report)\n",
    "\n",
    "# Print the Confusion Matrix using a Heatmap\n",
    "conf_matrix = confusion_matrix(y_test, y_pred)\n",
    "plt.figure(figsize=(6.5, 5))\n",
    "sns.heatmap(conf_matrix, annot=True, cmap='Blues', fmt='d', annot_kws={\"size\": 12})\n",
    "plt.xlabel('Predicted')\n",
    "plt.ylabel('Actual')\n",
    "plt.title('Confusion Matrix')\n",
    "plt.show()"
   ]
  },
  {
   "cell_type": "code",
   "execution_count": null,
   "id": "0a3a369d",
   "metadata": {},
   "outputs": [],
   "source": []
  },
  {
   "cell_type": "markdown",
   "id": "50319400",
   "metadata": {},
   "source": [
    "## SVC"
   ]
  },
  {
   "cell_type": "code",
   "execution_count": 41,
   "id": "5403bda6",
   "metadata": {},
   "outputs": [],
   "source": [
    "import numpy as np\n",
    "import pandas as pd\n",
    "from sklearn.model_selection import cross_val_score, train_test_split\n",
    "\n",
    "from sklearn.metrics import accuracy_score, classification_report\n",
    "\n",
    "\n",
    "# Create an SVM classifier\n",
    "svc_classifier = SVC()  # You can choose different kernels such as 'linear', 'rbf', or 'poly'\n",
    "\n",
    "# Define the hyperparameter grid for RandomizedSearchCV\n",
    "param_dist = {\n",
    "    'C': [0.01, 0.1, 1, 10],\n",
    "    'kernel': ['linear', 'rbf'],\n",
    "    'gamma': [0.01, 0.1, 1, 'scale', 'auto'],\n",
    "    'class_weight': ['balanced', None],\n",
    "    'probability': [True, False]\n",
    "}"
   ]
  },
  {
   "cell_type": "code",
   "execution_count": 42,
   "id": "2d90b76d",
   "metadata": {},
   "outputs": [],
   "source": [
    "# Create RandomizedSearchCV with the XGBoost model and parameter grid\n",
    "random_search = RandomizedSearchCV(\n",
    "    svc_classifier,\n",
    "    param_distributions=param_dist,\n",
    "    n_iter=500,  # Number of random combinations to try\n",
    "    cv=cv,\n",
    "    scoring='accuracy',\n",
    "    random_state=42,\n",
    "    n_jobs=-1  # Use all available CPU cores for parallel processing\n",
    ")"
   ]
  },
  {
   "cell_type": "code",
   "execution_count": 43,
   "id": "db8c2154",
   "metadata": {},
   "outputs": [
    {
     "name": "stdout",
     "output_type": "stream",
     "text": [
      "Best Hyperparameters: {'probability': True, 'kernel': 'linear', 'gamma': 0.01, 'class_weight': 'balanced', 'C': 0.01}\n",
      "Cross-Validation Accuracy Scores:\n",
      "Fold 1: 0.970803\n",
      "Fold 2: 0.963504\n",
      "Fold 3: 0.978102\n",
      "Fold 4: 0.970588\n",
      "Fold 5: 0.985294\n",
      "Mean Accuracy: 0.973658\n",
      "Standard Deviation: 0.007427\n"
     ]
    }
   ],
   "source": [
    "# Perform Randomized Search to find the best hyperparameters\n",
    "random_search.fit(X, y)\n",
    "\n",
    "# Get the best hyperparameters\n",
    "best_params = random_search.best_params_\n",
    "print(\"Best Hyperparameters:\", best_params)\n",
    "\n",
    "# Train the XGBoost model with the best hyperparameters\n",
    "best_svc_classifier = SVC(**best_params)\n",
    "\n",
    "# Perform K-fold cross-validation and get the classification scores\n",
    "scores = cross_val_score(best_svc_classifier, X, y, cv=cv, scoring='accuracy')\n",
    "\n",
    "# Print the accuracy for each fold\n",
    "print(\"Cross-Validation Accuracy Scores:\")\n",
    "for i, score in enumerate(scores):\n",
    "    print(f\"Fold {i+1}: {score:.6f}\")\n",
    "\n",
    "# Calculate and print the mean accuracy and standard deviation\n",
    "mean_accuracy = np.mean(scores)\n",
    "std_accuracy = np.std(scores)\n",
    "print(f\"Mean Accuracy: {mean_accuracy:.6f}\")\n",
    "print(f\"Standard Deviation: {std_accuracy:.6f}\")"
   ]
  },
  {
   "cell_type": "code",
   "execution_count": 54,
   "id": "c54b682c",
   "metadata": {},
   "outputs": [],
   "source": [
    "svc_classifier = SVC(\n",
    "    probability=True,  # Enable probability estimates.\n",
    "    kernel='linear',   # Use a linear kernel.\n",
    "    gamma=0.01,        # Kernel coefficient for 'rbf', 'poly', and 'sigmoid'.\n",
    "    class_weight='balanced',  # Adjust class weights to balance imbalanced data.\n",
    "    C=0.01             # Regularization parameter.\n",
    ")"
   ]
  },
  {
   "cell_type": "code",
   "execution_count": 45,
   "id": "ca0aa0d9",
   "metadata": {},
   "outputs": [],
   "source": [
    "# Specify the number of cross-validation folds (K) - e.g., 5-fold cross-validation\n",
    "n_splits = 5\n",
    "cv = StratifiedKFold(n_splits=n_splits, shuffle=True, random_state=4)"
   ]
  },
  {
   "cell_type": "code",
   "execution_count": 46,
   "id": "18aae226",
   "metadata": {},
   "outputs": [],
   "source": [
    "# Perform K-fold cross-validation and get the classification scores\n",
    "scores = cross_val_score(svc_classifier, X, y, cv=cv, scoring='accuracy')"
   ]
  },
  {
   "cell_type": "code",
   "execution_count": 47,
   "id": "237dccb9",
   "metadata": {},
   "outputs": [
    {
     "name": "stdout",
     "output_type": "stream",
     "text": [
      "Cross-Validation Accuracy Scores:\n",
      "Fold 1: 0.970803\n",
      "Fold 2: 0.963504\n",
      "Fold 3: 0.978102\n",
      "Fold 4: 0.970588\n",
      "Fold 5: 0.985294\n"
     ]
    }
   ],
   "source": [
    "# Print the accuracy for each fold\n",
    "print(\"Cross-Validation Accuracy Scores:\")\n",
    "for i, score in enumerate(scores):\n",
    "    print(f\"Fold {i+1}: {score:.6f}\")"
   ]
  },
  {
   "cell_type": "code",
   "execution_count": 48,
   "id": "b4944065",
   "metadata": {},
   "outputs": [
    {
     "name": "stdout",
     "output_type": "stream",
     "text": [
      "Mean Accuracy: 0.973658\n",
      "Standard Deviation: 0.007427\n"
     ]
    }
   ],
   "source": [
    "# Calculate and print the mean accuracy and standard deviation\n",
    "mean_accuracy = np.mean(scores)\n",
    "std_accuracy = np.std(scores)\n",
    "print(f\"Mean Accuracy: {mean_accuracy:.6f}\")\n",
    "print(f\"Standard Deviation: {std_accuracy:.6f}\")"
   ]
  },
  {
   "cell_type": "code",
   "execution_count": 49,
   "id": "9d76f3ba",
   "metadata": {
    "collapsed": true
   },
   "outputs": [
    {
     "name": "stdout",
     "output_type": "stream",
     "text": [
      "Cross-Validation Metrics:\n",
      "Fold 1:\n",
      "  Accuracy: 0.970803\n",
      "  Class 1:\n",
      "    Precision: 0.988506\n",
      "    Recall: 0.966292\n",
      "\n",
      "  Class 2:\n",
      "    Precision: 0.940000\n",
      "    Recall: 0.979167\n",
      "\n",
      "Fold 2:\n",
      "  Accuracy: 0.963504\n",
      "  Class 1:\n",
      "    Precision: 0.966667\n",
      "    Recall: 0.977528\n",
      "\n",
      "  Class 2:\n",
      "    Precision: 0.957447\n",
      "    Recall: 0.937500\n",
      "\n",
      "Fold 3:\n",
      "  Accuracy: 0.978102\n",
      "  Class 1:\n",
      "    Precision: 0.988636\n",
      "    Recall: 0.977528\n",
      "\n",
      "  Class 2:\n",
      "    Precision: 0.959184\n",
      "    Recall: 0.979167\n",
      "\n",
      "Fold 4:\n",
      "  Accuracy: 0.970588\n",
      "  Class 1:\n",
      "    Precision: 0.988506\n",
      "    Recall: 0.966292\n",
      "\n",
      "  Class 2:\n",
      "    Precision: 0.938776\n",
      "    Recall: 0.978723\n",
      "\n",
      "Fold 5:\n",
      "  Accuracy: 0.985294\n",
      "  Class 1:\n",
      "    Precision: 1.000000\n",
      "    Recall: 0.977273\n",
      "\n",
      "  Class 2:\n",
      "    Precision: 0.960000\n",
      "    Recall: 1.000000\n",
      "\n",
      "Mean Metrics:\n",
      "Mean Accuracy: 0.973658\n",
      "Class 1:\n",
      "  Mean Precision: 0.986463\n",
      "  Mean Recall: 0.972983\n",
      "\n",
      "Class 2:\n",
      "  Mean Precision: 0.951081\n",
      "  Mean Recall: 0.974911\n",
      "\n",
      "Standard Deviation Metrics:\n",
      "Standard Deviation Accuracy: 0.007427\n",
      "Class 1:\n",
      "  Standard Deviation Precision: 0.010846\n",
      "  Standard Deviation Recall: 0.005464\n",
      "Class 2:\n",
      "  Standard Deviation Precision: 0.009591\n",
      "  Standard Deviation Recall: 0.020395\n"
     ]
    }
   ],
   "source": [
    "# Initialize lists to store precision and recall values for each fold\n",
    "precision_per_fold = []\n",
    "recall_per_fold = []\n",
    "\n",
    "# Perform K-fold cross-validation and get the predicted labels for each fold\n",
    "predicted_labels = cross_val_predict(svc_classifier, X, y, cv=cv)\n",
    "\n",
    "# Calculate and print accuracy, precision, and recall for each fold and class\n",
    "print(\"Cross-Validation Metrics:\")\n",
    "for i, (train_idx, test_idx) in enumerate(cv.split(X, y)):\n",
    "    accuracy = accuracy_score(y[test_idx], predicted_labels[test_idx])\n",
    "    precision = precision_score(y[test_idx], predicted_labels[test_idx], average=None)\n",
    "    recall = recall_score(y[test_idx], predicted_labels[test_idx], average=None)\n",
    "    \n",
    "    print(f\"Fold {i + 1}:\")\n",
    "    print(f\"  Accuracy: {accuracy:.6f}\")\n",
    "    \n",
    "    for class_idx, (prec, rec) in enumerate(zip(precision, recall)):\n",
    "        print(f\"  Class {class_idx + 1}:\")\n",
    "        print(f\"    Precision: {prec:.6f}\")\n",
    "        print(f\"    Recall: {rec:.6f}\")\n",
    "        print()\n",
    "    \n",
    "    # Append precision and recall values for this fold to the lists\n",
    "    precision_per_fold.append(precision)\n",
    "    recall_per_fold.append(recall)\n",
    "\n",
    "# Calculate and print the mean accuracy, precision, and recall across all folds\n",
    "mean_accuracy = np.mean(scores)\n",
    "\n",
    "# Calculate mean precision and recall for each class\n",
    "mean_precision_per_class = np.mean(precision_per_fold, axis=0)\n",
    "mean_recall_per_class = np.mean(recall_per_fold, axis=0)\n",
    "\n",
    "# Calculate standard deviation of accuracy, precision, and recall across folds\n",
    "std_accuracy = np.std(scores)\n",
    "std_precision_per_class = np.std(precision_per_fold, axis=0)\n",
    "std_recall_per_class = np.std(recall_per_fold, axis=0)\n",
    "\n",
    "print(\"Mean Metrics:\")\n",
    "print(f\"Mean Accuracy: {mean_accuracy:.6f}\")\n",
    "\n",
    "for class_idx, (mean_prec, mean_rec) in enumerate(zip(mean_precision_per_class, mean_recall_per_class)):\n",
    "    print(f\"Class {class_idx + 1}:\")\n",
    "    print(f\"  Mean Precision: {mean_prec:.6f}\")\n",
    "    print(f\"  Mean Recall: {mean_rec:.6f}\")\n",
    "    print()\n",
    "\n",
    "print(\"Standard Deviation Metrics:\")\n",
    "print(f\"Standard Deviation Accuracy: {std_accuracy:.6f}\")\n",
    "\n",
    "for class_idx, (std_prec, std_rec) in enumerate(zip(std_precision_per_class, std_recall_per_class)):\n",
    "    print(f\"Class {class_idx + 1}:\")\n",
    "    print(f\"  Standard Deviation Precision: {std_prec:.6f}\")\n",
    "    print(f\"  Standard Deviation Recall: {std_rec:.6f}\")\n"
   ]
  },
  {
   "cell_type": "markdown",
   "id": "1794dbae",
   "metadata": {},
   "source": [
    "### 60 - 40 split model training and evaluation for SVC"
   ]
  },
  {
   "cell_type": "code",
   "execution_count": 50,
   "id": "af7bfc8b",
   "metadata": {
    "collapsed": true
   },
   "outputs": [
    {
     "name": "stdout",
     "output_type": "stream",
     "text": [
      "Classification Report:\n",
      "              precision    recall  f1-score   support\n",
      "\n",
      "           0   1.000000  0.971910  0.985755       178\n",
      "           1   0.950495  1.000000  0.974619        96\n",
      "\n",
      "    accuracy                       0.981752       274\n",
      "   macro avg   0.975248  0.985955  0.980187       274\n",
      "weighted avg   0.982655  0.981752  0.981853       274\n",
      "\n"
     ]
    },
    {
     "data": {
      "image/png": "[encoded data removed]",
      "text/plain": [
       "<Figure size 468x360 with 2 Axes>"
      ]
     },
     "metadata": {
      "needs_background": "light"
     },
     "output_type": "display_data"
    }
   ],
   "source": [
    "# Fit the classifier to the training data\n",
    "svc_classifier.fit(X_train, y_train)\n",
    "\n",
    "# Make predictions on the test data\n",
    "y_pred = svc_classifier.predict(X_test)\n",
    "\n",
    "# Print the Classification Report with 4 decimal points\n",
    "report = classification_report(y_test, y_pred, digits=6)\n",
    "print(\"Classification Report:\")\n",
    "print(report)\n",
    "\n",
    "# Print the Confusion Matrix using a Heatmap\n",
    "conf_matrix = confusion_matrix(y_test, y_pred)\n",
    "plt.figure(figsize=(6.5, 5))\n",
    "sns.heatmap(conf_matrix, annot=True, cmap='Blues', fmt='d', annot_kws={\"size\": 12})\n",
    "plt.xlabel('Predicted')\n",
    "plt.ylabel('Actual')\n",
    "plt.title('Confusion Matrix')\n",
    "plt.show()"
   ]
  },
  {
   "cell_type": "code",
   "execution_count": null,
   "id": "cb2c4045",
   "metadata": {},
   "outputs": [],
   "source": []
  },
  {
   "cell_type": "code",
   "execution_count": null,
   "id": "2644407d",
   "metadata": {},
   "outputs": [],
   "source": []
  }
 ],
 "metadata": {
  "kernelspec": {
   "display_name": "Python 3 (ipykernel)",
   "language": "python",
   "name": "python3"
  },
  "language_info": {
   "codemirror_mode": {
    "name": "ipython",
    "version": 3
   },
   "file_extension": ".py",
   "mimetype": "text/x-python",
   "name": "python",
   "nbconvert_exporter": "python",
   "pygments_lexer": "ipython3",
   "version": "3.9.12"
  }
 },
 "nbformat": 4,
 "nbformat_minor": 5
}
