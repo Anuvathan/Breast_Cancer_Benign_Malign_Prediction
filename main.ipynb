{
 "cells": [
  {
   "cell_type": "code",
   "execution_count": 1,
   "metadata": {},
   "outputs": [],
   "source": [
    "import pandas as pd\n",
    "import numpy as np\n",
    "import matplotlib.pyplot as plt\n",
    "from sklearn.naive_bayes import GaussianNB\n",
    "from sklearn.neighbors import KNeighborsClassifier\n",
    "from sklearn.metrics import classification_report, confusion_matrix\n",
    "from sklearn.metrics import precision_score, recall_score, accuracy_score\n",
    "from sklearn.model_selection import cross_val_predict\n",
    "from sklearn.model_selection import train_test_split, cross_val_score, StratifiedKFold, RandomizedSearchCV, GridSearchCV\n",
    "from scipy.stats import norm\n",
    "from sklearn.ensemble import RandomForestClassifier\n",
    "import seaborn as sns\n",
    "import xgboost as xgb\n",
    "from sklearn.svm import SVC\n",
    "from sklearn.linear_model import LogisticRegression\n",
    "from sklearn.ensemble import RandomForestClassifier, VotingClassifier\n",
    "from xgboost import XGBClassifier"
   ]
  },
  {
   "cell_type": "code",
   "execution_count": 2,
   "metadata": {},
   "outputs": [
    {
     "data": {
      "text/html": [
       "<div>\n",
       "<style scoped>\n",
       "    .dataframe tbody tr th:only-of-type {\n",
       "        vertical-align: middle;\n",
       "    }\n",
       "\n",
       "    .dataframe tbody tr th {\n",
       "        vertical-align: top;\n",
       "    }\n",
       "\n",
       "    .dataframe thead th {\n",
       "        text-align: right;\n",
       "    }\n",
       "</style>\n",
       "<table border=\"1\" class=\"dataframe\">\n",
       "  <thead>\n",
       "    <tr style=\"text-align: right;\">\n",
       "      <th></th>\n",
       "      <th>Sample_Code_Number</th>\n",
       "      <th>Clump_Thickness</th>\n",
       "      <th>Uniformity_of_Cell_Size</th>\n",
       "      <th>Uniformity_of_Cell_Shape</th>\n",
       "      <th>Marginal_Adhesion</th>\n",
       "      <th>Single_Epithelial_Cell_Size</th>\n",
       "      <th>Bare_Nuclei</th>\n",
       "      <th>Bland_Chromatin</th>\n",
       "      <th>Normal_Nucleoli</th>\n",
       "      <th>Mitoses</th>\n",
       "      <th>Class</th>\n",
       "    </tr>\n",
       "  </thead>\n",
       "  <tbody>\n",
       "    <tr>\n",
       "      <th>0</th>\n",
       "      <td>1000025</td>\n",
       "      <td>5</td>\n",
       "      <td>1</td>\n",
       "      <td>1</td>\n",
       "      <td>1</td>\n",
       "      <td>2</td>\n",
       "      <td>1</td>\n",
       "      <td>3</td>\n",
       "      <td>1</td>\n",
       "      <td>1</td>\n",
       "      <td>2</td>\n",
       "    </tr>\n",
       "    <tr>\n",
       "      <th>1</th>\n",
       "      <td>1002945</td>\n",
       "      <td>5</td>\n",
       "      <td>4</td>\n",
       "      <td>4</td>\n",
       "      <td>5</td>\n",
       "      <td>7</td>\n",
       "      <td>10</td>\n",
       "      <td>3</td>\n",
       "      <td>2</td>\n",
       "      <td>1</td>\n",
       "      <td>2</td>\n",
       "    </tr>\n",
       "    <tr>\n",
       "      <th>2</th>\n",
       "      <td>1015425</td>\n",
       "      <td>3</td>\n",
       "      <td>1</td>\n",
       "      <td>1</td>\n",
       "      <td>1</td>\n",
       "      <td>2</td>\n",
       "      <td>2</td>\n",
       "      <td>3</td>\n",
       "      <td>1</td>\n",
       "      <td>1</td>\n",
       "      <td>2</td>\n",
       "    </tr>\n",
       "    <tr>\n",
       "      <th>3</th>\n",
       "      <td>1016277</td>\n",
       "      <td>6</td>\n",
       "      <td>8</td>\n",
       "      <td>8</td>\n",
       "      <td>1</td>\n",
       "      <td>3</td>\n",
       "      <td>4</td>\n",
       "      <td>3</td>\n",
       "      <td>7</td>\n",
       "      <td>1</td>\n",
       "      <td>2</td>\n",
       "    </tr>\n",
       "    <tr>\n",
       "      <th>4</th>\n",
       "      <td>1017023</td>\n",
       "      <td>4</td>\n",
       "      <td>1</td>\n",
       "      <td>1</td>\n",
       "      <td>3</td>\n",
       "      <td>2</td>\n",
       "      <td>1</td>\n",
       "      <td>3</td>\n",
       "      <td>1</td>\n",
       "      <td>1</td>\n",
       "      <td>2</td>\n",
       "    </tr>\n",
       "  </tbody>\n",
       "</table>\n",
       "</div>"
      ],
      "text/plain": [
       "   Sample_Code_Number  Clump_Thickness  Uniformity_of_Cell_Size  \\\n",
       "0             1000025                5                        1   \n",
       "1             1002945                5                        4   \n",
       "2             1015425                3                        1   \n",
       "3             1016277                6                        8   \n",
       "4             1017023                4                        1   \n",
       "\n",
       "   Uniformity_of_Cell_Shape  Marginal_Adhesion  Single_Epithelial_Cell_Size  \\\n",
       "0                         1                  1                            2   \n",
       "1                         4                  5                            7   \n",
       "2                         1                  1                            2   \n",
       "3                         8                  1                            3   \n",
       "4                         1                  3                            2   \n",
       "\n",
       "  Bare_Nuclei  Bland_Chromatin  Normal_Nucleoli  Mitoses  Class  \n",
       "0           1                3                1        1      2  \n",
       "1          10                3                2        1      2  \n",
       "2           2                3                1        1      2  \n",
       "3           4                3                7        1      2  \n",
       "4           1                3                1        1      2  "
      ]
     },
     "execution_count": 2,
     "metadata": {},
     "output_type": "execute_result"
    }
   ],
   "source": [
    "# Specify the path to the downloaded dataset file on your local machine\n",
    "file_path = \"breast+cancer+wisconsin+original/breast-cancer-wisconsin.data\"\n",
    "\n",
    "# Define column names for the dataset\n",
    "column_names = [\"Sample_Code_Number\", \"Clump_Thickness\", \"Uniformity_of_Cell_Size\", \"Uniformity_of_Cell_Shape\",\n",
    "                \"Marginal_Adhesion\", \"Single_Epithelial_Cell_Size\", \"Bare_Nuclei\", \"Bland_Chromatin\", \"Normal_Nucleoli\",\n",
    "                \"Mitoses\", \"Class\"]\n",
    "\n",
    "# Read the dataset file into a pandas DataFrame\n",
    "df = pd.read_csv(file_path, names=column_names)\n",
    "\n",
    "# Display the first few rows of the DataFrame to verify the data loading\n",
    "df.head()"
   ]
  },
  {
   "cell_type": "code",
   "execution_count": 3,
   "metadata": {},
   "outputs": [
    {
     "data": {
      "text/plain": [
       "2    458\n",
       "4    241\n",
       "Name: Class, dtype: int64"
      ]
     },
     "execution_count": 3,
     "metadata": {},
     "output_type": "execute_result"
    }
   ],
   "source": [
    "df.Class.value_counts()"
   ]
  },
  {
   "cell_type": "code",
   "execution_count": 4,
   "metadata": {},
   "outputs": [
    {
     "data": {
      "text/plain": [
       "Sample_Code_Number             0\n",
       "Clump_Thickness                0\n",
       "Uniformity_of_Cell_Size        0\n",
       "Uniformity_of_Cell_Shape       0\n",
       "Marginal_Adhesion              0\n",
       "Single_Epithelial_Cell_Size    0\n",
       "Bare_Nuclei                    0\n",
       "Bland_Chromatin                0\n",
       "Normal_Nucleoli                0\n",
       "Mitoses                        0\n",
       "Class                          0\n",
       "dtype: int64"
      ]
     },
     "execution_count": 4,
     "metadata": {},
     "output_type": "execute_result"
    }
   ],
   "source": [
    "df.isna().sum()"
   ]
  },
  {
   "cell_type": "code",
   "execution_count": 5,
   "metadata": {},
   "outputs": [
    {
     "data": {
      "text/plain": [
       "['Sample_Code_Number',\n",
       " 'Clump_Thickness',\n",
       " 'Uniformity_of_Cell_Size',\n",
       " 'Uniformity_of_Cell_Shape',\n",
       " 'Marginal_Adhesion',\n",
       " 'Single_Epithelial_Cell_Size',\n",
       " 'Bare_Nuclei',\n",
       " 'Bland_Chromatin',\n",
       " 'Normal_Nucleoli',\n",
       " 'Mitoses',\n",
       " 'Class']"
      ]
     },
     "execution_count": 5,
     "metadata": {},
     "output_type": "execute_result"
    }
   ],
   "source": [
    "list = df.columns.tolist\n",
    "list()"
   ]
  },
  {
   "cell_type": "code",
   "execution_count": 6,
   "metadata": {},
   "outputs": [
    {
     "data": {
      "text/plain": [
       "1     145\n",
       "2      50\n",
       "3     108\n",
       "4      80\n",
       "5     130\n",
       "6      34\n",
       "7      23\n",
       "8      46\n",
       "9      14\n",
       "10     69\n",
       "Name: Clump_Thickness, dtype: int64"
      ]
     },
     "execution_count": 6,
     "metadata": {},
     "output_type": "execute_result"
    }
   ],
   "source": [
    "df.Clump_Thickness.value_counts().sort_index(ascending=True)"
   ]
  },
  {
   "cell_type": "code",
   "execution_count": 7,
   "metadata": {},
   "outputs": [
    {
     "data": {
      "text/plain": [
       "1     384\n",
       "2      45\n",
       "3      52\n",
       "4      40\n",
       "5      30\n",
       "6      27\n",
       "7      19\n",
       "8      29\n",
       "9       6\n",
       "10     67\n",
       "Name: Uniformity_of_Cell_Size, dtype: int64"
      ]
     },
     "execution_count": 7,
     "metadata": {},
     "output_type": "execute_result"
    }
   ],
   "source": [
    "df.Uniformity_of_Cell_Size.value_counts().sort_index(ascending=True)"
   ]
  },
  {
   "cell_type": "code",
   "execution_count": 8,
   "metadata": {},
   "outputs": [
    {
     "data": {
      "text/plain": [
       "1     353\n",
       "2      59\n",
       "3      56\n",
       "4      44\n",
       "5      34\n",
       "6      30\n",
       "7      30\n",
       "8      28\n",
       "9       7\n",
       "10     58\n",
       "Name: Uniformity_of_Cell_Shape, dtype: int64"
      ]
     },
     "execution_count": 8,
     "metadata": {},
     "output_type": "execute_result"
    }
   ],
   "source": [
    "df.Uniformity_of_Cell_Shape.value_counts().sort_index(ascending=True)"
   ]
  },
  {
   "cell_type": "code",
   "execution_count": 9,
   "metadata": {},
   "outputs": [
    {
     "data": {
      "text/plain": [
       "1     407\n",
       "2      58\n",
       "3      58\n",
       "4      33\n",
       "5      23\n",
       "6      22\n",
       "7      13\n",
       "8      25\n",
       "9       5\n",
       "10     55\n",
       "Name: Marginal_Adhesion, dtype: int64"
      ]
     },
     "execution_count": 9,
     "metadata": {},
     "output_type": "execute_result"
    }
   ],
   "source": [
    "df.Marginal_Adhesion.value_counts().sort_index(ascending=True)"
   ]
  },
  {
   "cell_type": "code",
   "execution_count": 10,
   "metadata": {},
   "outputs": [
    {
     "data": {
      "text/plain": [
       "1      47\n",
       "2     386\n",
       "3      72\n",
       "4      48\n",
       "5      39\n",
       "6      41\n",
       "7      12\n",
       "8      21\n",
       "9       2\n",
       "10     31\n",
       "Name: Single_Epithelial_Cell_Size, dtype: int64"
      ]
     },
     "execution_count": 10,
     "metadata": {},
     "output_type": "execute_result"
    }
   ],
   "source": [
    "df.Single_Epithelial_Cell_Size.value_counts().sort_index(ascending=True)"
   ]
  },
  {
   "cell_type": "code",
   "execution_count": 11,
   "metadata": {},
   "outputs": [
    {
     "data": {
      "text/plain": [
       "1     402\n",
       "10    132\n",
       "2      30\n",
       "3      28\n",
       "4      19\n",
       "5      30\n",
       "6       4\n",
       "7       8\n",
       "8      21\n",
       "9       9\n",
       "?      16\n",
       "Name: Bare_Nuclei, dtype: int64"
      ]
     },
     "execution_count": 11,
     "metadata": {},
     "output_type": "execute_result"
    }
   ],
   "source": [
    "df.Bare_Nuclei.value_counts().sort_index(ascending=True)"
   ]
  },
  {
   "cell_type": "code",
   "execution_count": 12,
   "metadata": {},
   "outputs": [
    {
     "data": {
      "text/plain": [
       "1     152\n",
       "2     166\n",
       "3     165\n",
       "4      40\n",
       "5      34\n",
       "6      10\n",
       "7      73\n",
       "8      28\n",
       "9      11\n",
       "10     20\n",
       "Name: Bland_Chromatin, dtype: int64"
      ]
     },
     "execution_count": 12,
     "metadata": {},
     "output_type": "execute_result"
    }
   ],
   "source": [
    "df.Bland_Chromatin.value_counts().sort_index(ascending=True)"
   ]
  },
  {
   "cell_type": "code",
   "execution_count": 13,
   "metadata": {},
   "outputs": [
    {
     "data": {
      "text/plain": [
       "1     443\n",
       "2      36\n",
       "3      44\n",
       "4      18\n",
       "5      19\n",
       "6      22\n",
       "7      16\n",
       "8      24\n",
       "9      16\n",
       "10     61\n",
       "Name: Normal_Nucleoli, dtype: int64"
      ]
     },
     "execution_count": 13,
     "metadata": {},
     "output_type": "execute_result"
    }
   ],
   "source": [
    "df.Normal_Nucleoli.value_counts().sort_index(ascending=True)"
   ]
  },
  {
   "cell_type": "code",
   "execution_count": 14,
   "metadata": {},
   "outputs": [
    {
     "data": {
      "text/plain": [
       "1     579\n",
       "2      35\n",
       "3      33\n",
       "4      12\n",
       "5       6\n",
       "6       3\n",
       "7       9\n",
       "8       8\n",
       "10     14\n",
       "Name: Mitoses, dtype: int64"
      ]
     },
     "execution_count": 14,
     "metadata": {},
     "output_type": "execute_result"
    }
   ],
   "source": [
    "df.Mitoses.value_counts().sort_index(ascending=True)"
   ]
  },
  {
   "cell_type": "code",
   "execution_count": 15,
   "metadata": {},
   "outputs": [
    {
     "data": {
      "text/plain": [
       "2    458\n",
       "4    241\n",
       "Name: Class, dtype: int64"
      ]
     },
     "execution_count": 15,
     "metadata": {},
     "output_type": "execute_result"
    }
   ],
   "source": [
    "df.Class.value_counts().sort_index(ascending=True)"
   ]
  },
  {
   "cell_type": "code",
   "execution_count": 16,
   "metadata": {},
   "outputs": [],
   "source": [
    "# Remove rows with missing values ('?') in the \"Bare Nuclei\" column\n",
    "df = df[df['Bare_Nuclei'] != '?']\n",
    "\n",
    "# Reset the index of the DataFrame after removing rows\n",
    "df = df.reset_index(drop=True)"
   ]
  },
  {
   "cell_type": "code",
   "execution_count": 17,
   "metadata": {},
   "outputs": [
    {
     "name": "stdout",
     "output_type": "stream",
     "text": [
      "1     402\n",
      "10    132\n",
      "2      30\n",
      "5      30\n",
      "3      28\n",
      "8      21\n",
      "4      19\n",
      "9       9\n",
      "7       8\n",
      "6       4\n",
      "Name: Bare_Nuclei, dtype: int64\n"
     ]
    }
   ],
   "source": [
    "# Check the value counts again to verify that the rows with missing values have been removed\n",
    "print(df['Bare_Nuclei'].value_counts())"
   ]
  },
  {
   "cell_type": "code",
   "execution_count": 18,
   "metadata": {},
   "outputs": [
    {
     "data": {
      "text/plain": [
       "(683, 11)"
      ]
     },
     "execution_count": 18,
     "metadata": {},
     "output_type": "execute_result"
    }
   ],
   "source": [
    "df.shape"
   ]
  },
  {
   "cell_type": "code",
   "execution_count": 19,
   "metadata": {},
   "outputs": [
    {
     "data": {
      "text/html": [
       "<div>\n",
       "<style scoped>\n",
       "    .dataframe tbody tr th:only-of-type {\n",
       "        vertical-align: middle;\n",
       "    }\n",
       "\n",
       "    .dataframe tbody tr th {\n",
       "        vertical-align: top;\n",
       "    }\n",
       "\n",
       "    .dataframe thead th {\n",
       "        text-align: right;\n",
       "    }\n",
       "</style>\n",
       "<table border=\"1\" class=\"dataframe\">\n",
       "  <thead>\n",
       "    <tr style=\"text-align: right;\">\n",
       "      <th></th>\n",
       "      <th>Sample_Code_Number</th>\n",
       "      <th>Clump_Thickness</th>\n",
       "      <th>Uniformity_of_Cell_Size</th>\n",
       "      <th>Uniformity_of_Cell_Shape</th>\n",
       "      <th>Marginal_Adhesion</th>\n",
       "      <th>Single_Epithelial_Cell_Size</th>\n",
       "      <th>Bare_Nuclei</th>\n",
       "      <th>Bland_Chromatin</th>\n",
       "      <th>Normal_Nucleoli</th>\n",
       "      <th>Mitoses</th>\n",
       "      <th>Class</th>\n",
       "    </tr>\n",
       "  </thead>\n",
       "  <tbody>\n",
       "    <tr>\n",
       "      <th>0</th>\n",
       "      <td>1000025</td>\n",
       "      <td>5</td>\n",
       "      <td>1</td>\n",
       "      <td>1</td>\n",
       "      <td>1</td>\n",
       "      <td>2</td>\n",
       "      <td>1</td>\n",
       "      <td>3</td>\n",
       "      <td>1</td>\n",
       "      <td>1</td>\n",
       "      <td>2</td>\n",
       "    </tr>\n",
       "    <tr>\n",
       "      <th>1</th>\n",
       "      <td>1002945</td>\n",
       "      <td>5</td>\n",
       "      <td>4</td>\n",
       "      <td>4</td>\n",
       "      <td>5</td>\n",
       "      <td>7</td>\n",
       "      <td>10</td>\n",
       "      <td>3</td>\n",
       "      <td>2</td>\n",
       "      <td>1</td>\n",
       "      <td>2</td>\n",
       "    </tr>\n",
       "    <tr>\n",
       "      <th>2</th>\n",
       "      <td>1015425</td>\n",
       "      <td>3</td>\n",
       "      <td>1</td>\n",
       "      <td>1</td>\n",
       "      <td>1</td>\n",
       "      <td>2</td>\n",
       "      <td>2</td>\n",
       "      <td>3</td>\n",
       "      <td>1</td>\n",
       "      <td>1</td>\n",
       "      <td>2</td>\n",
       "    </tr>\n",
       "    <tr>\n",
       "      <th>3</th>\n",
       "      <td>1016277</td>\n",
       "      <td>6</td>\n",
       "      <td>8</td>\n",
       "      <td>8</td>\n",
       "      <td>1</td>\n",
       "      <td>3</td>\n",
       "      <td>4</td>\n",
       "      <td>3</td>\n",
       "      <td>7</td>\n",
       "      <td>1</td>\n",
       "      <td>2</td>\n",
       "    </tr>\n",
       "    <tr>\n",
       "      <th>4</th>\n",
       "      <td>1017023</td>\n",
       "      <td>4</td>\n",
       "      <td>1</td>\n",
       "      <td>1</td>\n",
       "      <td>3</td>\n",
       "      <td>2</td>\n",
       "      <td>1</td>\n",
       "      <td>3</td>\n",
       "      <td>1</td>\n",
       "      <td>1</td>\n",
       "      <td>2</td>\n",
       "    </tr>\n",
       "  </tbody>\n",
       "</table>\n",
       "</div>"
      ],
      "text/plain": [
       "   Sample_Code_Number  Clump_Thickness  Uniformity_of_Cell_Size  \\\n",
       "0             1000025                5                        1   \n",
       "1             1002945                5                        4   \n",
       "2             1015425                3                        1   \n",
       "3             1016277                6                        8   \n",
       "4             1017023                4                        1   \n",
       "\n",
       "   Uniformity_of_Cell_Shape  Marginal_Adhesion  Single_Epithelial_Cell_Size  \\\n",
       "0                         1                  1                            2   \n",
       "1                         4                  5                            7   \n",
       "2                         1                  1                            2   \n",
       "3                         8                  1                            3   \n",
       "4                         1                  3                            2   \n",
       "\n",
       "  Bare_Nuclei  Bland_Chromatin  Normal_Nucleoli  Mitoses  Class  \n",
       "0           1                3                1        1      2  \n",
       "1          10                3                2        1      2  \n",
       "2           2                3                1        1      2  \n",
       "3           4                3                7        1      2  \n",
       "4           1                3                1        1      2  "
      ]
     },
     "execution_count": 19,
     "metadata": {},
     "output_type": "execute_result"
    }
   ],
   "source": [
    "df.head()"
   ]
  },
  {
   "cell_type": "code",
   "execution_count": 20,
   "metadata": {},
   "outputs": [
    {
     "name": "stdout",
     "output_type": "stream",
     "text": [
      "Sample_Code_Number              int64\n",
      "Clump_Thickness                 int64\n",
      "Uniformity_of_Cell_Size         int64\n",
      "Uniformity_of_Cell_Shape        int64\n",
      "Marginal_Adhesion               int64\n",
      "Single_Epithelial_Cell_Size     int64\n",
      "Bare_Nuclei                    object\n",
      "Bland_Chromatin                 int64\n",
      "Normal_Nucleoli                 int64\n",
      "Mitoses                         int64\n",
      "Class                           int64\n",
      "dtype: object\n"
     ]
    }
   ],
   "source": [
    "print(df.dtypes)"
   ]
  },
  {
   "cell_type": "code",
   "execution_count": 21,
   "metadata": {},
   "outputs": [],
   "source": [
    "df['Bare_Nuclei'] = pd.to_numeric(df['Bare_Nuclei'], errors='coerce')"
   ]
  },
  {
   "cell_type": "code",
   "execution_count": 22,
   "metadata": {},
   "outputs": [],
   "source": [
    "# Remove the \"Sample Code Number\" column\n",
    "df.drop(\"Sample_Code_Number\", axis=1,inplace=True)"
   ]
  },
  {
   "cell_type": "code",
   "execution_count": 23,
   "metadata": {},
   "outputs": [],
   "source": [
    "df['Bare_Nuclei'] = df['Bare_Nuclei'].astype(int)"
   ]
  },
  {
   "cell_type": "code",
   "execution_count": 24,
   "metadata": {},
   "outputs": [
    {
     "data": {
      "text/html": [
       "<div>\n",
       "<style scoped>\n",
       "    .dataframe tbody tr th:only-of-type {\n",
       "        vertical-align: middle;\n",
       "    }\n",
       "\n",
       "    .dataframe tbody tr th {\n",
       "        vertical-align: top;\n",
       "    }\n",
       "\n",
       "    .dataframe thead th {\n",
       "        text-align: right;\n",
       "    }\n",
       "</style>\n",
       "<table border=\"1\" class=\"dataframe\">\n",
       "  <thead>\n",
       "    <tr style=\"text-align: right;\">\n",
       "      <th></th>\n",
       "      <th>Clump_Thickness</th>\n",
       "      <th>Uniformity_of_Cell_Size</th>\n",
       "      <th>Uniformity_of_Cell_Shape</th>\n",
       "      <th>Marginal_Adhesion</th>\n",
       "      <th>Single_Epithelial_Cell_Size</th>\n",
       "      <th>Bare_Nuclei</th>\n",
       "      <th>Bland_Chromatin</th>\n",
       "      <th>Normal_Nucleoli</th>\n",
       "      <th>Mitoses</th>\n",
       "      <th>Class</th>\n",
       "    </tr>\n",
       "  </thead>\n",
       "  <tbody>\n",
       "    <tr>\n",
       "      <th>0</th>\n",
       "      <td>5</td>\n",
       "      <td>1</td>\n",
       "      <td>1</td>\n",
       "      <td>1</td>\n",
       "      <td>2</td>\n",
       "      <td>1</td>\n",
       "      <td>3</td>\n",
       "      <td>1</td>\n",
       "      <td>1</td>\n",
       "      <td>2</td>\n",
       "    </tr>\n",
       "    <tr>\n",
       "      <th>1</th>\n",
       "      <td>5</td>\n",
       "      <td>4</td>\n",
       "      <td>4</td>\n",
       "      <td>5</td>\n",
       "      <td>7</td>\n",
       "      <td>10</td>\n",
       "      <td>3</td>\n",
       "      <td>2</td>\n",
       "      <td>1</td>\n",
       "      <td>2</td>\n",
       "    </tr>\n",
       "    <tr>\n",
       "      <th>2</th>\n",
       "      <td>3</td>\n",
       "      <td>1</td>\n",
       "      <td>1</td>\n",
       "      <td>1</td>\n",
       "      <td>2</td>\n",
       "      <td>2</td>\n",
       "      <td>3</td>\n",
       "      <td>1</td>\n",
       "      <td>1</td>\n",
       "      <td>2</td>\n",
       "    </tr>\n",
       "    <tr>\n",
       "      <th>3</th>\n",
       "      <td>6</td>\n",
       "      <td>8</td>\n",
       "      <td>8</td>\n",
       "      <td>1</td>\n",
       "      <td>3</td>\n",
       "      <td>4</td>\n",
       "      <td>3</td>\n",
       "      <td>7</td>\n",
       "      <td>1</td>\n",
       "      <td>2</td>\n",
       "    </tr>\n",
       "    <tr>\n",
       "      <th>4</th>\n",
       "      <td>4</td>\n",
       "      <td>1</td>\n",
       "      <td>1</td>\n",
       "      <td>3</td>\n",
       "      <td>2</td>\n",
       "      <td>1</td>\n",
       "      <td>3</td>\n",
       "      <td>1</td>\n",
       "      <td>1</td>\n",
       "      <td>2</td>\n",
       "    </tr>\n",
       "  </tbody>\n",
       "</table>\n",
       "</div>"
      ],
      "text/plain": [
       "   Clump_Thickness  Uniformity_of_Cell_Size  Uniformity_of_Cell_Shape  \\\n",
       "0                5                        1                         1   \n",
       "1                5                        4                         4   \n",
       "2                3                        1                         1   \n",
       "3                6                        8                         8   \n",
       "4                4                        1                         1   \n",
       "\n",
       "   Marginal_Adhesion  Single_Epithelial_Cell_Size  Bare_Nuclei  \\\n",
       "0                  1                            2            1   \n",
       "1                  5                            7           10   \n",
       "2                  1                            2            2   \n",
       "3                  1                            3            4   \n",
       "4                  3                            2            1   \n",
       "\n",
       "   Bland_Chromatin  Normal_Nucleoli  Mitoses  Class  \n",
       "0                3                1        1      2  \n",
       "1                3                2        1      2  \n",
       "2                3                1        1      2  \n",
       "3                3                7        1      2  \n",
       "4                3                1        1      2  "
      ]
     },
     "execution_count": 24,
     "metadata": {},
     "output_type": "execute_result"
    }
   ],
   "source": [
    "df.head()"
   ]
  },
  {
   "cell_type": "code",
   "execution_count": 25,
   "metadata": {},
   "outputs": [
    {
     "data": {
      "text/html": [
       "<div>\n",
       "<style scoped>\n",
       "    .dataframe tbody tr th:only-of-type {\n",
       "        vertical-align: middle;\n",
       "    }\n",
       "\n",
       "    .dataframe tbody tr th {\n",
       "        vertical-align: top;\n",
       "    }\n",
       "\n",
       "    .dataframe thead th {\n",
       "        text-align: right;\n",
       "    }\n",
       "</style>\n",
       "<table border=\"1\" class=\"dataframe\">\n",
       "  <thead>\n",
       "    <tr style=\"text-align: right;\">\n",
       "      <th></th>\n",
       "      <th>Clump_Thickness</th>\n",
       "      <th>Uniformity_of_Cell_Size</th>\n",
       "      <th>Uniformity_of_Cell_Shape</th>\n",
       "      <th>Marginal_Adhesion</th>\n",
       "      <th>Single_Epithelial_Cell_Size</th>\n",
       "      <th>Bare_Nuclei</th>\n",
       "      <th>Bland_Chromatin</th>\n",
       "      <th>Normal_Nucleoli</th>\n",
       "      <th>Mitoses</th>\n",
       "      <th>Class</th>\n",
       "    </tr>\n",
       "  </thead>\n",
       "  <tbody>\n",
       "    <tr>\n",
       "      <th>678</th>\n",
       "      <td>3</td>\n",
       "      <td>1</td>\n",
       "      <td>1</td>\n",
       "      <td>1</td>\n",
       "      <td>3</td>\n",
       "      <td>2</td>\n",
       "      <td>1</td>\n",
       "      <td>1</td>\n",
       "      <td>1</td>\n",
       "      <td>2</td>\n",
       "    </tr>\n",
       "    <tr>\n",
       "      <th>679</th>\n",
       "      <td>2</td>\n",
       "      <td>1</td>\n",
       "      <td>1</td>\n",
       "      <td>1</td>\n",
       "      <td>2</td>\n",
       "      <td>1</td>\n",
       "      <td>1</td>\n",
       "      <td>1</td>\n",
       "      <td>1</td>\n",
       "      <td>2</td>\n",
       "    </tr>\n",
       "    <tr>\n",
       "      <th>680</th>\n",
       "      <td>5</td>\n",
       "      <td>10</td>\n",
       "      <td>10</td>\n",
       "      <td>3</td>\n",
       "      <td>7</td>\n",
       "      <td>3</td>\n",
       "      <td>8</td>\n",
       "      <td>10</td>\n",
       "      <td>2</td>\n",
       "      <td>4</td>\n",
       "    </tr>\n",
       "    <tr>\n",
       "      <th>681</th>\n",
       "      <td>4</td>\n",
       "      <td>8</td>\n",
       "      <td>6</td>\n",
       "      <td>4</td>\n",
       "      <td>3</td>\n",
       "      <td>4</td>\n",
       "      <td>10</td>\n",
       "      <td>6</td>\n",
       "      <td>1</td>\n",
       "      <td>4</td>\n",
       "    </tr>\n",
       "    <tr>\n",
       "      <th>682</th>\n",
       "      <td>4</td>\n",
       "      <td>8</td>\n",
       "      <td>8</td>\n",
       "      <td>5</td>\n",
       "      <td>4</td>\n",
       "      <td>5</td>\n",
       "      <td>10</td>\n",
       "      <td>4</td>\n",
       "      <td>1</td>\n",
       "      <td>4</td>\n",
       "    </tr>\n",
       "  </tbody>\n",
       "</table>\n",
       "</div>"
      ],
      "text/plain": [
       "     Clump_Thickness  Uniformity_of_Cell_Size  Uniformity_of_Cell_Shape  \\\n",
       "678                3                        1                         1   \n",
       "679                2                        1                         1   \n",
       "680                5                       10                        10   \n",
       "681                4                        8                         6   \n",
       "682                4                        8                         8   \n",
       "\n",
       "     Marginal_Adhesion  Single_Epithelial_Cell_Size  Bare_Nuclei  \\\n",
       "678                  1                            3            2   \n",
       "679                  1                            2            1   \n",
       "680                  3                            7            3   \n",
       "681                  4                            3            4   \n",
       "682                  5                            4            5   \n",
       "\n",
       "     Bland_Chromatin  Normal_Nucleoli  Mitoses  Class  \n",
       "678                1                1        1      2  \n",
       "679                1                1        1      2  \n",
       "680                8               10        2      4  \n",
       "681               10                6        1      4  \n",
       "682               10                4        1      4  "
      ]
     },
     "execution_count": 25,
     "metadata": {},
     "output_type": "execute_result"
    }
   ],
   "source": [
    "df.tail()"
   ]
  },
  {
   "cell_type": "code",
   "execution_count": 26,
   "metadata": {},
   "outputs": [],
   "source": [
    "# Replace 2 with 0 and 4 with 1 in the 'Class' column\n",
    "df['Class'] = df['Class'].replace({2: 0, 4: 1})"
   ]
  },
  {
   "cell_type": "code",
   "execution_count": 27,
   "metadata": {},
   "outputs": [
    {
     "data": {
      "image/png": "[encoded data removed]",
      "text/plain": [
       "<Figure size 576x432 with 1 Axes>"
      ]
     },
     "metadata": {
      "needs_background": "light"
     },
     "output_type": "display_data"
    }
   ],
   "source": [
    "# Group the DataFrame by the \"Class\" column and count the occurrences of each diagnosis\n",
    "diagnosis_counts = df['Class'].value_counts()\n",
    "\n",
    "# Create a bar plot\n",
    "plt.figure(figsize=(8, 6))\n",
    "ax = diagnosis_counts.plot(kind='bar', color=['green', 'red'])\n",
    "\n",
    "# Customize the plot labels and title\n",
    "plt.xlabel('Diagnosis')\n",
    "plt.ylabel('Count')\n",
    "plt.title('Diagnosis Count in Breast Cancer Dataset')\n",
    "\n",
    "# Annotate the bars with their counts\n",
    "for i, v in enumerate(diagnosis_counts):\n",
    "    ax.text(i, v + 5, str(v), ha='center', va='bottom', fontsize=12)\n",
    "\n",
    "# Add the total count as a text annotation\n",
    "total_count = diagnosis_counts.sum()\n",
    "plt.text(0.5, total_count + 10, f'Total: {total_count}', ha='center', va='bottom', fontsize=12)\n",
    "\n",
    "# Show the plot\n",
    "plt.show()"
   ]
  },
  {
   "cell_type": "code",
   "execution_count": 28,
   "metadata": {},
   "outputs": [],
   "source": [
    "# Prepare the Data\n",
    "# Separate features and target variable\n",
    "X = df.drop(\"Class\", axis=1)  # Features\n",
    "y = df[\"Class\"]  # Target variable"
   ]
  },
  {
   "cell_type": "code",
   "execution_count": 29,
   "metadata": {},
   "outputs": [],
   "source": [
    "# Split the Data\n",
    "X_train, X_test, y_train, y_test = train_test_split(X, y, test_size=0.4, random_state=42, stratify=y)"
   ]
  },
  {
   "cell_type": "markdown",
   "metadata": {},
   "source": [
    "#### KNN"
   ]
  },
  {
   "cell_type": "code",
   "execution_count": 30,
   "metadata": {},
   "outputs": [],
   "source": [
    "# Create a KNN classifier with k=3\n",
    "knn = KNeighborsClassifier(n_neighbors=3)"
   ]
  },
  {
   "cell_type": "code",
   "execution_count": 31,
   "metadata": {},
   "outputs": [],
   "source": [
    "# Specify the number of cross-validation folds (K) - e.g., 5-fold cross-validation\n",
    "n_splits = 5\n",
    "cv = StratifiedKFold(n_splits=n_splits, shuffle=True, random_state=4)"
   ]
  },
  {
   "cell_type": "code",
   "execution_count": 32,
   "metadata": {},
   "outputs": [],
   "source": [
    "# Perform K-fold cross-validation and get the classification scores\n",
    "scores = cross_val_score(knn, X, y, cv=cv, scoring='accuracy')"
   ]
  },
  {
   "cell_type": "code",
   "execution_count": 33,
   "metadata": {},
   "outputs": [
    {
     "name": "stdout",
     "output_type": "stream",
     "text": [
      "Cross-Validation Accuracy Scores:\n",
      "Fold 1: 0.970803\n",
      "Fold 2: 0.978102\n",
      "Fold 3: 0.970803\n",
      "Fold 4: 0.985294\n",
      "Fold 5: 0.970588\n"
     ]
    }
   ],
   "source": [
    "# Print the accuracy for each fold\n",
    "print(\"Cross-Validation Accuracy Scores:\")\n",
    "for i, score in enumerate(scores):\n",
    "    print(f\"Fold {i+1}: {score:.6f}\")"
   ]
  },
  {
   "cell_type": "code",
   "execution_count": 34,
   "metadata": {},
   "outputs": [
    {
     "name": "stdout",
     "output_type": "stream",
     "text": [
      "Mean Accuracy: 0.975118\n",
      "Standard Deviation: 0.005835\n"
     ]
    }
   ],
   "source": [
    "# Calculate and print the mean accuracy and standard deviation\n",
    "mean_accuracy = np.mean(scores)\n",
    "std_accuracy = np.std(scores)\n",
    "print(f\"Mean Accuracy: {mean_accuracy:.6f}\")\n",
    "print(f\"Standard Deviation: {std_accuracy:.6f}\")"
   ]
  },
  {
   "cell_type": "code",
   "execution_count": 35,
   "metadata": {},
   "outputs": [
    {
     "name": "stdout",
     "output_type": "stream",
     "text": [
      "Cross-Validation Metrics:\n",
      "Fold 1:\n",
      "  Accuracy: 0.970803\n",
      "  Class 1:\n",
      "    Precision: 0.988506\n",
      "    Recall: 0.966292\n",
      "\n",
      "  Class 2:\n",
      "    Precision: 0.940000\n",
      "    Recall: 0.979167\n",
      "\n",
      "Fold 2:\n",
      "  Accuracy: 0.978102\n",
      "  Class 1:\n",
      "    Precision: 0.977778\n",
      "    Recall: 0.988764\n",
      "\n",
      "  Class 2:\n",
      "    Precision: 0.978723\n",
      "    Recall: 0.958333\n",
      "\n",
      "Fold 3:\n",
      "  Accuracy: 0.970803\n",
      "  Class 1:\n",
      "    Precision: 0.977528\n",
      "    Recall: 0.977528\n",
      "\n",
      "  Class 2:\n",
      "    Precision: 0.958333\n",
      "    Recall: 0.958333\n",
      "\n",
      "Fold 4:\n",
      "  Accuracy: 0.985294\n",
      "  Class 1:\n",
      "    Precision: 1.000000\n",
      "    Recall: 0.977528\n",
      "\n",
      "  Class 2:\n",
      "    Precision: 0.959184\n",
      "    Recall: 1.000000\n",
      "\n",
      "Fold 5:\n",
      "  Accuracy: 0.970588\n",
      "  Class 1:\n",
      "    Precision: 0.966667\n",
      "    Recall: 0.988636\n",
      "\n",
      "  Class 2:\n",
      "    Precision: 0.978261\n",
      "    Recall: 0.937500\n",
      "\n",
      "KNN\n",
      "Mean Metrics:\n",
      "Mean Accuracy: 0.975118\n",
      "Class 1:\n",
      "  Mean Precision: 0.982096\n",
      "  Mean Recall: 0.979750\n",
      "\n",
      "Class 2:\n",
      "  Mean Precision: 0.962900\n",
      "  Mean Recall: 0.966667\n",
      "\n",
      "Standard Deviation Metrics:\n",
      "Standard Deviation Accuracy: 0.005835\n",
      "Class 1:\n",
      "  Standard Deviation Precision: 0.011307\n",
      "  Standard Deviation Recall: 0.008381\n",
      "Class 2:\n",
      "  Standard Deviation Precision: 0.014460\n",
      "  Standard Deviation Recall: 0.021246\n"
     ]
    }
   ],
   "source": [
    "# Initialize lists to store precision and recall values for each fold\n",
    "precision_per_fold = []\n",
    "recall_per_fold = []\n",
    "\n",
    "# Perform K-fold cross-validation and get the predicted labels for each fold\n",
    "predicted_labels = cross_val_predict(knn, X, y, cv=cv)\n",
    "\n",
    "# Calculate and print accuracy, precision, and recall for each fold and class\n",
    "print(\"Cross-Validation Metrics:\")\n",
    "for i, (train_idx, test_idx) in enumerate(cv.split(X, y)):\n",
    "    accuracy = accuracy_score(y[test_idx], predicted_labels[test_idx])\n",
    "    precision = precision_score(y[test_idx], predicted_labels[test_idx], average=None)\n",
    "    recall = recall_score(y[test_idx], predicted_labels[test_idx], average=None)\n",
    "    \n",
    "    print(f\"Fold {i + 1}:\")\n",
    "    print(f\"  Accuracy: {accuracy:.6f}\")\n",
    "    \n",
    "    for class_idx, (prec, rec) in enumerate(zip(precision, recall)):\n",
    "        print(f\"  Class {class_idx + 1}:\")\n",
    "        print(f\"    Precision: {prec:.6f}\")\n",
    "        print(f\"    Recall: {rec:.6f}\")\n",
    "        print()\n",
    "    \n",
    "    # Append precision and recall values for this fold to the lists\n",
    "    precision_per_fold.append(precision)\n",
    "    recall_per_fold.append(recall)\n",
    "\n",
    "# Calculate and print the mean accuracy, precision, and recall across all folds\n",
    "mean_accuracy = np.mean(scores)\n",
    "\n",
    "# Calculate mean precision and recall for each class\n",
    "mean_precision_per_class = np.mean(precision_per_fold, axis=0)\n",
    "mean_recall_per_class = np.mean(recall_per_fold, axis=0)\n",
    "\n",
    "# Calculate standard deviation of accuracy, precision, and recall across folds\n",
    "std_accuracy = np.std(scores)\n",
    "std_precision_per_class = np.std(precision_per_fold, axis=0)\n",
    "std_recall_per_class = np.std(recall_per_fold, axis=0)\n",
    "print(\"KNN\")\n",
    "print(\"Mean Metrics:\")\n",
    "print(f\"Mean Accuracy: {mean_accuracy:.6f}\")\n",
    "\n",
    "for class_idx, (mean_prec, mean_rec) in enumerate(zip(mean_precision_per_class, mean_recall_per_class)):\n",
    "    print(f\"Class {class_idx + 1}:\")\n",
    "    print(f\"  Mean Precision: {mean_prec:.6f}\")\n",
    "    print(f\"  Mean Recall: {mean_rec:.6f}\")\n",
    "    print()\n",
    "\n",
    "print(\"Standard Deviation Metrics:\")\n",
    "print(f\"Standard Deviation Accuracy: {std_accuracy:.6f}\")\n",
    "\n",
    "for class_idx, (std_prec, std_rec) in enumerate(zip(std_precision_per_class, std_recall_per_class)):\n",
    "    print(f\"Class {class_idx + 1}:\")\n",
    "    print(f\"  Standard Deviation Precision: {std_prec:.6f}\")\n",
    "    print(f\"  Standard Deviation Recall: {std_rec:.6f}\")\n"
   ]
  },
  {
   "cell_type": "markdown",
   "metadata": {},
   "source": [
    "##### 60 - 40 split model training and evaluation for KNN"
   ]
  },
  {
   "cell_type": "code",
   "execution_count": 36,
   "metadata": {},
   "outputs": [
    {
     "data": {
      "text/plain": [
       "KNeighborsClassifier(n_neighbors=3)"
      ]
     },
     "execution_count": 36,
     "metadata": {},
     "output_type": "execute_result"
    }
   ],
   "source": [
    "# Fit KNN model for train set\n",
    "knn.fit(X_train, y_train)"
   ]
  },
  {
   "cell_type": "code",
   "execution_count": 37,
   "metadata": {},
   "outputs": [
    {
     "name": "stdout",
     "output_type": "stream",
     "text": [
      "KNN Classification Report:\n",
      "              precision    recall  f1-score   support\n",
      "\n",
      "           0   0.982857  0.966292  0.974504       178\n",
      "           1   0.939394  0.968750  0.953846        96\n",
      "\n",
      "    accuracy                       0.967153       274\n",
      "   macro avg   0.961126  0.967521  0.964175       274\n",
      "weighted avg   0.967629  0.967153  0.967266       274\n",
      "\n"
     ]
    },
    {
     "data": {
      "image/png": "[encoded data removed]",
      "text/plain": [
       "<Figure size 468x360 with 2 Axes>"
      ]
     },
     "metadata": {
      "needs_background": "light"
     },
     "output_type": "display_data"
    }
   ],
   "source": [
    "# Use the trained KNN model to make predictions on the test data\n",
    "y_pred = knn.predict(X_test)\n",
    "\n",
    "# Print the Classification Report with 4 decimal points\n",
    "report = classification_report(y_test, y_pred, digits=6)\n",
    "print(\"KNN Classification Report:\")\n",
    "print(report)\n",
    "\n",
    "# Print the Confusion Matrix using a Heatmap\n",
    "conf_matrix = confusion_matrix(y_test, y_pred)\n",
    "plt.figure(figsize=(6.5, 5))\n",
    "sns.heatmap(conf_matrix, annot=True, cmap='Blues', fmt='d', annot_kws={\"size\": 12})\n",
    "plt.xlabel('Predicted')\n",
    "plt.ylabel('Actual')\n",
    "plt.title('KNN Confusion Matrix')\n",
    "plt.show()"
   ]
  },
  {
   "cell_type": "markdown",
   "metadata": {},
   "source": [
    "#### NBC"
   ]
  },
  {
   "cell_type": "code",
   "execution_count": 38,
   "metadata": {},
   "outputs": [],
   "source": [
    "# Create and train the Gaussian Naive Bayes model\n",
    "naive_bayes = GaussianNB()"
   ]
  },
  {
   "cell_type": "code",
   "execution_count": 39,
   "metadata": {},
   "outputs": [],
   "source": [
    "# Specify the number of cross-validation folds (K) - e.g., 5-fold cross-validation\n",
    "n_splits = 5\n",
    "cv = StratifiedKFold(n_splits=n_splits, shuffle=True, random_state=4)"
   ]
  },
  {
   "cell_type": "code",
   "execution_count": 40,
   "metadata": {},
   "outputs": [],
   "source": [
    "# Perform K-fold cross-validation and get the classification scores\n",
    "scores = cross_val_score(naive_bayes, X, y, cv=cv, scoring='accuracy')"
   ]
  },
  {
   "cell_type": "code",
   "execution_count": 41,
   "metadata": {},
   "outputs": [
    {
     "name": "stdout",
     "output_type": "stream",
     "text": [
      "Cross-Validation Accuracy Scores:\n",
      "Fold 1: 0.970803\n",
      "Fold 2: 0.941606\n",
      "Fold 3: 0.963504\n",
      "Fold 4: 0.970588\n",
      "Fold 5: 0.963235\n"
     ]
    }
   ],
   "source": [
    "# Print the accuracy for each fold\n",
    "print(\"Cross-Validation Accuracy Scores:\")\n",
    "for i, score in enumerate(scores):\n",
    "    print(f\"Fold {i+1}: {score:.6f}\")"
   ]
  },
  {
   "cell_type": "code",
   "execution_count": 42,
   "metadata": {},
   "outputs": [
    {
     "name": "stdout",
     "output_type": "stream",
     "text": [
      "Mean Accuracy: 0.961947\n",
      "Standard Deviation: 0.010686\n"
     ]
    }
   ],
   "source": [
    "# Calculate and print the mean accuracy and standard deviation\n",
    "mean_accuracy = np.mean(scores)\n",
    "std_accuracy = np.std(scores)\n",
    "print(f\"Mean Accuracy: {mean_accuracy:.6f}\")\n",
    "print(f\"Standard Deviation: {std_accuracy:.6f}\")"
   ]
  },
  {
   "cell_type": "code",
   "execution_count": 43,
   "metadata": {},
   "outputs": [
    {
     "name": "stdout",
     "output_type": "stream",
     "text": [
      "Cross-Validation Metrics:\n",
      "Fold 1:\n",
      "  Accuracy: 0.970803\n",
      "  Class 1:\n",
      "    Precision: 0.988506\n",
      "    Recall: 0.966292\n",
      "\n",
      "  Class 2:\n",
      "    Precision: 0.940000\n",
      "    Recall: 0.979167\n",
      "\n",
      "Fold 2:\n",
      "  Accuracy: 0.941606\n",
      "  Class 1:\n",
      "    Precision: 0.965517\n",
      "    Recall: 0.943820\n",
      "\n",
      "  Class 2:\n",
      "    Precision: 0.900000\n",
      "    Recall: 0.937500\n",
      "\n",
      "Fold 3:\n",
      "  Accuracy: 0.963504\n",
      "  Class 1:\n",
      "    Precision: 1.000000\n",
      "    Recall: 0.943820\n",
      "\n",
      "  Class 2:\n",
      "    Precision: 0.905660\n",
      "    Recall: 1.000000\n",
      "\n",
      "Fold 4:\n",
      "  Accuracy: 0.970588\n",
      "  Class 1:\n",
      "    Precision: 0.988506\n",
      "    Recall: 0.966292\n",
      "\n",
      "  Class 2:\n",
      "    Precision: 0.938776\n",
      "    Recall: 0.978723\n",
      "\n",
      "Fold 5:\n",
      "  Accuracy: 0.963235\n",
      "  Class 1:\n",
      "    Precision: 0.988235\n",
      "    Recall: 0.954545\n",
      "\n",
      "  Class 2:\n",
      "    Precision: 0.921569\n",
      "    Recall: 0.979167\n",
      "\n",
      "NBC\n",
      "Mean Metrics:\n",
      "Mean Accuracy: 0.961947\n",
      "Class 1:\n",
      "  Mean Precision: 0.986153\n",
      "  Mean Recall: 0.954954\n",
      "\n",
      "Class 2:\n",
      "  Mean Precision: 0.921201\n",
      "  Mean Recall: 0.974911\n",
      "\n",
      "Standard Deviation Metrics:\n",
      "Standard Deviation Accuracy: 0.010686\n",
      "Class 1:\n",
      "  Standard Deviation Precision: 0.011251\n",
      "  Standard Deviation Recall: 0.010052\n",
      "Class 2:\n",
      "  Standard Deviation Precision: 0.016452\n",
      "  Standard Deviation Recall: 0.020395\n"
     ]
    }
   ],
   "source": [
    "# Initialize lists to store precision and recall values for each fold\n",
    "precision_per_fold = []\n",
    "recall_per_fold = []\n",
    "\n",
    "# Perform K-fold cross-validation and get the predicted labels for each fold\n",
    "predicted_labels = cross_val_predict(naive_bayes, X, y, cv=cv)\n",
    "\n",
    "# Calculate and print accuracy, precision, and recall for each fold and class\n",
    "print(\"Cross-Validation Metrics:\")\n",
    "for i, (train_idx, test_idx) in enumerate(cv.split(X, y)):\n",
    "    accuracy = accuracy_score(y[test_idx], predicted_labels[test_idx])\n",
    "    precision = precision_score(y[test_idx], predicted_labels[test_idx], average=None)\n",
    "    recall = recall_score(y[test_idx], predicted_labels[test_idx], average=None)\n",
    "    \n",
    "    print(f\"Fold {i + 1}:\")\n",
    "    print(f\"  Accuracy: {accuracy:.6f}\")\n",
    "    \n",
    "    for class_idx, (prec, rec) in enumerate(zip(precision, recall)):\n",
    "        print(f\"  Class {class_idx + 1}:\")\n",
    "        print(f\"    Precision: {prec:.6f}\")\n",
    "        print(f\"    Recall: {rec:.6f}\")\n",
    "        print()\n",
    "    \n",
    "    # Append precision and recall values for this fold to the lists\n",
    "    precision_per_fold.append(precision)\n",
    "    recall_per_fold.append(recall)\n",
    "\n",
    "# Calculate and print the mean accuracy, precision, and recall across all folds\n",
    "mean_accuracy = np.mean(scores)\n",
    "\n",
    "# Calculate mean precision and recall for each class\n",
    "mean_precision_per_class = np.mean(precision_per_fold, axis=0)\n",
    "mean_recall_per_class = np.mean(recall_per_fold, axis=0)\n",
    "\n",
    "# Calculate standard deviation of accuracy, precision, and recall across folds\n",
    "std_accuracy = np.std(scores)\n",
    "std_precision_per_class = np.std(precision_per_fold, axis=0)\n",
    "std_recall_per_class = np.std(recall_per_fold, axis=0)\n",
    "print(\"NBC\")\n",
    "print(\"Mean Metrics:\")\n",
    "print(f\"Mean Accuracy: {mean_accuracy:.6f}\")\n",
    "\n",
    "for class_idx, (mean_prec, mean_rec) in enumerate(zip(mean_precision_per_class, mean_recall_per_class)):\n",
    "    print(f\"Class {class_idx + 1}:\")\n",
    "    print(f\"  Mean Precision: {mean_prec:.6f}\")\n",
    "    print(f\"  Mean Recall: {mean_rec:.6f}\")\n",
    "    print()\n",
    "\n",
    "print(\"Standard Deviation Metrics:\")\n",
    "print(f\"Standard Deviation Accuracy: {std_accuracy:.6f}\")\n",
    "\n",
    "for class_idx, (std_prec, std_rec) in enumerate(zip(std_precision_per_class, std_recall_per_class)):\n",
    "    print(f\"Class {class_idx + 1}:\")\n",
    "    print(f\"  Standard Deviation Precision: {std_prec:.6f}\")\n",
    "    print(f\"  Standard Deviation Recall: {std_rec:.6f}\")\n"
   ]
  },
  {
   "cell_type": "markdown",
   "metadata": {},
   "source": [
    "##### 60 - 40 split model training and evaluation for NBC"
   ]
  },
  {
   "cell_type": "code",
   "execution_count": 44,
   "metadata": {},
   "outputs": [
    {
     "data": {
      "text/plain": [
       "GaussianNB()"
      ]
     },
     "execution_count": 44,
     "metadata": {},
     "output_type": "execute_result"
    }
   ],
   "source": [
    "# Fit NBC model for train set\n",
    "naive_bayes.fit(X_train, y_train)"
   ]
  },
  {
   "cell_type": "code",
   "execution_count": 45,
   "metadata": {},
   "outputs": [
    {
     "name": "stdout",
     "output_type": "stream",
     "text": [
      "NBC Classification Report:\n",
      "              precision    recall  f1-score   support\n",
      "\n",
      "           0   0.982857  0.966292  0.974504       178\n",
      "           1   0.939394  0.968750  0.953846        96\n",
      "\n",
      "    accuracy                       0.967153       274\n",
      "   macro avg   0.961126  0.967521  0.964175       274\n",
      "weighted avg   0.967629  0.967153  0.967266       274\n",
      "\n"
     ]
    },
    {
     "data": {
      "image/png": "[encoded data removed]",
      "text/plain": [
       "<Figure size 468x360 with 2 Axes>"
      ]
     },
     "metadata": {
      "needs_background": "light"
     },
     "output_type": "display_data"
    }
   ],
   "source": [
    "# Use the trained Naive Bayes model to make predictions on the test data\n",
    "y_pred = naive_bayes.predict(X_test)\n",
    "\n",
    "# Print the Classification Report with 4 decimal points\n",
    "report = classification_report(y_test, y_pred, digits=6)\n",
    "print(\"NBC Classification Report:\")\n",
    "print(report)\n",
    "\n",
    "# Print the Confusion Matrix using a Heatmap\n",
    "conf_matrix = confusion_matrix(y_test, y_pred)\n",
    "plt.figure(figsize=(6.5, 5))\n",
    "sns.heatmap(conf_matrix, annot=True, cmap='Blues', fmt='d', annot_kws={\"size\": 12})\n",
    "plt.xlabel('Predicted')\n",
    "plt.ylabel('Actual')\n",
    "plt.title('NBC Confusion Matrix')\n",
    "plt.show()"
   ]
  },
  {
   "cell_type": "markdown",
   "metadata": {},
   "source": [
    "#### Random Forest"
   ]
  },
  {
   "cell_type": "code",
   "execution_count": 80,
   "metadata": {},
   "outputs": [
    {
     "name": "stdout",
     "output_type": "stream",
     "text": [
      "Best Hyperparameters: {'n_estimators': 100, 'min_samples_split': 7, 'min_samples_leaf': 3, 'max_features': 'log2', 'max_depth': 7, 'criterion': 'gini', 'bootstrap': False}\n",
      "Cross-Validation Accuracy Scores:\n",
      "Fold 1: 0.963504\n",
      "Fold 2: 0.978102\n",
      "Fold 3: 0.985401\n",
      "Fold 4: 0.977941\n",
      "Fold 5: 0.977941\n",
      "Mean Accuracy: 0.976578\n",
      "Standard Deviation: 0.007139\n"
     ]
    }
   ],
   "source": [
    "# from sklearn.ensemble import RandomForestClassifier\n",
    "# from sklearn.model_selection import StratifiedKFold, RandomizedSearchCV, cross_val_score\n",
    "# import numpy as np\n",
    "\n",
    "# # Create an instance of the RandomForestClassifier\n",
    "# rf_model = RandomForestClassifier()\n",
    "\n",
    "# # Specify the number of cross-validation folds (K) - e.g., 5-fold cross-validation\n",
    "# n_splits = 5\n",
    "# cv = StratifiedKFold(n_splits=n_splits, shuffle=True, random_state=4)\n",
    "\n",
    "# # Define the hyperparameter grid for RandomizedSearchCV\n",
    "# param_dist = {\n",
    "#     'n_estimators': range(50, 251, 50),  # Number of trees in the forest\n",
    "#     'max_depth': range(3, 21),  # Maximum depth of each tree\n",
    "#     'min_samples_split': range(2, 11),  # Minimum number of samples required to split an internal node\n",
    "#     'min_samples_leaf': range(1, 11),  # Minimum number of samples required to be at a leaf node\n",
    "#     'max_features': ['auto', 'sqrt', 'log2'],  # Number of features to consider when looking for the best split\n",
    "#     'bootstrap': [True, False],  # Whether to use bootstrapping when building trees\n",
    "#     'criterion': ['gini', 'entropy']  # Function to measure the quality of a split\n",
    "# }\n",
    "\n",
    "# # Create RandomizedSearchCV with the Random Forest model and parameter grid\n",
    "# random_search = RandomizedSearchCV(\n",
    "#     rf_model,\n",
    "#     param_distributions=param_dist,\n",
    "#     n_iter=500,  # Number of random combinations to try\n",
    "#     cv=cv,\n",
    "#     scoring='accuracy',\n",
    "#     random_state=42,\n",
    "#     n_jobs=-1  # Use all available CPU cores for parallel processing\n",
    "# )\n",
    "\n",
    "# # Perform Randomized Search to find the best hyperparameters\n",
    "# random_search.fit(X, y)\n",
    "\n",
    "# # Get the best hyperparameters\n",
    "# best_params = random_search.best_params_\n",
    "# print(\"Best Hyperparameters:\", best_params)\n",
    "\n",
    "# # Train the Random Forest model with the best hyperparameters\n",
    "# best_rf_model = RandomForestClassifier(**best_params)\n",
    "\n",
    "# # Perform K-fold cross-validation and get the classification scores\n",
    "# scores = cross_val_score(best_rf_model, X, y, cv=cv, scoring='accuracy')\n",
    "\n",
    "# # Print the accuracy for each fold\n",
    "# print(\"Cross-Validation Accuracy Scores:\")\n",
    "# for i, score in enumerate(scores):\n",
    "#     print(f\"Fold {i+1}: {score:.6f}\")\n",
    "\n",
    "# # Calculate and print the mean accuracy and standard deviation\n",
    "# mean_accuracy = np.mean(scores)\n",
    "# std_accuracy = np.std(scores)\n",
    "# print(f\"Mean Accuracy: {mean_accuracy:.6f}\")\n",
    "# print(f\"Standard Deviation: {std_accuracy:.6f}\")\n"
   ]
  },
  {
   "cell_type": "code",
   "execution_count": 46,
   "metadata": {},
   "outputs": [],
   "source": [
    "# # Create a Random Forest Classifier with the best hyperparameters\n",
    "# rf_model = RandomForestClassifier(**best_params)"
   ]
  },
  {
   "cell_type": "code",
   "execution_count": 47,
   "metadata": {},
   "outputs": [],
   "source": [
    "# Initialize the RandomForestClassifier with the best hyperparameters\n",
    "rf_model = RandomForestClassifier(\n",
    "    n_estimators=100,\n",
    "    min_samples_split=7,\n",
    "    min_samples_leaf=3,\n",
    "    max_features='log2',\n",
    "    max_depth=7,\n",
    "    criterion='gini',\n",
    "    bootstrap=False\n",
    ")"
   ]
  },
  {
   "cell_type": "code",
   "execution_count": 48,
   "metadata": {},
   "outputs": [],
   "source": [
    "# Specify the number of cross-validation folds (K) - e.g., 5-fold cross-validation\n",
    "n_splits = 5\n",
    "cv = StratifiedKFold(n_splits=n_splits, shuffle=True, random_state=4)"
   ]
  },
  {
   "cell_type": "code",
   "execution_count": 49,
   "metadata": {},
   "outputs": [],
   "source": [
    "# Perform K-fold cross-validation and get the classification scores\n",
    "scores = cross_val_score(rf_model, X, y, cv=cv, scoring='accuracy')"
   ]
  },
  {
   "cell_type": "code",
   "execution_count": 50,
   "metadata": {},
   "outputs": [
    {
     "name": "stdout",
     "output_type": "stream",
     "text": [
      "Cross-Validation Accuracy Scores:\n",
      "Fold 1: 0.963504\n",
      "Fold 2: 0.963504\n",
      "Fold 3: 0.985401\n",
      "Fold 4: 0.977941\n",
      "Fold 5: 0.970588\n"
     ]
    }
   ],
   "source": [
    "# Print the accuracy for each fold\n",
    "print(\"Cross-Validation Accuracy Scores:\")\n",
    "for i, score in enumerate(scores):\n",
    "    print(f\"Fold {i+1}: {score:.6f}\")"
   ]
  },
  {
   "cell_type": "code",
   "execution_count": 51,
   "metadata": {},
   "outputs": [
    {
     "name": "stdout",
     "output_type": "stream",
     "text": [
      "Mean Accuracy: 0.972188\n",
      "Standard Deviation: 0.008498\n"
     ]
    }
   ],
   "source": [
    "# Calculate and print the mean accuracy and standard deviation\n",
    "mean_accuracy = np.mean(scores)\n",
    "std_accuracy = np.std(scores)\n",
    "print(f\"Mean Accuracy: {mean_accuracy:.6f}\")\n",
    "print(f\"Standard Deviation: {std_accuracy:.6f}\")"
   ]
  },
  {
   "cell_type": "code",
   "execution_count": 52,
   "metadata": {},
   "outputs": [
    {
     "name": "stdout",
     "output_type": "stream",
     "text": [
      "Cross-Validation Metrics:\n",
      "Fold 1:\n",
      "  Accuracy: 0.956204\n",
      "  Class 1:\n",
      "    Precision: 0.966292\n",
      "    Recall: 0.966292\n",
      "\n",
      "  Class 2:\n",
      "    Precision: 0.937500\n",
      "    Recall: 0.937500\n",
      "\n",
      "Fold 2:\n",
      "  Accuracy: 0.978102\n",
      "  Class 1:\n",
      "    Precision: 0.977778\n",
      "    Recall: 0.988764\n",
      "\n",
      "  Class 2:\n",
      "    Precision: 0.978723\n",
      "    Recall: 0.958333\n",
      "\n",
      "Fold 3:\n",
      "  Accuracy: 0.985401\n",
      "  Class 1:\n",
      "    Precision: 1.000000\n",
      "    Recall: 0.977528\n",
      "\n",
      "  Class 2:\n",
      "    Precision: 0.960000\n",
      "    Recall: 1.000000\n",
      "\n",
      "Fold 4:\n",
      "  Accuracy: 0.977941\n",
      "  Class 1:\n",
      "    Precision: 1.000000\n",
      "    Recall: 0.966292\n",
      "\n",
      "  Class 2:\n",
      "    Precision: 0.940000\n",
      "    Recall: 1.000000\n",
      "\n",
      "Fold 5:\n",
      "  Accuracy: 0.963235\n",
      "  Class 1:\n",
      "    Precision: 0.966292\n",
      "    Recall: 0.977273\n",
      "\n",
      "  Class 2:\n",
      "    Precision: 0.957447\n",
      "    Recall: 0.937500\n",
      "\n",
      "RF\n",
      "Mean Metrics:\n",
      "Mean Accuracy: 0.972188\n",
      "Class 1:\n",
      "  Mean Precision: 0.982072\n",
      "  Mean Recall: 0.975230\n",
      "\n",
      "Class 2:\n",
      "  Mean Precision: 0.954734\n",
      "  Mean Recall: 0.966667\n",
      "\n",
      "Standard Deviation Metrics:\n",
      "Standard Deviation Accuracy: 0.008498\n",
      "Class 1:\n",
      "  Standard Deviation Precision: 0.015227\n",
      "  Standard Deviation Recall: 0.008395\n",
      "Class 2:\n",
      "  Standard Deviation Precision: 0.014998\n",
      "  Standard Deviation Recall: 0.028260\n"
     ]
    }
   ],
   "source": [
    "# Initialize lists to store precision and recall values for each fold\n",
    "precision_per_fold = []\n",
    "recall_per_fold = []\n",
    "\n",
    "# Perform K-fold cross-validation and get the predicted labels for each fold\n",
    "predicted_labels = cross_val_predict(rf_model, X, y, cv=cv)\n",
    "\n",
    "# Calculate and print accuracy, precision, and recall for each fold and class\n",
    "print(\"Cross-Validation Metrics:\")\n",
    "for i, (train_idx, test_idx) in enumerate(cv.split(X, y)):\n",
    "    accuracy = accuracy_score(y[test_idx], predicted_labels[test_idx])\n",
    "    precision = precision_score(y[test_idx], predicted_labels[test_idx], average=None)\n",
    "    recall = recall_score(y[test_idx], predicted_labels[test_idx], average=None)\n",
    "    \n",
    "    print(f\"Fold {i + 1}:\")\n",
    "    print(f\"  Accuracy: {accuracy:.6f}\")\n",
    "    \n",
    "    for class_idx, (prec, rec) in enumerate(zip(precision, recall)):\n",
    "        print(f\"  Class {class_idx + 1}:\")\n",
    "        print(f\"    Precision: {prec:.6f}\")\n",
    "        print(f\"    Recall: {rec:.6f}\")\n",
    "        print()\n",
    "    \n",
    "    # Append precision and recall values for this fold to the lists\n",
    "    precision_per_fold.append(precision)\n",
    "    recall_per_fold.append(recall)\n",
    "\n",
    "# Calculate and print the mean accuracy, precision, and recall across all folds\n",
    "mean_accuracy = np.mean(scores)\n",
    "\n",
    "# Calculate mean precision and recall for each class\n",
    "mean_precision_per_class = np.mean(precision_per_fold, axis=0)\n",
    "mean_recall_per_class = np.mean(recall_per_fold, axis=0)\n",
    "\n",
    "# Calculate standard deviation of accuracy, precision, and recall across folds\n",
    "std_accuracy = np.std(scores)\n",
    "std_precision_per_class = np.std(precision_per_fold, axis=0)\n",
    "std_recall_per_class = np.std(recall_per_fold, axis=0)\n",
    "print(\"RF\")\n",
    "print(\"Mean Metrics:\")\n",
    "print(f\"Mean Accuracy: {mean_accuracy:.6f}\")\n",
    "\n",
    "for class_idx, (mean_prec, mean_rec) in enumerate(zip(mean_precision_per_class, mean_recall_per_class)):\n",
    "    print(f\"Class {class_idx + 1}:\")\n",
    "    print(f\"  Mean Precision: {mean_prec:.6f}\")\n",
    "    print(f\"  Mean Recall: {mean_rec:.6f}\")\n",
    "    print()\n",
    "\n",
    "print(\"Standard Deviation Metrics:\")\n",
    "print(f\"Standard Deviation Accuracy: {std_accuracy:.6f}\")\n",
    "\n",
    "for class_idx, (std_prec, std_rec) in enumerate(zip(std_precision_per_class, std_recall_per_class)):\n",
    "    print(f\"Class {class_idx + 1}:\")\n",
    "    print(f\"  Standard Deviation Precision: {std_prec:.6f}\")\n",
    "    print(f\"  Standard Deviation Recall: {std_rec:.6f}\")\n"
   ]
  },
  {
   "cell_type": "markdown",
   "metadata": {},
   "source": [
    "##### 60 - 40 split model training and evaluation for KNN"
   ]
  },
  {
   "cell_type": "code",
   "execution_count": 53,
   "metadata": {},
   "outputs": [
    {
     "data": {
      "text/plain": [
       "RandomForestClassifier(bootstrap=False, max_depth=7, max_features='log2',\n",
       "                       min_samples_leaf=3, min_samples_split=7)"
      ]
     },
     "execution_count": 53,
     "metadata": {},
     "output_type": "execute_result"
    }
   ],
   "source": [
    "# Fit model for train set\n",
    "rf_model.fit(X_train, y_train)"
   ]
  },
  {
   "cell_type": "code",
   "execution_count": 54,
   "metadata": {},
   "outputs": [
    {
     "name": "stdout",
     "output_type": "stream",
     "text": [
      "RF Classification Report:\n",
      "              precision    recall  f1-score   support\n",
      "\n",
      "           0   0.988506  0.966292  0.977273       178\n",
      "           1   0.940000  0.979167  0.959184        96\n",
      "\n",
      "    accuracy                       0.970803       274\n",
      "   macro avg   0.964253  0.972729  0.968228       274\n",
      "weighted avg   0.971511  0.970803  0.970935       274\n",
      "\n"
     ]
    },
    {
     "data": {
      "image/png": "[encoded data removed]",
      "text/plain": [
       "<Figure size 468x360 with 2 Axes>"
      ]
     },
     "metadata": {
      "needs_background": "light"
     },
     "output_type": "display_data"
    }
   ],
   "source": [
    "# Use the trained Random Forest model to make predictions on the test data\n",
    "y_pred = rf_model.predict(X_test)\n",
    "\n",
    "# Print the Classification Report with 4 decimal points\n",
    "report = classification_report(y_test, y_pred, digits=6)\n",
    "print(\"RF Classification Report:\")\n",
    "print(report)\n",
    "\n",
    "# Print the Confusion Matrix using a Heatmap\n",
    "conf_matrix = confusion_matrix(y_test, y_pred)\n",
    "plt.figure(figsize=(6.5, 5))\n",
    "sns.heatmap(conf_matrix, annot=True, cmap='Blues', fmt='d', annot_kws={\"size\": 12})\n",
    "plt.xlabel('Predicted')\n",
    "plt.ylabel('Actual')\n",
    "plt.title('RF Confusion Matrix')\n",
    "plt.show()"
   ]
  },
  {
   "cell_type": "markdown",
   "metadata": {},
   "source": [
    "#### SVC"
   ]
  },
  {
   "cell_type": "code",
   "execution_count": 31,
   "metadata": {},
   "outputs": [
    {
     "name": "stdout",
     "output_type": "stream",
     "text": [
      "Best Hyperparameters: {'kernel': 'rbf', 'gamma': 0.01, 'degree': 2, 'C': 1}\n",
      "Cross-Validation Accuracy Scores:\n",
      "Fold 1: 0.970803\n",
      "Fold 2: 0.956204\n",
      "Fold 3: 0.985401\n",
      "Fold 4: 0.970588\n",
      "Fold 5: 0.985294\n",
      "Mean Accuracy: 0.973658\n",
      "Standard Deviation: 0.010913\n"
     ]
    }
   ],
   "source": [
    "# from sklearn.svm import SVC\n",
    "# from sklearn.model_selection import StratifiedKFold, RandomizedSearchCV, cross_val_score\n",
    "# import numpy as np\n",
    "\n",
    "# # Create an instance of the SVC\n",
    "# svc_model = SVC()\n",
    "\n",
    "# # Specify the number of cross-validation folds (K) - e.g., 5-fold cross-validation\n",
    "# n_splits = 5\n",
    "# cv = StratifiedKFold(n_splits=n_splits, shuffle=True, random_state=4)\n",
    "\n",
    "# # Define the hyperparameter grid for RandomizedSearchCV\n",
    "# param_dist = {\n",
    "#     'C': [0.1, 1, 10, 100],  # Regularization parameter\n",
    "#     'kernel': ['linear', 'poly', 'rbf', 'sigmoid'],  # Kernel type\n",
    "#     'gamma': ['scale', 'auto'] + [0.001, 0.01, 0.1, 1, 10],  # Kernel coefficient for 'rbf', 'poly', and 'sigmoid'\n",
    "#     'degree': [2, 3, 4, 5],  # Degree of the polynomial kernel\n",
    "# }\n",
    "\n",
    "# # Create RandomizedSearchCV with the SVC model and parameter grid\n",
    "# random_search = RandomizedSearchCV(\n",
    "#     svc_model,\n",
    "#     param_distributions=param_dist,\n",
    "#     n_iter=100,  # Number of random combinations to try\n",
    "#     cv=cv,\n",
    "#     scoring='accuracy',\n",
    "#     random_state=42,\n",
    "#     n_jobs=-1  # Use all available CPU cores for parallel processing\n",
    "# )\n",
    "\n",
    "# # Perform Randomized Search to find the best hyperparameters\n",
    "# random_search.fit(X, y)\n",
    "\n",
    "# # Get the best hyperparameters\n",
    "# best_params = random_search.best_params_\n",
    "# print(\"Best Hyperparameters:\", best_params)\n",
    "\n",
    "# # Train the SVC model with the best hyperparameters\n",
    "# best_svc_model = SVC(**best_params)\n",
    "\n",
    "# # Perform K-fold cross-validation and get the classification scores\n",
    "# scores = cross_val_score(best_svc_model, X, y, cv=cv, scoring='accuracy')\n",
    "\n",
    "# # Print the accuracy for each fold\n",
    "# print(\"Cross-Validation Accuracy Scores:\")\n",
    "# for i, score in enumerate(scores):\n",
    "#     print(f\"Fold {i+1}: {score:.6f}\")\n",
    "\n",
    "# # Calculate and print the mean accuracy and standard deviation\n",
    "# mean_accuracy = np.mean(scores)\n",
    "# std_accuracy = np.std(scores)\n",
    "# print(f\"Mean Accuracy: {mean_accuracy:.6f}\")\n",
    "# print(f\"Standard Deviation: {std_accuracy:.6f}\")\n"
   ]
  },
  {
   "cell_type": "code",
   "execution_count": 55,
   "metadata": {},
   "outputs": [],
   "source": [
    "# # Create a Support Vector Classifier with the best hyperparameters\n",
    "# # Best Hyperparameters: {'kernel': 'linear', 'gamma': 0.1, 'degree': 4, 'C': 0.1}\n",
    "# svc_model = SVC(best_params)"
   ]
  },
  {
   "cell_type": "code",
   "execution_count": 56,
   "metadata": {},
   "outputs": [],
   "source": [
    "# Create an instance of the Support Vector Classifier with the best hyperparameters\n",
    "svc_model = SVC(\n",
    "    kernel='linear',\n",
    "    gamma=0.1,\n",
    "    degree=4,\n",
    "    C=0.1\n",
    ")"
   ]
  },
  {
   "cell_type": "code",
   "execution_count": 57,
   "metadata": {},
   "outputs": [],
   "source": [
    "# Specify the number of cross-validation folds (K) - e.g., 5-fold cross-validation\n",
    "n_splits = 5\n",
    "cv = StratifiedKFold(n_splits=n_splits, shuffle=True, random_state=4)"
   ]
  },
  {
   "cell_type": "code",
   "execution_count": 58,
   "metadata": {},
   "outputs": [],
   "source": [
    "# Perform K-fold cross-validation and get the classification scores\n",
    "scores = cross_val_score(svc_model, X, y, cv=cv, scoring='accuracy')"
   ]
  },
  {
   "cell_type": "code",
   "execution_count": 59,
   "metadata": {},
   "outputs": [
    {
     "name": "stdout",
     "output_type": "stream",
     "text": [
      "Cross-Validation Accuracy Scores:\n",
      "Fold 1: 0.970803\n",
      "Fold 2: 0.963504\n",
      "Fold 3: 0.978102\n",
      "Fold 4: 0.970588\n",
      "Fold 5: 0.977941\n"
     ]
    }
   ],
   "source": [
    "# Print the accuracy for each fold\n",
    "print(\"Cross-Validation Accuracy Scores:\")\n",
    "for i, score in enumerate(scores):\n",
    "    print(f\"Fold {i+1}: {score:.6f}\")"
   ]
  },
  {
   "cell_type": "code",
   "execution_count": 60,
   "metadata": {},
   "outputs": [
    {
     "name": "stdout",
     "output_type": "stream",
     "text": [
      "Mean Accuracy: 0.972188\n",
      "Standard Deviation: 0.005440\n"
     ]
    }
   ],
   "source": [
    "# Calculate and print the mean accuracy and standard deviation\n",
    "mean_accuracy = np.mean(scores)\n",
    "std_accuracy = np.std(scores)\n",
    "print(f\"Mean Accuracy: {mean_accuracy:.6f}\")\n",
    "print(f\"Standard Deviation: {std_accuracy:.6f}\")"
   ]
  },
  {
   "cell_type": "code",
   "execution_count": 61,
   "metadata": {},
   "outputs": [
    {
     "name": "stdout",
     "output_type": "stream",
     "text": [
      "Cross-Validation Metrics:\n",
      "Fold 1:\n",
      "  Accuracy: 0.970803\n",
      "  Class 1:\n",
      "    Precision: 0.988506\n",
      "    Recall: 0.966292\n",
      "\n",
      "  Class 2:\n",
      "    Precision: 0.940000\n",
      "    Recall: 0.979167\n",
      "\n",
      "Fold 2:\n",
      "  Accuracy: 0.963504\n",
      "  Class 1:\n",
      "    Precision: 0.966667\n",
      "    Recall: 0.977528\n",
      "\n",
      "  Class 2:\n",
      "    Precision: 0.957447\n",
      "    Recall: 0.937500\n",
      "\n",
      "Fold 3:\n",
      "  Accuracy: 0.978102\n",
      "  Class 1:\n",
      "    Precision: 0.988636\n",
      "    Recall: 0.977528\n",
      "\n",
      "  Class 2:\n",
      "    Precision: 0.959184\n",
      "    Recall: 0.979167\n",
      "\n",
      "Fold 4:\n",
      "  Accuracy: 0.970588\n",
      "  Class 1:\n",
      "    Precision: 0.988506\n",
      "    Recall: 0.966292\n",
      "\n",
      "  Class 2:\n",
      "    Precision: 0.938776\n",
      "    Recall: 0.978723\n",
      "\n",
      "Fold 5:\n",
      "  Accuracy: 0.977941\n",
      "  Class 1:\n",
      "    Precision: 0.977528\n",
      "    Recall: 0.988636\n",
      "\n",
      "  Class 2:\n",
      "    Precision: 0.978723\n",
      "    Recall: 0.958333\n",
      "\n",
      "SVC\n",
      "Mean Metrics:\n",
      "Mean Accuracy: 0.972188\n",
      "Class 1:\n",
      "  Mean Precision: 0.981969\n",
      "  Mean Recall: 0.975255\n",
      "\n",
      "Class 2:\n",
      "  Mean Precision: 0.954826\n",
      "  Mean Recall: 0.966578\n",
      "\n",
      "Standard Deviation Metrics:\n",
      "Standard Deviation Accuracy: 0.005440\n",
      "Class 1:\n",
      "  Standard Deviation Precision: 0.008761\n",
      "  Standard Deviation Recall: 0.008367\n",
      "Class 2:\n",
      "  Standard Deviation Precision: 0.014659\n",
      "  Standard Deviation Recall: 0.016601\n"
     ]
    }
   ],
   "source": [
    "# Initialize lists to store precision and recall values for each fold\n",
    "precision_per_fold = []\n",
    "recall_per_fold = []\n",
    "\n",
    "# Perform K-fold cross-validation and get the predicted labels for each fold\n",
    "predicted_labels = cross_val_predict(svc_model, X, y, cv=cv)\n",
    "\n",
    "# Calculate and print accuracy, precision, and recall for each fold and class\n",
    "print(\"Cross-Validation Metrics:\")\n",
    "for i, (train_idx, test_idx) in enumerate(cv.split(X, y)):\n",
    "    accuracy = accuracy_score(y[test_idx], predicted_labels[test_idx])\n",
    "    precision = precision_score(y[test_idx], predicted_labels[test_idx], average=None)\n",
    "    recall = recall_score(y[test_idx], predicted_labels[test_idx], average=None)\n",
    "    \n",
    "    print(f\"Fold {i + 1}:\")\n",
    "    print(f\"  Accuracy: {accuracy:.6f}\")\n",
    "    \n",
    "    for class_idx, (prec, rec) in enumerate(zip(precision, recall)):\n",
    "        print(f\"  Class {class_idx + 1}:\")\n",
    "        print(f\"    Precision: {prec:.6f}\")\n",
    "        print(f\"    Recall: {rec:.6f}\")\n",
    "        print()\n",
    "    \n",
    "    # Append precision and recall values for this fold to the lists\n",
    "    precision_per_fold.append(precision)\n",
    "    recall_per_fold.append(recall)\n",
    "\n",
    "# Calculate and print the mean accuracy, precision, and recall across all folds\n",
    "mean_accuracy = np.mean(scores)\n",
    "\n",
    "# Calculate mean precision and recall for each class\n",
    "mean_precision_per_class = np.mean(precision_per_fold, axis=0)\n",
    "mean_recall_per_class = np.mean(recall_per_fold, axis=0)\n",
    "\n",
    "# Calculate standard deviation of accuracy, precision, and recall across folds\n",
    "std_accuracy = np.std(scores)\n",
    "std_precision_per_class = np.std(precision_per_fold, axis=0)\n",
    "std_recall_per_class = np.std(recall_per_fold, axis=0)\n",
    "print(\"SVC\")\n",
    "print(\"Mean Metrics:\")\n",
    "print(f\"Mean Accuracy: {mean_accuracy:.6f}\")\n",
    "\n",
    "for class_idx, (mean_prec, mean_rec) in enumerate(zip(mean_precision_per_class, mean_recall_per_class)):\n",
    "    print(f\"Class {class_idx + 1}:\")\n",
    "    print(f\"  Mean Precision: {mean_prec:.6f}\")\n",
    "    print(f\"  Mean Recall: {mean_rec:.6f}\")\n",
    "    print()\n",
    "\n",
    "print(\"Standard Deviation Metrics:\")\n",
    "print(f\"Standard Deviation Accuracy: {std_accuracy:.6f}\")\n",
    "\n",
    "for class_idx, (std_prec, std_rec) in enumerate(zip(std_precision_per_class, std_recall_per_class)):\n",
    "    print(f\"Class {class_idx + 1}:\")\n",
    "    print(f\"  Standard Deviation Precision: {std_prec:.6f}\")\n",
    "    print(f\"  Standard Deviation Recall: {std_rec:.6f}\")\n"
   ]
  },
  {
   "cell_type": "markdown",
   "metadata": {},
   "source": [
    "##### 60 - 40 split model training and evaluation for SVC"
   ]
  },
  {
   "cell_type": "code",
   "execution_count": 62,
   "metadata": {},
   "outputs": [
    {
     "data": {
      "text/plain": [
       "SVC(C=0.1, degree=4, gamma=0.1, kernel='linear')"
      ]
     },
     "execution_count": 62,
     "metadata": {},
     "output_type": "execute_result"
    }
   ],
   "source": [
    "# Fit SVC model for train set\n",
    "svc_model.fit(X_train, y_train)"
   ]
  },
  {
   "cell_type": "code",
   "execution_count": 63,
   "metadata": {},
   "outputs": [
    {
     "name": "stdout",
     "output_type": "stream",
     "text": [
      "SVC Classification Report:\n",
      "              precision    recall  f1-score   support\n",
      "\n",
      "           0   0.982857  0.966292  0.974504       178\n",
      "           1   0.939394  0.968750  0.953846        96\n",
      "\n",
      "    accuracy                       0.967153       274\n",
      "   macro avg   0.961126  0.967521  0.964175       274\n",
      "weighted avg   0.967629  0.967153  0.967266       274\n",
      "\n"
     ]
    },
    {
     "data": {
      "image/png": "[encoded data removed]",
      "text/plain": [
       "<Figure size 468x360 with 2 Axes>"
      ]
     },
     "metadata": {
      "needs_background": "light"
     },
     "output_type": "display_data"
    }
   ],
   "source": [
    "# Use the trained SVC model to make predictions on the test data\n",
    "y_pred = svc_model.predict(X_test)\n",
    "\n",
    "# Print the Classification Report with 4 decimal points\n",
    "report = classification_report(y_test, y_pred, digits=6)\n",
    "print(\"SVC Classification Report:\")\n",
    "print(report)\n",
    "\n",
    "# Print the Confusion Matrix using a Heatmap\n",
    "conf_matrix = confusion_matrix(y_test, y_pred)\n",
    "plt.figure(figsize=(6.5, 5))\n",
    "sns.heatmap(conf_matrix, annot=True, cmap='Blues', fmt='d', annot_kws={\"size\": 12})\n",
    "plt.xlabel('Predicted')\n",
    "plt.ylabel('Actual')\n",
    "plt.title('SVC Confusion Matrix')\n",
    "plt.show()"
   ]
  },
  {
   "cell_type": "markdown",
   "metadata": {},
   "source": [
    "#### Logistic Regression"
   ]
  },
  {
   "cell_type": "code",
   "execution_count": 40,
   "metadata": {},
   "outputs": [
    {
     "name": "stdout",
     "output_type": "stream",
     "text": [
      "Best Hyperparameters: {'C': 0.1, 'max_iter': 500, 'penalty': 'l2', 'solver': 'newton-cg'}\n",
      "Total elapsed time: 3.38 seconds\n",
      "Cross-Validation Accuracy Scores:\n",
      "Fold 1: 0.963504\n",
      "Fold 2: 0.956204\n",
      "Fold 3: 0.978102\n",
      "Fold 4: 0.970588\n",
      "Fold 5: 0.963235\n",
      "Mean Accuracy: 0.966327\n",
      "Standard Deviation: 0.007441\n"
     ]
    }
   ],
   "source": [
    "# # Create an instance of the Logistic Regression Classifier\n",
    "# logistic_model = LogisticRegression()\n",
    "\n",
    "# # Specify the number of cross-validation folds (K) - e.g., 5-fold cross-validation\n",
    "# n_splits = 5\n",
    "# cv = StratifiedKFold(n_splits=n_splits, shuffle=True, random_state=4)\n",
    "\n",
    "# # Define the hyperparameter grid for GridSearchCV\n",
    "# param_grid = {\n",
    "#     'C': [0.1, 1, 10],  # Regularization parameter\n",
    "#     'penalty': ['l2', 'none'],  # Penalty (regularization) term\n",
    "#     'solver': ['newton-cg', 'lbfgs', 'sag', 'saga'],  # Solver algorithm\n",
    "#     'max_iter': [500, 1000, 1500],  # Maximum number of iterations for optimization\n",
    "# }\n",
    "\n",
    "# # Create GridSearchCV with the Logistic Regression model and parameter grid\n",
    "# grid_search = GridSearchCV(\n",
    "#     logistic_model,\n",
    "#     param_grid=param_grid,\n",
    "#     cv=cv,\n",
    "#     scoring='accuracy',\n",
    "#     n_jobs=-1  # Use all available CPU cores for parallel processing\n",
    "# )\n",
    "\n",
    "# # Perform Grid Search to find the best hyperparameters\n",
    "# start_time = time.time()\n",
    "# grid_search.fit(X, y)\n",
    "\n",
    "# # Get the best hyperparameters\n",
    "# best_params = grid_search.best_params_\n",
    "# print(\"Best Hyperparameters:\", best_params)\n",
    "\n",
    "# # Calculate elapsed time\n",
    "# elapsed_time = time.time() - start_time\n",
    "# print(f\"Total elapsed time: {elapsed_time:.2f} seconds\")\n",
    "\n",
    "# # Train the Logistic Regression model with the best hyperparameters\n",
    "# best_logistic_model = LogisticRegression(**best_params)\n",
    "\n",
    "# # Perform K-fold cross-validation and get the classification scores\n",
    "# scores = cross_val_score(best_logistic_model, X, y, cv=cv, scoring='accuracy')\n",
    "\n",
    "# # Print the accuracy for each fold\n",
    "# print(\"Cross-Validation Accuracy Scores:\")\n",
    "# for i, score in enumerate(scores):\n",
    "#     print(f\"Fold {i+1}: {score:.6f}\")\n",
    "\n",
    "# # Calculate and print the mean accuracy and standard deviation\n",
    "# mean_accuracy = np.mean(scores)\n",
    "# std_accuracy = np.std(scores)\n",
    "# print(f\"Mean Accuracy: {mean_accuracy:.6f}\")\n",
    "# print(f\"Standard Deviation: {std_accuracy:.6f}\")\n"
   ]
  },
  {
   "cell_type": "code",
   "execution_count": 64,
   "metadata": {},
   "outputs": [],
   "source": [
    "# # Create a Support Vector Classifier with the best hyperparameters\n",
    "# # Best Hyperparameters: {'C': 0.1, 'max_iter': 500, 'penalty': 'l2', 'random_state': 13, 'solver': 'newton-cg'}\n",
    "# logistic_model = LogisticRegression(**best_params)"
   ]
  },
  {
   "cell_type": "code",
   "execution_count": 65,
   "metadata": {},
   "outputs": [],
   "source": [
    "logistic_model = LogisticRegression(\n",
    "    C=0.1,\n",
    "    max_iter=500,\n",
    "    penalty='l2',\n",
    "    solver='newton-cg'\n",
    ")"
   ]
  },
  {
   "cell_type": "code",
   "execution_count": 66,
   "metadata": {},
   "outputs": [],
   "source": [
    "# Specify the number of cross-validation folds (K) - e.g., 5-fold cross-validation\n",
    "n_splits = 5\n",
    "cv = StratifiedKFold(n_splits=n_splits, shuffle=True, random_state=4)"
   ]
  },
  {
   "cell_type": "code",
   "execution_count": 67,
   "metadata": {},
   "outputs": [],
   "source": [
    "# Perform K-fold cross-validation and get the classification scores\n",
    "scores = cross_val_score(logistic_model, X, y, cv=cv, scoring='accuracy')"
   ]
  },
  {
   "cell_type": "code",
   "execution_count": 68,
   "metadata": {},
   "outputs": [
    {
     "name": "stdout",
     "output_type": "stream",
     "text": [
      "Cross-Validation Accuracy Scores:\n",
      "Fold 1: 0.963504\n",
      "Fold 2: 0.956204\n",
      "Fold 3: 0.978102\n",
      "Fold 4: 0.970588\n",
      "Fold 5: 0.963235\n"
     ]
    }
   ],
   "source": [
    "# Print the accuracy for each fold\n",
    "print(\"Cross-Validation Accuracy Scores:\")\n",
    "for i, score in enumerate(scores):\n",
    "    print(f\"Fold {i+1}: {score:.6f}\")"
   ]
  },
  {
   "cell_type": "code",
   "execution_count": 69,
   "metadata": {},
   "outputs": [
    {
     "name": "stdout",
     "output_type": "stream",
     "text": [
      "Mean Accuracy: 0.966327\n",
      "Standard Deviation: 0.007441\n"
     ]
    }
   ],
   "source": [
    "# Calculate and print the mean accuracy and standard deviation\n",
    "mean_accuracy = np.mean(scores)\n",
    "std_accuracy = np.std(scores)\n",
    "print(f\"Mean Accuracy: {mean_accuracy:.6f}\")\n",
    "print(f\"Standard Deviation: {std_accuracy:.6f}\")"
   ]
  },
  {
   "cell_type": "code",
   "execution_count": 70,
   "metadata": {},
   "outputs": [
    {
     "name": "stdout",
     "output_type": "stream",
     "text": [
      "Cross-Validation Metrics:\n",
      "Fold 1:\n",
      "  Accuracy: 0.963504\n",
      "  Class 1:\n",
      "    Precision: 0.977273\n",
      "    Recall: 0.966292\n",
      "\n",
      "  Class 2:\n",
      "    Precision: 0.938776\n",
      "    Recall: 0.958333\n",
      "\n",
      "Fold 2:\n",
      "  Accuracy: 0.956204\n",
      "  Class 1:\n",
      "    Precision: 0.956044\n",
      "    Recall: 0.977528\n",
      "\n",
      "  Class 2:\n",
      "    Precision: 0.956522\n",
      "    Recall: 0.916667\n",
      "\n",
      "Fold 3:\n",
      "  Accuracy: 0.978102\n",
      "  Class 1:\n",
      "    Precision: 0.988636\n",
      "    Recall: 0.977528\n",
      "\n",
      "  Class 2:\n",
      "    Precision: 0.959184\n",
      "    Recall: 0.979167\n",
      "\n",
      "Fold 4:\n",
      "  Accuracy: 0.970588\n",
      "  Class 1:\n",
      "    Precision: 0.988506\n",
      "    Recall: 0.966292\n",
      "\n",
      "  Class 2:\n",
      "    Precision: 0.938776\n",
      "    Recall: 0.978723\n",
      "\n",
      "Fold 5:\n",
      "  Accuracy: 0.963235\n",
      "  Class 1:\n",
      "    Precision: 0.956044\n",
      "    Recall: 0.988636\n",
      "\n",
      "  Class 2:\n",
      "    Precision: 0.977778\n",
      "    Recall: 0.916667\n",
      "\n",
      "LR\n",
      "Mean Metrics:\n",
      "Mean Accuracy: 0.966327\n",
      "Class 1:\n",
      "  Mean Precision: 0.973301\n",
      "  Mean Recall: 0.975255\n",
      "\n",
      "Class 2:\n",
      "  Mean Precision: 0.954207\n",
      "  Mean Recall: 0.949911\n",
      "\n",
      "Standard Deviation Metrics:\n",
      "Standard Deviation Accuracy: 0.007441\n",
      "Class 1:\n",
      "  Standard Deviation Precision: 0.014682\n",
      "  Standard Deviation Recall: 0.008367\n",
      "Class 2:\n",
      "  Standard Deviation Precision: 0.014574\n",
      "  Standard Deviation Recall: 0.028169\n"
     ]
    }
   ],
   "source": [
    "# Initialize lists to store precision and recall values for each fold\n",
    "precision_per_fold = []\n",
    "recall_per_fold = []\n",
    "\n",
    "# Perform K-fold cross-validation and get the predicted labels for each fold\n",
    "predicted_labels = cross_val_predict(logistic_model, X, y, cv=cv)\n",
    "\n",
    "# Calculate and print accuracy, precision, and recall for each fold and class\n",
    "print(\"Cross-Validation Metrics:\")\n",
    "for i, (train_idx, test_idx) in enumerate(cv.split(X, y)):\n",
    "    accuracy = accuracy_score(y[test_idx], predicted_labels[test_idx])\n",
    "    precision = precision_score(y[test_idx], predicted_labels[test_idx], average=None)\n",
    "    recall = recall_score(y[test_idx], predicted_labels[test_idx], average=None)\n",
    "    \n",
    "    print(f\"Fold {i + 1}:\")\n",
    "    print(f\"  Accuracy: {accuracy:.6f}\")\n",
    "    \n",
    "    for class_idx, (prec, rec) in enumerate(zip(precision, recall)):\n",
    "        print(f\"  Class {class_idx + 1}:\")\n",
    "        print(f\"    Precision: {prec:.6f}\")\n",
    "        print(f\"    Recall: {rec:.6f}\")\n",
    "        print()\n",
    "    \n",
    "    # Append precision and recall values for this fold to the lists\n",
    "    precision_per_fold.append(precision)\n",
    "    recall_per_fold.append(recall)\n",
    "\n",
    "# Calculate and print the mean accuracy, precision, and recall across all folds\n",
    "mean_accuracy = np.mean(scores)\n",
    "\n",
    "# Calculate mean precision and recall for each class\n",
    "mean_precision_per_class = np.mean(precision_per_fold, axis=0)\n",
    "mean_recall_per_class = np.mean(recall_per_fold, axis=0)\n",
    "\n",
    "# Calculate standard deviation of accuracy, precision, and recall across folds\n",
    "std_accuracy = np.std(scores)\n",
    "std_precision_per_class = np.std(precision_per_fold, axis=0)\n",
    "std_recall_per_class = np.std(recall_per_fold, axis=0)\n",
    "print(\"LR\")\n",
    "print(\"Mean Metrics:\")\n",
    "print(f\"Mean Accuracy: {mean_accuracy:.6f}\")\n",
    "\n",
    "for class_idx, (mean_prec, mean_rec) in enumerate(zip(mean_precision_per_class, mean_recall_per_class)):\n",
    "    print(f\"Class {class_idx + 1}:\")\n",
    "    print(f\"  Mean Precision: {mean_prec:.6f}\")\n",
    "    print(f\"  Mean Recall: {mean_rec:.6f}\")\n",
    "    print()\n",
    "\n",
    "print(\"Standard Deviation Metrics:\")\n",
    "print(f\"Standard Deviation Accuracy: {std_accuracy:.6f}\")\n",
    "\n",
    "for class_idx, (std_prec, std_rec) in enumerate(zip(std_precision_per_class, std_recall_per_class)):\n",
    "    print(f\"Class {class_idx + 1}:\")\n",
    "    print(f\"  Standard Deviation Precision: {std_prec:.6f}\")\n",
    "    print(f\"  Standard Deviation Recall: {std_rec:.6f}\")\n"
   ]
  },
  {
   "cell_type": "markdown",
   "metadata": {},
   "source": [
    "##### 60 - 40 split model training and evaluation for Logistic regression"
   ]
  },
  {
   "cell_type": "code",
   "execution_count": 71,
   "metadata": {},
   "outputs": [
    {
     "data": {
      "text/plain": [
       "LogisticRegression(C=0.1, max_iter=500, solver='newton-cg')"
      ]
     },
     "execution_count": 71,
     "metadata": {},
     "output_type": "execute_result"
    }
   ],
   "source": [
    "# Fit logistic regression model for train set\n",
    "logistic_model.fit(X_train, y_train)"
   ]
  },
  {
   "cell_type": "code",
   "execution_count": 72,
   "metadata": {},
   "outputs": [
    {
     "name": "stdout",
     "output_type": "stream",
     "text": [
      "LR Classification Report:\n",
      "              precision    recall  f1-score   support\n",
      "\n",
      "           0   0.982857  0.966292  0.974504       178\n",
      "           1   0.939394  0.968750  0.953846        96\n",
      "\n",
      "    accuracy                       0.967153       274\n",
      "   macro avg   0.961126  0.967521  0.964175       274\n",
      "weighted avg   0.967629  0.967153  0.967266       274\n",
      "\n"
     ]
    },
    {
     "data": {
      "image/png": "[encoded data removed]",
      "text/plain": [
       "<Figure size 468x360 with 2 Axes>"
      ]
     },
     "metadata": {
      "needs_background": "light"
     },
     "output_type": "display_data"
    }
   ],
   "source": [
    "# Use the trained KNN model to make predictions on the test data\n",
    "y_pred = logistic_model.predict(X_test)\n",
    "\n",
    "# Print the Classification Report with 4 decimal points\n",
    "report = classification_report(y_test, y_pred, digits=6)\n",
    "print(\"LR Classification Report:\")\n",
    "print(report)\n",
    "\n",
    "# Print the Confusion Matrix using a Heatmap\n",
    "conf_matrix = confusion_matrix(y_test, y_pred)\n",
    "plt.figure(figsize=(6.5, 5))\n",
    "sns.heatmap(conf_matrix, annot=True, cmap='Blues', fmt='d', annot_kws={\"size\": 12})\n",
    "plt.xlabel('Predicted')\n",
    "plt.ylabel('Actual')\n",
    "plt.title('LR Confusion Matrix')\n",
    "plt.show()"
   ]
  },
  {
   "cell_type": "markdown",
   "metadata": {},
   "source": [
    "#### XGBoost"
   ]
  },
  {
   "cell_type": "code",
   "execution_count": null,
   "metadata": {},
   "outputs": [
    {
     "name": "stdout",
     "output_type": "stream",
     "text": [
      "Best Hyperparameters: {'subsample': 0.7, 'scale_pos_weight': 3, 'reg_lambda': 0.001, 'reg_alpha': 0, 'n_estimators': 150, 'min_child_weight': 4, 'max_depth': 6, 'learning_rate': 0.1, 'gamma': 0, 'colsample_bytree': 0.6}\n",
      "Cross-Validation Accuracy Scores:\n",
      "Fold 1: 0.970803\n",
      "Fold 2: 0.985401\n",
      "Fold 3: 0.985401\n",
      "Fold 4: 0.970588\n",
      "Fold 5: 0.992647\n",
      "Mean Accuracy: 0.980968\n",
      "Standard Deviation: 0.008795\n"
     ]
    }
   ],
   "source": [
    "# # Create an instance of the XGBoost Classifier\n",
    "# xgb_model = xgb.XGBClassifier()\n",
    "\n",
    "# # Specify the number of cross-validation folds (K) - e.g., 5-fold cross-validation\n",
    "# n_splits = 5\n",
    "# cv = StratifiedKFold(n_splits=n_splits, shuffle=True, random_state=4)\n",
    "\n",
    "# # Define the hyperparameter grid for RandomizedSearchCV\n",
    "# param_dist = {\n",
    "#     'n_estimators': range(50, 251, 50),  # Number of trees in the forest\n",
    "#     'max_depth': range(3, 11),  # Maximum depth of each tree\n",
    "#     'learning_rate': [0.01, 0.1, 0.2, 0.3],  # Learning rate\n",
    "#     'subsample': [0.8, 0.9, 1.0],  # Fraction of samples used for training\n",
    "#     'colsample_bytree': [0.8, 0.9, 1.0],  # Fraction of features used for training\n",
    "#     'min_child_weight': [1, 2, 3, 4],  # Minimum sum of instance weight (hessian) needed in a child\n",
    "#     'gamma': [0, 0.1, 0.2, 0.3],  # Minimum loss reduction required to make a further partition on a leaf node\n",
    "#     'reg_alpha': [0, 1e-5, 1e-4, 1e-3, 1e-2],  # L1 regularization term on weights\n",
    "#     'reg_lambda': [0, 1e-5, 1e-4, 1e-3, 1e-2],  # L2 regularization term on weights\n",
    "#     'scale_pos_weight': [1, 2, 3],  # Controls the balance of positive and negative weights\n",
    "#     'gamma': [0, 0.1, 0.2],  # Minimum loss reduction required to make a further partition on a leaf node\n",
    "#     'subsample': [0.6, 0.7, 0.8, 0.9, 1.0],  # Fraction of samples used for training\n",
    "#     'colsample_bytree': [0.6, 0.7, 0.8, 0.9, 1.0],  # Fraction of features used for training\n",
    "#     'min_child_weight': [1, 2, 3, 4, 5]  # Minimum sum of instance weight (hessian) needed in a child\n",
    "# }\n",
    "\n",
    "\n",
    "# # Create RandomizedSearchCV with the XGBoost model and parameter grid\n",
    "# random_search = RandomizedSearchCV(\n",
    "#     xgb_model,\n",
    "#     param_distributions=param_dist,\n",
    "#     n_iter=500,  # Number of random combinations to try\n",
    "#     cv=cv,\n",
    "#     scoring='accuracy',\n",
    "#     random_state=42,\n",
    "#     n_jobs=-1  # Use all available CPU cores for parallel processing\n",
    "# )\n",
    "\n",
    "# # Perform Randomized Search to find the best hyperparameters\n",
    "# random_search.fit(X, y)\n",
    "\n",
    "# # Get the best hyperparameters\n",
    "# best_params = random_search.best_params_\n",
    "# print(\"Best Hyperparameters:\", best_params)\n",
    "\n",
    "# # Train the XGBoost model with the best hyperparameters\n",
    "# best_xgb_model = xgb.XGBClassifier(**best_params)\n",
    "\n",
    "# # Perform K-fold cross-validation and get the classification scores\n",
    "# scores = cross_val_score(best_xgb_model, X, y, cv=cv, scoring='accuracy')\n",
    "\n",
    "# # Print the accuracy for each fold\n",
    "# print(\"Cross-Validation Accuracy Scores:\")\n",
    "# for i, score in enumerate(scores):\n",
    "#     print(f\"Fold {i+1}: {score:.6f}\")\n",
    "\n",
    "# # Calculate and print the mean accuracy and standard deviation\n",
    "# mean_accuracy = np.mean(scores)\n",
    "# std_accuracy = np.std(scores)\n",
    "# print(f\"Mean Accuracy: {mean_accuracy:.6f}\")\n",
    "# print(f\"Standard Deviation: {std_accuracy:.6f}\")\n"
   ]
  },
  {
   "cell_type": "code",
   "execution_count": 73,
   "metadata": {},
   "outputs": [],
   "source": [
    "# # Create a XGBoost Classifier with the best hyperparameters\n",
    "# xgb_model = xgb.XGBClassifier(**best_params)"
   ]
  },
  {
   "cell_type": "code",
   "execution_count": 74,
   "metadata": {},
   "outputs": [],
   "source": [
    "# Create an instance of the XGBoost Classifier\n",
    "xgb_model = xgb.XGBClassifier(\n",
    "    subsample=0.7,\n",
    "    scale_pos_weight=3,\n",
    "    reg_lambda=0.001,\n",
    "    reg_alpha=0,\n",
    "    n_estimators=150,\n",
    "    min_child_weight=4,\n",
    "    max_depth=6,\n",
    "    learning_rate=0.1,\n",
    "    gamma=0,\n",
    "    colsample_bytree=0.6,\n",
    "    random_state=13\n",
    ")"
   ]
  },
  {
   "cell_type": "code",
   "execution_count": 75,
   "metadata": {},
   "outputs": [],
   "source": [
    "# Specify the number of cross-validation folds (K) - e.g., 5-fold cross-validation\n",
    "n_splits = 5\n",
    "cv = StratifiedKFold(n_splits=n_splits, shuffle=True, random_state=4)"
   ]
  },
  {
   "cell_type": "code",
   "execution_count": 76,
   "metadata": {},
   "outputs": [],
   "source": [
    "# Perform K-fold cross-validation and get the classification scores\n",
    "scores = cross_val_score(xgb_model, X, y, cv=cv, scoring='accuracy')"
   ]
  },
  {
   "cell_type": "code",
   "execution_count": 77,
   "metadata": {},
   "outputs": [
    {
     "name": "stdout",
     "output_type": "stream",
     "text": [
      "Cross-Validation Accuracy Scores:\n",
      "Fold 1: 0.970803\n",
      "Fold 2: 0.978102\n",
      "Fold 3: 0.978102\n",
      "Fold 4: 0.970588\n",
      "Fold 5: 0.985294\n"
     ]
    }
   ],
   "source": [
    "# Print the accuracy for each fold\n",
    "print(\"Cross-Validation Accuracy Scores:\")\n",
    "for i, score in enumerate(scores):\n",
    "    print(f\"Fold {i+1}: {score:.6f}\")"
   ]
  },
  {
   "cell_type": "code",
   "execution_count": 78,
   "metadata": {},
   "outputs": [
    {
     "name": "stdout",
     "output_type": "stream",
     "text": [
      "Mean Accuracy: 0.976578\n",
      "Standard Deviation: 0.005474\n"
     ]
    }
   ],
   "source": [
    "# Calculate and print the mean accuracy and standard deviation\n",
    "mean_accuracy = np.mean(scores)\n",
    "std_accuracy = np.std(scores)\n",
    "print(f\"Mean Accuracy: {mean_accuracy:.6f}\")\n",
    "print(f\"Standard Deviation: {std_accuracy:.6f}\")"
   ]
  },
  {
   "cell_type": "code",
   "execution_count": 79,
   "metadata": {},
   "outputs": [
    {
     "name": "stdout",
     "output_type": "stream",
     "text": [
      "Cross-Validation Metrics:\n",
      "Fold 1:\n",
      "  Accuracy: 0.970803\n",
      "  Class 1:\n",
      "    Precision: 0.988506\n",
      "    Recall: 0.966292\n",
      "\n",
      "  Class 2:\n",
      "    Precision: 0.940000\n",
      "    Recall: 0.979167\n",
      "\n",
      "Fold 2:\n",
      "  Accuracy: 0.978102\n",
      "  Class 1:\n",
      "    Precision: 0.977778\n",
      "    Recall: 0.988764\n",
      "\n",
      "  Class 2:\n",
      "    Precision: 0.978723\n",
      "    Recall: 0.958333\n",
      "\n",
      "Fold 3:\n",
      "  Accuracy: 0.978102\n",
      "  Class 1:\n",
      "    Precision: 0.988636\n",
      "    Recall: 0.977528\n",
      "\n",
      "  Class 2:\n",
      "    Precision: 0.959184\n",
      "    Recall: 0.979167\n",
      "\n",
      "Fold 4:\n",
      "  Accuracy: 0.970588\n",
      "  Class 1:\n",
      "    Precision: 1.000000\n",
      "    Recall: 0.955056\n",
      "\n",
      "  Class 2:\n",
      "    Precision: 0.921569\n",
      "    Recall: 1.000000\n",
      "\n",
      "Fold 5:\n",
      "  Accuracy: 0.985294\n",
      "  Class 1:\n",
      "    Precision: 0.988636\n",
      "    Recall: 0.988636\n",
      "\n",
      "  Class 2:\n",
      "    Precision: 0.979167\n",
      "    Recall: 0.979167\n",
      "\n",
      "XGB\n",
      "Mean Metrics:\n",
      "Mean Accuracy: 0.976578\n",
      "Class 1:\n",
      "  Mean Precision: 0.988711\n",
      "  Mean Recall: 0.975255\n",
      "\n",
      "Class 2:\n",
      "  Mean Precision: 0.955728\n",
      "  Mean Recall: 0.979167\n",
      "\n",
      "Standard Deviation Metrics:\n",
      "Standard Deviation Accuracy: 0.005474\n",
      "Class 1:\n",
      "  Standard Deviation Precision: 0.007029\n",
      "  Standard Deviation Recall: 0.013077\n",
      "Class 2:\n",
      "  Standard Deviation Precision: 0.022380\n",
      "  Standard Deviation Recall: 0.013176\n"
     ]
    }
   ],
   "source": [
    "# Initialize lists to store precision and recall values for each fold\n",
    "precision_per_fold = []\n",
    "recall_per_fold = []\n",
    "\n",
    "# Perform K-fold cross-validation and get the predicted labels for each fold\n",
    "predicted_labels = cross_val_predict(xgb_model, X, y, cv=cv)\n",
    "\n",
    "# Calculate and print accuracy, precision, and recall for each fold and class\n",
    "print(\"Cross-Validation Metrics:\")\n",
    "for i, (train_idx, test_idx) in enumerate(cv.split(X, y)):\n",
    "    accuracy = accuracy_score(y[test_idx], predicted_labels[test_idx])\n",
    "    precision = precision_score(y[test_idx], predicted_labels[test_idx], average=None)\n",
    "    recall = recall_score(y[test_idx], predicted_labels[test_idx], average=None)\n",
    "    \n",
    "    print(f\"Fold {i + 1}:\")\n",
    "    print(f\"  Accuracy: {accuracy:.6f}\")\n",
    "    \n",
    "    for class_idx, (prec, rec) in enumerate(zip(precision, recall)):\n",
    "        print(f\"  Class {class_idx + 1}:\")\n",
    "        print(f\"    Precision: {prec:.6f}\")\n",
    "        print(f\"    Recall: {rec:.6f}\")\n",
    "        print()\n",
    "    \n",
    "    # Append precision and recall values for this fold to the lists\n",
    "    precision_per_fold.append(precision)\n",
    "    recall_per_fold.append(recall)\n",
    "\n",
    "# Calculate and print the mean accuracy, precision, and recall across all folds\n",
    "mean_accuracy = np.mean(scores)\n",
    "\n",
    "# Calculate mean precision and recall for each class\n",
    "mean_precision_per_class = np.mean(precision_per_fold, axis=0)\n",
    "mean_recall_per_class = np.mean(recall_per_fold, axis=0)\n",
    "\n",
    "# Calculate standard deviation of accuracy, precision, and recall across folds\n",
    "std_accuracy = np.std(scores)\n",
    "std_precision_per_class = np.std(precision_per_fold, axis=0)\n",
    "std_recall_per_class = np.std(recall_per_fold, axis=0)\n",
    "print(\"XGB\")\n",
    "print(\"Mean Metrics:\")\n",
    "print(f\"Mean Accuracy: {mean_accuracy:.6f}\")\n",
    "\n",
    "for class_idx, (mean_prec, mean_rec) in enumerate(zip(mean_precision_per_class, mean_recall_per_class)):\n",
    "    print(f\"Class {class_idx + 1}:\")\n",
    "    print(f\"  Mean Precision: {mean_prec:.6f}\")\n",
    "    print(f\"  Mean Recall: {mean_rec:.6f}\")\n",
    "    print()\n",
    "\n",
    "print(\"Standard Deviation Metrics:\")\n",
    "print(f\"Standard Deviation Accuracy: {std_accuracy:.6f}\")\n",
    "\n",
    "for class_idx, (std_prec, std_rec) in enumerate(zip(std_precision_per_class, std_recall_per_class)):\n",
    "    print(f\"Class {class_idx + 1}:\")\n",
    "    print(f\"  Standard Deviation Precision: {std_prec:.6f}\")\n",
    "    print(f\"  Standard Deviation Recall: {std_rec:.6f}\")\n"
   ]
  },
  {
   "cell_type": "markdown",
   "metadata": {},
   "source": [
    "##### 60 - 40 split model training and evaluation for XG Boost"
   ]
  },
  {
   "cell_type": "code",
   "execution_count": 80,
   "metadata": {},
   "outputs": [
    {
     "data": {
      "text/plain": [
       "XGBClassifier(base_score=0.5, booster='gbtree', callbacks=None,\n",
       "              colsample_bylevel=1, colsample_bynode=1, colsample_bytree=0.6,\n",
       "              early_stopping_rounds=None, enable_categorical=False,\n",
       "              eval_metric=None, feature_types=None, gamma=0, gpu_id=-1,\n",
       "              grow_policy='depthwise', importance_type=None,\n",
       "              interaction_constraints='', learning_rate=0.1, max_bin=256,\n",
       "              max_cat_threshold=64, max_cat_to_onehot=4, max_delta_step=0,\n",
       "              max_depth=6, max_leaves=0, min_child_weight=4, missing=nan,\n",
       "              monotone_constraints='()', n_estimators=150, n_jobs=0,\n",
       "              num_parallel_tree=1, predictor='auto', random_state=13, ...)"
      ]
     },
     "execution_count": 80,
     "metadata": {},
     "output_type": "execute_result"
    }
   ],
   "source": [
    "# Fit XGB model for train set\n",
    "xgb_model.fit(X_train, y_train)"
   ]
  },
  {
   "cell_type": "code",
   "execution_count": 81,
   "metadata": {},
   "outputs": [
    {
     "name": "stdout",
     "output_type": "stream",
     "text": [
      "XGB Classification Report:\n",
      "              precision    recall  f1-score   support\n",
      "\n",
      "           0   0.994220  0.966292  0.980057       178\n",
      "           1   0.940594  0.989583  0.964467        96\n",
      "\n",
      "    accuracy                       0.974453       274\n",
      "   macro avg   0.967407  0.977938  0.972262       274\n",
      "weighted avg   0.975431  0.974453  0.974595       274\n",
      "\n"
     ]
    },
    {
     "data": {
      "image/png": "[encoded data removed]",
      "text/plain": [
       "<Figure size 468x360 with 2 Axes>"
      ]
     },
     "metadata": {
      "needs_background": "light"
     },
     "output_type": "display_data"
    }
   ],
   "source": [
    "# Use the trained XGB model to make predictions on the test data\n",
    "y_pred = xgb_model.predict(X_test)\n",
    "\n",
    "# Print the Classification Report with 4 decimal points\n",
    "report = classification_report(y_test, y_pred, digits=6)\n",
    "print(\"XGB Classification Report:\")\n",
    "print(report)\n",
    "\n",
    "# Print the Confusion Matrix using a Heatmap\n",
    "conf_matrix = confusion_matrix(y_test, y_pred)\n",
    "plt.figure(figsize=(6.5, 5))\n",
    "sns.heatmap(conf_matrix, annot=True, cmap='Blues', fmt='d', annot_kws={\"size\": 12})\n",
    "plt.xlabel('Predicted')\n",
    "plt.ylabel('Actual')\n",
    "plt.title('XGB Confusion Matrix')\n",
    "plt.show()"
   ]
  },
  {
   "cell_type": "markdown",
   "metadata": {},
   "source": [
    "#### Easy Ensamble"
   ]
  },
  {
   "cell_type": "code",
   "execution_count": 84,
   "metadata": {},
   "outputs": [
    {
     "name": "stdout",
     "output_type": "stream",
     "text": [
      "Best Hyperparameters: {'xgb__n_estimators': 50, 'xgb__max_depth': 8, 'xgb__learning_rate': 0.1, 'voting': 'hard', 'rf__n_estimators': 100, 'rf__max_depth': 10}\n",
      "Cross-Validation Accuracy Scores:\n",
      "Fold 1: 0.970803\n",
      "Fold 2: 0.985401\n",
      "Fold 3: 0.985401\n",
      "Fold 4: 0.970588\n",
      "Fold 5: 0.985294\n",
      "Mean Accuracy: 0.979498\n",
      "Standard Deviation: 0.007187\n"
     ]
    }
   ],
   "source": [
    "# from sklearn.ensemble import RandomForestClassifier, VotingClassifier\n",
    "# from xgboost import XGBClassifier\n",
    "# from sklearn.neighbors import KNeighborsClassifier\n",
    "# from sklearn.model_selection import StratifiedKFold, RandomizedSearchCV, cross_val_score\n",
    "# import numpy as np\n",
    "\n",
    "# # Create base classifiers with fixed hyperparameters\n",
    "# rf_classifier = RandomForestClassifier(\n",
    "#     n_estimators=100,\n",
    "#     min_samples_split=7,\n",
    "#     min_samples_leaf=3,\n",
    "#     max_features='log2',\n",
    "#     max_depth=7,\n",
    "#     criterion='gini',\n",
    "#     bootstrap=False\n",
    "# )\n",
    "# xgb_classifier = XGBClassifier(\n",
    "#     subsample=0.7,\n",
    "#     scale_pos_weight=3,\n",
    "#     reg_lambda=0.001,\n",
    "#     reg_alpha=0,\n",
    "#     n_estimators=150,\n",
    "#     min_child_weight=4,\n",
    "#     max_depth=6,\n",
    "#     learning_rate=0.1,\n",
    "#     gamma=0,\n",
    "#     colsample_bytree=0.6,\n",
    "#     random_state=13\n",
    "# )\n",
    "# knn_classifier = KNeighborsClassifier(n_neighbors=3)\n",
    "\n",
    "# # Create a VotingClassifier with the fixed base classifiers\n",
    "# ensemble_classifier = VotingClassifier(\n",
    "#     estimators=[('rf', rf_classifier), ('xgb', xgb_classifier), ('knn', knn_classifier)],\n",
    "#     voting='soft'  # You can choose 'hard' or 'soft' voting strategy\n",
    "# )\n",
    "\n",
    "# # Specify the number of cross-validation folds (K) - e.g., 5-fold cross-validation\n",
    "# n_splits = 5\n",
    "# cv = StratifiedKFold(n_splits=n_splits, shuffle=True, random_state=4)\n",
    "\n",
    "# # Define the expanded hyperparameter grid for RandomizedSearchCV\n",
    "# param_dist = {\n",
    "#     'rf__n_estimators': [50, 100, 200, 300],  # Number of trees for the Random Forest\n",
    "#     'rf__max_depth': [5, 7, 10, 15],  # Maximum depth of trees for the Random Forest\n",
    "#     'xgb__n_estimators': [50, 100, 200, 300],  # Number of trees for XGBoost\n",
    "#     'xgb__max_depth': [5, 6, 7, 8],  # Maximum depth of trees for XGBoost\n",
    "#     'xgb__learning_rate': [0.01, 0.1, 0.2],  # Learning rate for XGBoost\n",
    "#     'voting': ['hard', 'soft']  # Voting strategy\n",
    "# }\n",
    "\n",
    "# # Create RandomizedSearchCV with the Ensemble Classifier and expanded parameter grid\n",
    "# random_search = RandomizedSearchCV(\n",
    "#     ensemble_classifier,\n",
    "#     param_distributions=param_dist,\n",
    "#     n_iter=50,  # Number of random combinations to try\n",
    "#     cv=cv,\n",
    "#     scoring='accuracy',\n",
    "#     random_state=42,\n",
    "#     n_jobs=-1  # Use all available CPU cores for parallel processing\n",
    "# )\n",
    "\n",
    "# # Perform Randomized Search to find the best hyperparameters\n",
    "# random_search.fit(X, y)\n",
    "\n",
    "# # Get the best hyperparameters\n",
    "# best_params = random_search.best_params_\n",
    "# print(\"Best Hyperparameters:\", best_params)\n",
    "\n",
    "# # Train the Ensemble Classifier with the best hyperparameters\n",
    "# best_ensemble_classifier = VotingClassifier(\n",
    "#     estimators=[('rf', RandomForestClassifier(n_estimators=best_params['rf__n_estimators'],\n",
    "#                                               max_depth=best_params['rf__max_depth'])),\n",
    "#                 ('xgb', XGBClassifier(n_estimators=best_params['xgb__n_estimators'],\n",
    "#                                       max_depth=best_params['xgb__max_depth'],\n",
    "#                                       learning_rate=best_params['xgb__learning_rate'])),\n",
    "#                 ('knn', KNeighborsClassifier(n_neighbors=3))],\n",
    "#     voting=best_params['voting']\n",
    "# )\n",
    "\n",
    "# # Perform K-fold cross-validation and get the classification scores\n",
    "# scores = cross_val_score(best_ensemble_classifier, X, y, cv=cv, scoring='accuracy')\n",
    "\n",
    "# # Print the accuracy for each fold\n",
    "# print(\"Cross-Validation Accuracy Scores:\")\n",
    "# for i, score in enumerate(scores):\n",
    "#     print(f\"Fold {i+1}: {score:.6f}\")\n",
    "\n",
    "# # Calculate and print the mean accuracy and standard deviation\n",
    "# mean_accuracy = np.mean(scores)\n",
    "# std_accuracy = np.std(scores)\n",
    "# print(f\"Mean Accuracy: {mean_accuracy:.6f}\")\n",
    "# print(f\"Standard Deviation: {std_accuracy:.6f}\")\n"
   ]
  },
  {
   "cell_type": "code",
   "execution_count": 82,
   "metadata": {},
   "outputs": [],
   "source": [
    "# Create base classifiers with the best hyperparameters\n",
    "rf_classifier = RandomForestClassifier(\n",
    "    n_estimators=100,\n",
    "    max_depth=10,  # Use the best value from hyperparameters\n",
    "    min_samples_split=7,\n",
    "    min_samples_leaf=3,\n",
    "    max_features='log2',\n",
    "    criterion='gini',\n",
    "    bootstrap=False\n",
    ")\n",
    "xgb_classifier = XGBClassifier(\n",
    "    subsample=0.7,\n",
    "    scale_pos_weight=3,\n",
    "    reg_lambda=0.001,\n",
    "    reg_alpha=0,\n",
    "    n_estimators=50,  # Use the best value from hyperparameters\n",
    "    min_child_weight=4,\n",
    "    max_depth=8,  # Use the best value from hyperparameters\n",
    "    learning_rate=0.1,  # Use the best value from hyperparameters\n",
    "    gamma=0,\n",
    "    colsample_bytree=0.6,\n",
    "    random_state=13\n",
    ")\n",
    "knn_classifier = KNeighborsClassifier(n_neighbors=3)\n",
    "\n",
    "# Create a VotingClassifier with the best hyperparameters for voting='hard'\n",
    "ensemble_classifier = VotingClassifier(\n",
    "    estimators=[('rf', rf_classifier), ('xgb', xgb_classifier), ('knn', knn_classifier)],\n",
    "    voting='hard'  # Use the best value from hyperparameters\n",
    ")"
   ]
  },
  {
   "cell_type": "code",
   "execution_count": 83,
   "metadata": {},
   "outputs": [],
   "source": [
    "# Specify the number of cross-validation folds (K) - e.g., 5-fold cross-validation\n",
    "n_splits = 5\n",
    "cv = StratifiedKFold(n_splits=n_splits, shuffle=True, random_state=4)"
   ]
  },
  {
   "cell_type": "code",
   "execution_count": 84,
   "metadata": {},
   "outputs": [],
   "source": [
    "# Perform K-fold cross-validation and get the classification scores\n",
    "scores = cross_val_score(ensemble_classifier, X, y, cv=cv, scoring='accuracy')"
   ]
  },
  {
   "cell_type": "code",
   "execution_count": 85,
   "metadata": {},
   "outputs": [
    {
     "name": "stdout",
     "output_type": "stream",
     "text": [
      "Cross-Validation Accuracy Scores:\n",
      "Fold 1: 0.978102\n",
      "Fold 2: 0.985401\n",
      "Fold 3: 0.985401\n",
      "Fold 4: 0.977941\n",
      "Fold 5: 0.985294\n"
     ]
    }
   ],
   "source": [
    "# Print the accuracy for each fold\n",
    "print(\"Cross-Validation Accuracy Scores:\")\n",
    "for i, score in enumerate(scores):\n",
    "    print(f\"Fold {i+1}: {score:.6f}\")"
   ]
  },
  {
   "cell_type": "code",
   "execution_count": 86,
   "metadata": {},
   "outputs": [
    {
     "name": "stdout",
     "output_type": "stream",
     "text": [
      "Mean Accuracy: 0.982428\n",
      "Standard Deviation: 0.003598\n"
     ]
    }
   ],
   "source": [
    "# Calculate and print the mean accuracy and standard deviation\n",
    "mean_accuracy = np.mean(scores)\n",
    "std_accuracy = np.std(scores)\n",
    "print(f\"Mean Accuracy: {mean_accuracy:.6f}\")\n",
    "print(f\"Standard Deviation: {std_accuracy:.6f}\")"
   ]
  },
  {
   "cell_type": "code",
   "execution_count": 87,
   "metadata": {},
   "outputs": [
    {
     "name": "stdout",
     "output_type": "stream",
     "text": [
      "Cross-Validation Metrics:\n",
      "Fold 1:\n",
      "  Accuracy: 0.978102\n",
      "  Class 1:\n",
      "    Precision: 1.000000\n",
      "    Recall: 0.966292\n",
      "\n",
      "  Class 2:\n",
      "    Precision: 0.941176\n",
      "    Recall: 1.000000\n",
      "\n",
      "Fold 2:\n",
      "  Accuracy: 0.985401\n",
      "  Class 1:\n",
      "    Precision: 0.988764\n",
      "    Recall: 0.988764\n",
      "\n",
      "  Class 2:\n",
      "    Precision: 0.979167\n",
      "    Recall: 0.979167\n",
      "\n",
      "Fold 3:\n",
      "  Accuracy: 0.985401\n",
      "  Class 1:\n",
      "    Precision: 1.000000\n",
      "    Recall: 0.977528\n",
      "\n",
      "  Class 2:\n",
      "    Precision: 0.960000\n",
      "    Recall: 1.000000\n",
      "\n",
      "Fold 4:\n",
      "  Accuracy: 0.977941\n",
      "  Class 1:\n",
      "    Precision: 1.000000\n",
      "    Recall: 0.966292\n",
      "\n",
      "  Class 2:\n",
      "    Precision: 0.940000\n",
      "    Recall: 1.000000\n",
      "\n",
      "Fold 5:\n",
      "  Accuracy: 0.985294\n",
      "  Class 1:\n",
      "    Precision: 0.988636\n",
      "    Recall: 0.988636\n",
      "\n",
      "  Class 2:\n",
      "    Precision: 0.979167\n",
      "    Recall: 0.979167\n",
      "\n",
      "Easy Ensamble\n",
      "Mean Metrics:\n",
      "Mean Accuracy: 0.982428\n",
      "Class 1:\n",
      "  Mean Precision: 0.995480\n",
      "  Mean Recall: 0.977503\n",
      "\n",
      "Class 2:\n",
      "  Mean Precision: 0.959902\n",
      "  Mean Recall: 0.991667\n",
      "\n",
      "Standard Deviation Metrics:\n",
      "Standard Deviation Accuracy: 0.003598\n",
      "Class 1:\n",
      "  Standard Deviation Precision: 0.005536\n",
      "  Standard Deviation Recall: 0.010021\n",
      "Class 2:\n",
      "  Standard Deviation Precision: 0.017257\n",
      "  Standard Deviation Recall: 0.010206\n"
     ]
    }
   ],
   "source": [
    "# Initialize lists to store precision and recall values for each fold\n",
    "precision_per_fold = []\n",
    "recall_per_fold = []\n",
    "\n",
    "# Perform K-fold cross-validation and get the predicted labels for each fold\n",
    "predicted_labels = cross_val_predict(ensemble_classifier, X, y, cv=cv)\n",
    "\n",
    "# Calculate and print accuracy, precision, and recall for each fold and class\n",
    "print(\"Cross-Validation Metrics:\")\n",
    "for i, (train_idx, test_idx) in enumerate(cv.split(X, y)):\n",
    "    accuracy = accuracy_score(y[test_idx], predicted_labels[test_idx])\n",
    "    precision = precision_score(y[test_idx], predicted_labels[test_idx], average=None)\n",
    "    recall = recall_score(y[test_idx], predicted_labels[test_idx], average=None)\n",
    "    \n",
    "    print(f\"Fold {i + 1}:\")\n",
    "    print(f\"  Accuracy: {accuracy:.6f}\")\n",
    "    \n",
    "    for class_idx, (prec, rec) in enumerate(zip(precision, recall)):\n",
    "        print(f\"  Class {class_idx + 1}:\")\n",
    "        print(f\"    Precision: {prec:.6f}\")\n",
    "        print(f\"    Recall: {rec:.6f}\")\n",
    "        print()\n",
    "    \n",
    "    # Append precision and recall values for this fold to the lists\n",
    "    precision_per_fold.append(precision)\n",
    "    recall_per_fold.append(recall)\n",
    "\n",
    "# Calculate and print the mean accuracy, precision, and recall across all folds\n",
    "mean_accuracy = np.mean(scores)\n",
    "\n",
    "# Calculate mean precision and recall for each class\n",
    "mean_precision_per_class = np.mean(precision_per_fold, axis=0)\n",
    "mean_recall_per_class = np.mean(recall_per_fold, axis=0)\n",
    "\n",
    "# Calculate standard deviation of accuracy, precision, and recall across folds\n",
    "std_accuracy = np.std(scores)\n",
    "std_precision_per_class = np.std(precision_per_fold, axis=0)\n",
    "std_recall_per_class = np.std(recall_per_fold, axis=0)\n",
    "print(\"Easy Ensamble\")\n",
    "print(\"Mean Metrics:\")\n",
    "print(f\"Mean Accuracy: {mean_accuracy:.6f}\")\n",
    "\n",
    "for class_idx, (mean_prec, mean_rec) in enumerate(zip(mean_precision_per_class, mean_recall_per_class)):\n",
    "    print(f\"Class {class_idx + 1}:\")\n",
    "    print(f\"  Mean Precision: {mean_prec:.6f}\")\n",
    "    print(f\"  Mean Recall: {mean_rec:.6f}\")\n",
    "    print()\n",
    "\n",
    "print(\"Standard Deviation Metrics:\")\n",
    "print(f\"Standard Deviation Accuracy: {std_accuracy:.6f}\")\n",
    "\n",
    "for class_idx, (std_prec, std_rec) in enumerate(zip(std_precision_per_class, std_recall_per_class)):\n",
    "    print(f\"Class {class_idx + 1}:\")\n",
    "    print(f\"  Standard Deviation Precision: {std_prec:.6f}\")\n",
    "    print(f\"  Standard Deviation Recall: {std_rec:.6f}\")\n"
   ]
  },
  {
   "cell_type": "markdown",
   "metadata": {},
   "source": [
    "##### 60 - 40 split model training and evaluation for XG Boost"
   ]
  },
  {
   "cell_type": "code",
   "execution_count": 88,
   "metadata": {},
   "outputs": [
    {
     "data": {
      "text/plain": [
       "VotingClassifier(estimators=[('rf',\n",
       "                              RandomForestClassifier(bootstrap=False,\n",
       "                                                     max_depth=10,\n",
       "                                                     max_features='log2',\n",
       "                                                     min_samples_leaf=3,\n",
       "                                                     min_samples_split=7)),\n",
       "                             ('xgb',\n",
       "                              XGBClassifier(base_score=None, booster=None,\n",
       "                                            callbacks=None,\n",
       "                                            colsample_bylevel=None,\n",
       "                                            colsample_bynode=None,\n",
       "                                            colsample_bytree=0.6,\n",
       "                                            early_stopping_rounds=None,\n",
       "                                            enable_categorical=False,\n",
       "                                            eval_metric=None,\n",
       "                                            fe...\n",
       "                                            importance_type=None,\n",
       "                                            interaction_constraints=None,\n",
       "                                            learning_rate=0.1, max_bin=None,\n",
       "                                            max_cat_threshold=None,\n",
       "                                            max_cat_to_onehot=None,\n",
       "                                            max_delta_step=None, max_depth=8,\n",
       "                                            max_leaves=None, min_child_weight=4,\n",
       "                                            missing=nan,\n",
       "                                            monotone_constraints=None,\n",
       "                                            n_estimators=50, n_jobs=None,\n",
       "                                            num_parallel_tree=None,\n",
       "                                            predictor=None, random_state=13, ...)),\n",
       "                             ('knn', KNeighborsClassifier(n_neighbors=3))])"
      ]
     },
     "execution_count": 88,
     "metadata": {},
     "output_type": "execute_result"
    }
   ],
   "source": [
    "# Fit XGB model for train set\n",
    "ensemble_classifier.fit(X_train, y_train)"
   ]
  },
  {
   "cell_type": "code",
   "execution_count": 89,
   "metadata": {},
   "outputs": [
    {
     "name": "stdout",
     "output_type": "stream",
     "text": [
      "XGB Classification Report:\n",
      "              precision    recall  f1-score   support\n",
      "\n",
      "           0   0.994220  0.966292  0.980057       178\n",
      "           1   0.940594  0.989583  0.964467        96\n",
      "\n",
      "    accuracy                       0.974453       274\n",
      "   macro avg   0.967407  0.977938  0.972262       274\n",
      "weighted avg   0.975431  0.974453  0.974595       274\n",
      "\n"
     ]
    },
    {
     "data": {
      "image/png": "[encoded data removed]",
      "text/plain": [
       "<Figure size 468x360 with 2 Axes>"
      ]
     },
     "metadata": {
      "needs_background": "light"
     },
     "output_type": "display_data"
    }
   ],
   "source": [
    "# Use the trained XGB model to make predictions on the test data\n",
    "y_pred = ensemble_classifier.predict(X_test)\n",
    "\n",
    "# Print the Classification Report with 4 decimal points\n",
    "report = classification_report(y_test, y_pred, digits=6)\n",
    "print(\"XGB Classification Report:\")\n",
    "print(report)\n",
    "\n",
    "# Print the Confusion Matrix using a Heatmap\n",
    "conf_matrix = confusion_matrix(y_test, y_pred)\n",
    "plt.figure(figsize=(6.5, 5))\n",
    "sns.heatmap(conf_matrix, annot=True, cmap='Blues', fmt='d', annot_kws={\"size\": 12})\n",
    "plt.xlabel('Predicted')\n",
    "plt.ylabel('Actual')\n",
    "plt.title('XGB Confusion Matrix')\n",
    "plt.show()"
   ]
  },
  {
   "cell_type": "code",
   "execution_count": null,
   "metadata": {},
   "outputs": [],
   "source": []
  }
 ],
 "metadata": {
  "kernelspec": {
   "display_name": "base",
   "language": "python",
   "name": "python3"
  },
  "language_info": {
   "codemirror_mode": {
    "name": "ipython",
    "version": 3
   },
   "file_extension": ".py",
   "mimetype": "text/x-python",
   "name": "python",
   "nbconvert_exporter": "python",
   "pygments_lexer": "ipython3",
   "version": "3.9.12"
  },
  "orig_nbformat": 4
 },
 "nbformat": 4,
 "nbformat_minor": 2
}
