{
 "cells": [
  {
   "cell_type": "code",
   "execution_count": 40,
   "metadata": {},
   "outputs": [],
   "source": [
    "import pandas as pd\n",
    "import numpy as np\n",
    "import matplotlib.pyplot as plt\n",
    "from sklearn.naive_bayes import GaussianNB\n",
    "from sklearn.neighbors import KNeighborsClassifier\n",
    "from sklearn.metrics import classification_report, confusion_matrix\n",
    "from sklearn.metrics import precision_score, recall_score, accuracy_score\n",
    "from sklearn.model_selection import cross_val_predict\n",
    "from sklearn.model_selection import train_test_split, cross_val_score, StratifiedKFold, RandomizedSearchCV\n",
    "from scipy.stats import norm\n",
    "from sklearn.ensemble import RandomForestClassifier\n",
    "import seaborn as sns\n",
    "import xgboost as xgb"
   ]
  },
  {
   "cell_type": "code",
   "execution_count": 2,
   "metadata": {},
   "outputs": [
    {
     "data": {
      "text/html": [
       "<div>\n",
       "<style scoped>\n",
       "    .dataframe tbody tr th:only-of-type {\n",
       "        vertical-align: middle;\n",
       "    }\n",
       "\n",
       "    .dataframe tbody tr th {\n",
       "        vertical-align: top;\n",
       "    }\n",
       "\n",
       "    .dataframe thead th {\n",
       "        text-align: right;\n",
       "    }\n",
       "</style>\n",
       "<table border=\"1\" class=\"dataframe\">\n",
       "  <thead>\n",
       "    <tr style=\"text-align: right;\">\n",
       "      <th></th>\n",
       "      <th>Sample_Code_Number</th>\n",
       "      <th>Clump_Thickness</th>\n",
       "      <th>Uniformity_of_Cell_Size</th>\n",
       "      <th>Uniformity_of_Cell_Shape</th>\n",
       "      <th>Marginal_Adhesion</th>\n",
       "      <th>Single_Epithelial_Cell_Size</th>\n",
       "      <th>Bare_Nuclei</th>\n",
       "      <th>Bland_Chromatin</th>\n",
       "      <th>Normal_Nucleoli</th>\n",
       "      <th>Mitoses</th>\n",
       "      <th>Class</th>\n",
       "    </tr>\n",
       "  </thead>\n",
       "  <tbody>\n",
       "    <tr>\n",
       "      <th>0</th>\n",
       "      <td>1000025</td>\n",
       "      <td>5</td>\n",
       "      <td>1</td>\n",
       "      <td>1</td>\n",
       "      <td>1</td>\n",
       "      <td>2</td>\n",
       "      <td>1</td>\n",
       "      <td>3</td>\n",
       "      <td>1</td>\n",
       "      <td>1</td>\n",
       "      <td>2</td>\n",
       "    </tr>\n",
       "    <tr>\n",
       "      <th>1</th>\n",
       "      <td>1002945</td>\n",
       "      <td>5</td>\n",
       "      <td>4</td>\n",
       "      <td>4</td>\n",
       "      <td>5</td>\n",
       "      <td>7</td>\n",
       "      <td>10</td>\n",
       "      <td>3</td>\n",
       "      <td>2</td>\n",
       "      <td>1</td>\n",
       "      <td>2</td>\n",
       "    </tr>\n",
       "    <tr>\n",
       "      <th>2</th>\n",
       "      <td>1015425</td>\n",
       "      <td>3</td>\n",
       "      <td>1</td>\n",
       "      <td>1</td>\n",
       "      <td>1</td>\n",
       "      <td>2</td>\n",
       "      <td>2</td>\n",
       "      <td>3</td>\n",
       "      <td>1</td>\n",
       "      <td>1</td>\n",
       "      <td>2</td>\n",
       "    </tr>\n",
       "    <tr>\n",
       "      <th>3</th>\n",
       "      <td>1016277</td>\n",
       "      <td>6</td>\n",
       "      <td>8</td>\n",
       "      <td>8</td>\n",
       "      <td>1</td>\n",
       "      <td>3</td>\n",
       "      <td>4</td>\n",
       "      <td>3</td>\n",
       "      <td>7</td>\n",
       "      <td>1</td>\n",
       "      <td>2</td>\n",
       "    </tr>\n",
       "    <tr>\n",
       "      <th>4</th>\n",
       "      <td>1017023</td>\n",
       "      <td>4</td>\n",
       "      <td>1</td>\n",
       "      <td>1</td>\n",
       "      <td>3</td>\n",
       "      <td>2</td>\n",
       "      <td>1</td>\n",
       "      <td>3</td>\n",
       "      <td>1</td>\n",
       "      <td>1</td>\n",
       "      <td>2</td>\n",
       "    </tr>\n",
       "  </tbody>\n",
       "</table>\n",
       "</div>"
      ],
      "text/plain": [
       "   Sample_Code_Number  Clump_Thickness  Uniformity_of_Cell_Size  \\\n",
       "0             1000025                5                        1   \n",
       "1             1002945                5                        4   \n",
       "2             1015425                3                        1   \n",
       "3             1016277                6                        8   \n",
       "4             1017023                4                        1   \n",
       "\n",
       "   Uniformity_of_Cell_Shape  Marginal_Adhesion  Single_Epithelial_Cell_Size  \\\n",
       "0                         1                  1                            2   \n",
       "1                         4                  5                            7   \n",
       "2                         1                  1                            2   \n",
       "3                         8                  1                            3   \n",
       "4                         1                  3                            2   \n",
       "\n",
       "  Bare_Nuclei  Bland_Chromatin  Normal_Nucleoli  Mitoses  Class  \n",
       "0           1                3                1        1      2  \n",
       "1          10                3                2        1      2  \n",
       "2           2                3                1        1      2  \n",
       "3           4                3                7        1      2  \n",
       "4           1                3                1        1      2  "
      ]
     },
     "execution_count": 2,
     "metadata": {},
     "output_type": "execute_result"
    }
   ],
   "source": [
    "# Specify the path to the downloaded dataset file on your local machine\n",
    "file_path = \"breast+cancer+wisconsin+original/breast-cancer-wisconsin.data\"\n",
    "\n",
    "# Define column names for the dataset\n",
    "column_names = [\"Sample_Code_Number\", \"Clump_Thickness\", \"Uniformity_of_Cell_Size\", \"Uniformity_of_Cell_Shape\",\n",
    "                \"Marginal_Adhesion\", \"Single_Epithelial_Cell_Size\", \"Bare_Nuclei\", \"Bland_Chromatin\", \"Normal_Nucleoli\",\n",
    "                \"Mitoses\", \"Class\"]\n",
    "\n",
    "# Read the dataset file into a pandas DataFrame\n",
    "df = pd.read_csv(file_path, names=column_names)\n",
    "\n",
    "# Display the first few rows of the DataFrame to verify the data loading\n",
    "df.head()"
   ]
  },
  {
   "cell_type": "code",
   "execution_count": 3,
   "metadata": {},
   "outputs": [
    {
     "data": {
      "text/plain": [
       "2    458\n",
       "4    241\n",
       "Name: Class, dtype: int64"
      ]
     },
     "execution_count": 3,
     "metadata": {},
     "output_type": "execute_result"
    }
   ],
   "source": [
    "df.Class.value_counts()"
   ]
  },
  {
   "cell_type": "code",
   "execution_count": 4,
   "metadata": {},
   "outputs": [
    {
     "data": {
      "text/plain": [
       "Sample_Code_Number             0\n",
       "Clump_Thickness                0\n",
       "Uniformity_of_Cell_Size        0\n",
       "Uniformity_of_Cell_Shape       0\n",
       "Marginal_Adhesion              0\n",
       "Single_Epithelial_Cell_Size    0\n",
       "Bare_Nuclei                    0\n",
       "Bland_Chromatin                0\n",
       "Normal_Nucleoli                0\n",
       "Mitoses                        0\n",
       "Class                          0\n",
       "dtype: int64"
      ]
     },
     "execution_count": 4,
     "metadata": {},
     "output_type": "execute_result"
    }
   ],
   "source": [
    "df.isna().sum()"
   ]
  },
  {
   "cell_type": "code",
   "execution_count": 5,
   "metadata": {},
   "outputs": [
    {
     "data": {
      "text/plain": [
       "['Sample_Code_Number',\n",
       " 'Clump_Thickness',\n",
       " 'Uniformity_of_Cell_Size',\n",
       " 'Uniformity_of_Cell_Shape',\n",
       " 'Marginal_Adhesion',\n",
       " 'Single_Epithelial_Cell_Size',\n",
       " 'Bare_Nuclei',\n",
       " 'Bland_Chromatin',\n",
       " 'Normal_Nucleoli',\n",
       " 'Mitoses',\n",
       " 'Class']"
      ]
     },
     "execution_count": 5,
     "metadata": {},
     "output_type": "execute_result"
    }
   ],
   "source": [
    "list = df.columns.tolist\n",
    "list()"
   ]
  },
  {
   "cell_type": "code",
   "execution_count": 6,
   "metadata": {},
   "outputs": [
    {
     "data": {
      "text/plain": [
       "1     145\n",
       "2      50\n",
       "3     108\n",
       "4      80\n",
       "5     130\n",
       "6      34\n",
       "7      23\n",
       "8      46\n",
       "9      14\n",
       "10     69\n",
       "Name: Clump_Thickness, dtype: int64"
      ]
     },
     "execution_count": 6,
     "metadata": {},
     "output_type": "execute_result"
    }
   ],
   "source": [
    "df.Clump_Thickness.value_counts().sort_index(ascending=True)"
   ]
  },
  {
   "cell_type": "code",
   "execution_count": 7,
   "metadata": {},
   "outputs": [
    {
     "data": {
      "text/plain": [
       "1     384\n",
       "2      45\n",
       "3      52\n",
       "4      40\n",
       "5      30\n",
       "6      27\n",
       "7      19\n",
       "8      29\n",
       "9       6\n",
       "10     67\n",
       "Name: Uniformity_of_Cell_Size, dtype: int64"
      ]
     },
     "execution_count": 7,
     "metadata": {},
     "output_type": "execute_result"
    }
   ],
   "source": [
    "df.Uniformity_of_Cell_Size.value_counts().sort_index(ascending=True)"
   ]
  },
  {
   "cell_type": "code",
   "execution_count": 8,
   "metadata": {},
   "outputs": [
    {
     "data": {
      "text/plain": [
       "1     353\n",
       "2      59\n",
       "3      56\n",
       "4      44\n",
       "5      34\n",
       "6      30\n",
       "7      30\n",
       "8      28\n",
       "9       7\n",
       "10     58\n",
       "Name: Uniformity_of_Cell_Shape, dtype: int64"
      ]
     },
     "execution_count": 8,
     "metadata": {},
     "output_type": "execute_result"
    }
   ],
   "source": [
    "df.Uniformity_of_Cell_Shape.value_counts().sort_index(ascending=True)"
   ]
  },
  {
   "cell_type": "code",
   "execution_count": 9,
   "metadata": {},
   "outputs": [
    {
     "data": {
      "text/plain": [
       "1     407\n",
       "2      58\n",
       "3      58\n",
       "4      33\n",
       "5      23\n",
       "6      22\n",
       "7      13\n",
       "8      25\n",
       "9       5\n",
       "10     55\n",
       "Name: Marginal_Adhesion, dtype: int64"
      ]
     },
     "execution_count": 9,
     "metadata": {},
     "output_type": "execute_result"
    }
   ],
   "source": [
    "df.Marginal_Adhesion.value_counts().sort_index(ascending=True)"
   ]
  },
  {
   "cell_type": "code",
   "execution_count": 10,
   "metadata": {},
   "outputs": [
    {
     "data": {
      "text/plain": [
       "1      47\n",
       "2     386\n",
       "3      72\n",
       "4      48\n",
       "5      39\n",
       "6      41\n",
       "7      12\n",
       "8      21\n",
       "9       2\n",
       "10     31\n",
       "Name: Single_Epithelial_Cell_Size, dtype: int64"
      ]
     },
     "execution_count": 10,
     "metadata": {},
     "output_type": "execute_result"
    }
   ],
   "source": [
    "df.Single_Epithelial_Cell_Size.value_counts().sort_index(ascending=True)"
   ]
  },
  {
   "cell_type": "code",
   "execution_count": 11,
   "metadata": {},
   "outputs": [
    {
     "data": {
      "text/plain": [
       "1     402\n",
       "10    132\n",
       "2      30\n",
       "3      28\n",
       "4      19\n",
       "5      30\n",
       "6       4\n",
       "7       8\n",
       "8      21\n",
       "9       9\n",
       "?      16\n",
       "Name: Bare_Nuclei, dtype: int64"
      ]
     },
     "execution_count": 11,
     "metadata": {},
     "output_type": "execute_result"
    }
   ],
   "source": [
    "df.Bare_Nuclei.value_counts().sort_index(ascending=True)"
   ]
  },
  {
   "cell_type": "code",
   "execution_count": 12,
   "metadata": {},
   "outputs": [
    {
     "data": {
      "text/plain": [
       "1     152\n",
       "2     166\n",
       "3     165\n",
       "4      40\n",
       "5      34\n",
       "6      10\n",
       "7      73\n",
       "8      28\n",
       "9      11\n",
       "10     20\n",
       "Name: Bland_Chromatin, dtype: int64"
      ]
     },
     "execution_count": 12,
     "metadata": {},
     "output_type": "execute_result"
    }
   ],
   "source": [
    "df.Bland_Chromatin.value_counts().sort_index(ascending=True)"
   ]
  },
  {
   "cell_type": "code",
   "execution_count": 13,
   "metadata": {},
   "outputs": [
    {
     "data": {
      "text/plain": [
       "1     443\n",
       "2      36\n",
       "3      44\n",
       "4      18\n",
       "5      19\n",
       "6      22\n",
       "7      16\n",
       "8      24\n",
       "9      16\n",
       "10     61\n",
       "Name: Normal_Nucleoli, dtype: int64"
      ]
     },
     "execution_count": 13,
     "metadata": {},
     "output_type": "execute_result"
    }
   ],
   "source": [
    "df.Normal_Nucleoli.value_counts().sort_index(ascending=True)"
   ]
  },
  {
   "cell_type": "code",
   "execution_count": 14,
   "metadata": {},
   "outputs": [
    {
     "data": {
      "text/plain": [
       "1     579\n",
       "2      35\n",
       "3      33\n",
       "4      12\n",
       "5       6\n",
       "6       3\n",
       "7       9\n",
       "8       8\n",
       "10     14\n",
       "Name: Mitoses, dtype: int64"
      ]
     },
     "execution_count": 14,
     "metadata": {},
     "output_type": "execute_result"
    }
   ],
   "source": [
    "df.Mitoses.value_counts().sort_index(ascending=True)"
   ]
  },
  {
   "cell_type": "code",
   "execution_count": 15,
   "metadata": {},
   "outputs": [
    {
     "data": {
      "text/plain": [
       "2    458\n",
       "4    241\n",
       "Name: Class, dtype: int64"
      ]
     },
     "execution_count": 15,
     "metadata": {},
     "output_type": "execute_result"
    }
   ],
   "source": [
    "df.Class.value_counts().sort_index(ascending=True)"
   ]
  },
  {
   "cell_type": "code",
   "execution_count": 16,
   "metadata": {},
   "outputs": [],
   "source": [
    "# Remove rows with missing values ('?') in the \"Bare Nuclei\" column\n",
    "df = df[df['Bare_Nuclei'] != '?']\n",
    "\n",
    "# Reset the index of the DataFrame after removing rows\n",
    "df = df.reset_index(drop=True)"
   ]
  },
  {
   "cell_type": "code",
   "execution_count": 17,
   "metadata": {},
   "outputs": [
    {
     "name": "stdout",
     "output_type": "stream",
     "text": [
      "1     402\n",
      "10    132\n",
      "2      30\n",
      "5      30\n",
      "3      28\n",
      "8      21\n",
      "4      19\n",
      "9       9\n",
      "7       8\n",
      "6       4\n",
      "Name: Bare_Nuclei, dtype: int64\n"
     ]
    }
   ],
   "source": [
    "# Check the value counts again to verify that the rows with missing values have been removed\n",
    "print(df['Bare_Nuclei'].value_counts())"
   ]
  },
  {
   "cell_type": "code",
   "execution_count": 18,
   "metadata": {},
   "outputs": [
    {
     "data": {
      "text/plain": [
       "(683, 11)"
      ]
     },
     "execution_count": 18,
     "metadata": {},
     "output_type": "execute_result"
    }
   ],
   "source": [
    "df.shape"
   ]
  },
  {
   "cell_type": "code",
   "execution_count": 19,
   "metadata": {},
   "outputs": [
    {
     "data": {
      "text/html": [
       "<div>\n",
       "<style scoped>\n",
       "    .dataframe tbody tr th:only-of-type {\n",
       "        vertical-align: middle;\n",
       "    }\n",
       "\n",
       "    .dataframe tbody tr th {\n",
       "        vertical-align: top;\n",
       "    }\n",
       "\n",
       "    .dataframe thead th {\n",
       "        text-align: right;\n",
       "    }\n",
       "</style>\n",
       "<table border=\"1\" class=\"dataframe\">\n",
       "  <thead>\n",
       "    <tr style=\"text-align: right;\">\n",
       "      <th></th>\n",
       "      <th>Sample_Code_Number</th>\n",
       "      <th>Clump_Thickness</th>\n",
       "      <th>Uniformity_of_Cell_Size</th>\n",
       "      <th>Uniformity_of_Cell_Shape</th>\n",
       "      <th>Marginal_Adhesion</th>\n",
       "      <th>Single_Epithelial_Cell_Size</th>\n",
       "      <th>Bare_Nuclei</th>\n",
       "      <th>Bland_Chromatin</th>\n",
       "      <th>Normal_Nucleoli</th>\n",
       "      <th>Mitoses</th>\n",
       "      <th>Class</th>\n",
       "    </tr>\n",
       "  </thead>\n",
       "  <tbody>\n",
       "    <tr>\n",
       "      <th>0</th>\n",
       "      <td>1000025</td>\n",
       "      <td>5</td>\n",
       "      <td>1</td>\n",
       "      <td>1</td>\n",
       "      <td>1</td>\n",
       "      <td>2</td>\n",
       "      <td>1</td>\n",
       "      <td>3</td>\n",
       "      <td>1</td>\n",
       "      <td>1</td>\n",
       "      <td>2</td>\n",
       "    </tr>\n",
       "    <tr>\n",
       "      <th>1</th>\n",
       "      <td>1002945</td>\n",
       "      <td>5</td>\n",
       "      <td>4</td>\n",
       "      <td>4</td>\n",
       "      <td>5</td>\n",
       "      <td>7</td>\n",
       "      <td>10</td>\n",
       "      <td>3</td>\n",
       "      <td>2</td>\n",
       "      <td>1</td>\n",
       "      <td>2</td>\n",
       "    </tr>\n",
       "    <tr>\n",
       "      <th>2</th>\n",
       "      <td>1015425</td>\n",
       "      <td>3</td>\n",
       "      <td>1</td>\n",
       "      <td>1</td>\n",
       "      <td>1</td>\n",
       "      <td>2</td>\n",
       "      <td>2</td>\n",
       "      <td>3</td>\n",
       "      <td>1</td>\n",
       "      <td>1</td>\n",
       "      <td>2</td>\n",
       "    </tr>\n",
       "    <tr>\n",
       "      <th>3</th>\n",
       "      <td>1016277</td>\n",
       "      <td>6</td>\n",
       "      <td>8</td>\n",
       "      <td>8</td>\n",
       "      <td>1</td>\n",
       "      <td>3</td>\n",
       "      <td>4</td>\n",
       "      <td>3</td>\n",
       "      <td>7</td>\n",
       "      <td>1</td>\n",
       "      <td>2</td>\n",
       "    </tr>\n",
       "    <tr>\n",
       "      <th>4</th>\n",
       "      <td>1017023</td>\n",
       "      <td>4</td>\n",
       "      <td>1</td>\n",
       "      <td>1</td>\n",
       "      <td>3</td>\n",
       "      <td>2</td>\n",
       "      <td>1</td>\n",
       "      <td>3</td>\n",
       "      <td>1</td>\n",
       "      <td>1</td>\n",
       "      <td>2</td>\n",
       "    </tr>\n",
       "  </tbody>\n",
       "</table>\n",
       "</div>"
      ],
      "text/plain": [
       "   Sample_Code_Number  Clump_Thickness  Uniformity_of_Cell_Size  \\\n",
       "0             1000025                5                        1   \n",
       "1             1002945                5                        4   \n",
       "2             1015425                3                        1   \n",
       "3             1016277                6                        8   \n",
       "4             1017023                4                        1   \n",
       "\n",
       "   Uniformity_of_Cell_Shape  Marginal_Adhesion  Single_Epithelial_Cell_Size  \\\n",
       "0                         1                  1                            2   \n",
       "1                         4                  5                            7   \n",
       "2                         1                  1                            2   \n",
       "3                         8                  1                            3   \n",
       "4                         1                  3                            2   \n",
       "\n",
       "  Bare_Nuclei  Bland_Chromatin  Normal_Nucleoli  Mitoses  Class  \n",
       "0           1                3                1        1      2  \n",
       "1          10                3                2        1      2  \n",
       "2           2                3                1        1      2  \n",
       "3           4                3                7        1      2  \n",
       "4           1                3                1        1      2  "
      ]
     },
     "execution_count": 19,
     "metadata": {},
     "output_type": "execute_result"
    }
   ],
   "source": [
    "df.head()"
   ]
  },
  {
   "cell_type": "code",
   "execution_count": 20,
   "metadata": {},
   "outputs": [
    {
     "name": "stdout",
     "output_type": "stream",
     "text": [
      "Sample_Code_Number              int64\n",
      "Clump_Thickness                 int64\n",
      "Uniformity_of_Cell_Size         int64\n",
      "Uniformity_of_Cell_Shape        int64\n",
      "Marginal_Adhesion               int64\n",
      "Single_Epithelial_Cell_Size     int64\n",
      "Bare_Nuclei                    object\n",
      "Bland_Chromatin                 int64\n",
      "Normal_Nucleoli                 int64\n",
      "Mitoses                         int64\n",
      "Class                           int64\n",
      "dtype: object\n"
     ]
    }
   ],
   "source": [
    "print(df.dtypes)"
   ]
  },
  {
   "cell_type": "code",
   "execution_count": 21,
   "metadata": {},
   "outputs": [],
   "source": [
    "df['Bare_Nuclei'] = pd.to_numeric(df['Bare_Nuclei'], errors='coerce')"
   ]
  },
  {
   "cell_type": "code",
   "execution_count": 22,
   "metadata": {},
   "outputs": [],
   "source": [
    "# Remove the \"Sample Code Number\" column\n",
    "df.drop(\"Sample_Code_Number\", axis=1,inplace=True)"
   ]
  },
  {
   "cell_type": "code",
   "execution_count": 23,
   "metadata": {},
   "outputs": [],
   "source": [
    "df['Bare_Nuclei'] = df['Bare_Nuclei'].astype(int)"
   ]
  },
  {
   "cell_type": "code",
   "execution_count": 24,
   "metadata": {},
   "outputs": [
    {
     "data": {
      "text/html": [
       "<div>\n",
       "<style scoped>\n",
       "    .dataframe tbody tr th:only-of-type {\n",
       "        vertical-align: middle;\n",
       "    }\n",
       "\n",
       "    .dataframe tbody tr th {\n",
       "        vertical-align: top;\n",
       "    }\n",
       "\n",
       "    .dataframe thead th {\n",
       "        text-align: right;\n",
       "    }\n",
       "</style>\n",
       "<table border=\"1\" class=\"dataframe\">\n",
       "  <thead>\n",
       "    <tr style=\"text-align: right;\">\n",
       "      <th></th>\n",
       "      <th>Clump_Thickness</th>\n",
       "      <th>Uniformity_of_Cell_Size</th>\n",
       "      <th>Uniformity_of_Cell_Shape</th>\n",
       "      <th>Marginal_Adhesion</th>\n",
       "      <th>Single_Epithelial_Cell_Size</th>\n",
       "      <th>Bare_Nuclei</th>\n",
       "      <th>Bland_Chromatin</th>\n",
       "      <th>Normal_Nucleoli</th>\n",
       "      <th>Mitoses</th>\n",
       "      <th>Class</th>\n",
       "    </tr>\n",
       "  </thead>\n",
       "  <tbody>\n",
       "    <tr>\n",
       "      <th>0</th>\n",
       "      <td>5</td>\n",
       "      <td>1</td>\n",
       "      <td>1</td>\n",
       "      <td>1</td>\n",
       "      <td>2</td>\n",
       "      <td>1</td>\n",
       "      <td>3</td>\n",
       "      <td>1</td>\n",
       "      <td>1</td>\n",
       "      <td>2</td>\n",
       "    </tr>\n",
       "    <tr>\n",
       "      <th>1</th>\n",
       "      <td>5</td>\n",
       "      <td>4</td>\n",
       "      <td>4</td>\n",
       "      <td>5</td>\n",
       "      <td>7</td>\n",
       "      <td>10</td>\n",
       "      <td>3</td>\n",
       "      <td>2</td>\n",
       "      <td>1</td>\n",
       "      <td>2</td>\n",
       "    </tr>\n",
       "    <tr>\n",
       "      <th>2</th>\n",
       "      <td>3</td>\n",
       "      <td>1</td>\n",
       "      <td>1</td>\n",
       "      <td>1</td>\n",
       "      <td>2</td>\n",
       "      <td>2</td>\n",
       "      <td>3</td>\n",
       "      <td>1</td>\n",
       "      <td>1</td>\n",
       "      <td>2</td>\n",
       "    </tr>\n",
       "    <tr>\n",
       "      <th>3</th>\n",
       "      <td>6</td>\n",
       "      <td>8</td>\n",
       "      <td>8</td>\n",
       "      <td>1</td>\n",
       "      <td>3</td>\n",
       "      <td>4</td>\n",
       "      <td>3</td>\n",
       "      <td>7</td>\n",
       "      <td>1</td>\n",
       "      <td>2</td>\n",
       "    </tr>\n",
       "    <tr>\n",
       "      <th>4</th>\n",
       "      <td>4</td>\n",
       "      <td>1</td>\n",
       "      <td>1</td>\n",
       "      <td>3</td>\n",
       "      <td>2</td>\n",
       "      <td>1</td>\n",
       "      <td>3</td>\n",
       "      <td>1</td>\n",
       "      <td>1</td>\n",
       "      <td>2</td>\n",
       "    </tr>\n",
       "  </tbody>\n",
       "</table>\n",
       "</div>"
      ],
      "text/plain": [
       "   Clump_Thickness  Uniformity_of_Cell_Size  Uniformity_of_Cell_Shape  \\\n",
       "0                5                        1                         1   \n",
       "1                5                        4                         4   \n",
       "2                3                        1                         1   \n",
       "3                6                        8                         8   \n",
       "4                4                        1                         1   \n",
       "\n",
       "   Marginal_Adhesion  Single_Epithelial_Cell_Size  Bare_Nuclei  \\\n",
       "0                  1                            2            1   \n",
       "1                  5                            7           10   \n",
       "2                  1                            2            2   \n",
       "3                  1                            3            4   \n",
       "4                  3                            2            1   \n",
       "\n",
       "   Bland_Chromatin  Normal_Nucleoli  Mitoses  Class  \n",
       "0                3                1        1      2  \n",
       "1                3                2        1      2  \n",
       "2                3                1        1      2  \n",
       "3                3                7        1      2  \n",
       "4                3                1        1      2  "
      ]
     },
     "execution_count": 24,
     "metadata": {},
     "output_type": "execute_result"
    }
   ],
   "source": [
    "df.head()"
   ]
  },
  {
   "cell_type": "code",
   "execution_count": 25,
   "metadata": {},
   "outputs": [
    {
     "data": {
      "text/html": [
       "<div>\n",
       "<style scoped>\n",
       "    .dataframe tbody tr th:only-of-type {\n",
       "        vertical-align: middle;\n",
       "    }\n",
       "\n",
       "    .dataframe tbody tr th {\n",
       "        vertical-align: top;\n",
       "    }\n",
       "\n",
       "    .dataframe thead th {\n",
       "        text-align: right;\n",
       "    }\n",
       "</style>\n",
       "<table border=\"1\" class=\"dataframe\">\n",
       "  <thead>\n",
       "    <tr style=\"text-align: right;\">\n",
       "      <th></th>\n",
       "      <th>Clump_Thickness</th>\n",
       "      <th>Uniformity_of_Cell_Size</th>\n",
       "      <th>Uniformity_of_Cell_Shape</th>\n",
       "      <th>Marginal_Adhesion</th>\n",
       "      <th>Single_Epithelial_Cell_Size</th>\n",
       "      <th>Bare_Nuclei</th>\n",
       "      <th>Bland_Chromatin</th>\n",
       "      <th>Normal_Nucleoli</th>\n",
       "      <th>Mitoses</th>\n",
       "      <th>Class</th>\n",
       "    </tr>\n",
       "  </thead>\n",
       "  <tbody>\n",
       "    <tr>\n",
       "      <th>678</th>\n",
       "      <td>3</td>\n",
       "      <td>1</td>\n",
       "      <td>1</td>\n",
       "      <td>1</td>\n",
       "      <td>3</td>\n",
       "      <td>2</td>\n",
       "      <td>1</td>\n",
       "      <td>1</td>\n",
       "      <td>1</td>\n",
       "      <td>2</td>\n",
       "    </tr>\n",
       "    <tr>\n",
       "      <th>679</th>\n",
       "      <td>2</td>\n",
       "      <td>1</td>\n",
       "      <td>1</td>\n",
       "      <td>1</td>\n",
       "      <td>2</td>\n",
       "      <td>1</td>\n",
       "      <td>1</td>\n",
       "      <td>1</td>\n",
       "      <td>1</td>\n",
       "      <td>2</td>\n",
       "    </tr>\n",
       "    <tr>\n",
       "      <th>680</th>\n",
       "      <td>5</td>\n",
       "      <td>10</td>\n",
       "      <td>10</td>\n",
       "      <td>3</td>\n",
       "      <td>7</td>\n",
       "      <td>3</td>\n",
       "      <td>8</td>\n",
       "      <td>10</td>\n",
       "      <td>2</td>\n",
       "      <td>4</td>\n",
       "    </tr>\n",
       "    <tr>\n",
       "      <th>681</th>\n",
       "      <td>4</td>\n",
       "      <td>8</td>\n",
       "      <td>6</td>\n",
       "      <td>4</td>\n",
       "      <td>3</td>\n",
       "      <td>4</td>\n",
       "      <td>10</td>\n",
       "      <td>6</td>\n",
       "      <td>1</td>\n",
       "      <td>4</td>\n",
       "    </tr>\n",
       "    <tr>\n",
       "      <th>682</th>\n",
       "      <td>4</td>\n",
       "      <td>8</td>\n",
       "      <td>8</td>\n",
       "      <td>5</td>\n",
       "      <td>4</td>\n",
       "      <td>5</td>\n",
       "      <td>10</td>\n",
       "      <td>4</td>\n",
       "      <td>1</td>\n",
       "      <td>4</td>\n",
       "    </tr>\n",
       "  </tbody>\n",
       "</table>\n",
       "</div>"
      ],
      "text/plain": [
       "     Clump_Thickness  Uniformity_of_Cell_Size  Uniformity_of_Cell_Shape  \\\n",
       "678                3                        1                         1   \n",
       "679                2                        1                         1   \n",
       "680                5                       10                        10   \n",
       "681                4                        8                         6   \n",
       "682                4                        8                         8   \n",
       "\n",
       "     Marginal_Adhesion  Single_Epithelial_Cell_Size  Bare_Nuclei  \\\n",
       "678                  1                            3            2   \n",
       "679                  1                            2            1   \n",
       "680                  3                            7            3   \n",
       "681                  4                            3            4   \n",
       "682                  5                            4            5   \n",
       "\n",
       "     Bland_Chromatin  Normal_Nucleoli  Mitoses  Class  \n",
       "678                1                1        1      2  \n",
       "679                1                1        1      2  \n",
       "680                8               10        2      4  \n",
       "681               10                6        1      4  \n",
       "682               10                4        1      4  "
      ]
     },
     "execution_count": 25,
     "metadata": {},
     "output_type": "execute_result"
    }
   ],
   "source": [
    "df.tail()"
   ]
  },
  {
   "cell_type": "code",
   "execution_count": 26,
   "metadata": {},
   "outputs": [],
   "source": [
    "# Replace 2 with 0 and 4 with 1 in the 'Class' column\n",
    "df['Class'] = df['Class'].replace({2: 0, 4: 1})"
   ]
  },
  {
   "cell_type": "code",
   "execution_count": 27,
   "metadata": {},
   "outputs": [
    {
     "data": {
      "image/png": "[encoded data removed]",
      "text/plain": [
       "<Figure size 576x432 with 1 Axes>"
      ]
     },
     "metadata": {
      "needs_background": "light"
     },
     "output_type": "display_data"
    }
   ],
   "source": [
    "# Group the DataFrame by the \"Class\" column and count the occurrences of each diagnosis\n",
    "diagnosis_counts = df['Class'].value_counts()\n",
    "\n",
    "# Create a bar plot\n",
    "plt.figure(figsize=(8, 6))\n",
    "ax = diagnosis_counts.plot(kind='bar', color=['green', 'red'])\n",
    "\n",
    "# Customize the plot labels and title\n",
    "plt.xlabel('Diagnosis')\n",
    "plt.ylabel('Count')\n",
    "plt.title('Diagnosis Count in Breast Cancer Dataset')\n",
    "\n",
    "# Annotate the bars with their counts\n",
    "for i, v in enumerate(diagnosis_counts):\n",
    "    ax.text(i, v + 5, str(v), ha='center', va='bottom', fontsize=12)\n",
    "\n",
    "# Add the total count as a text annotation\n",
    "total_count = diagnosis_counts.sum()\n",
    "plt.text(0.5, total_count + 10, f'Total: {total_count}', ha='center', va='bottom', fontsize=12)\n",
    "\n",
    "# Show the plot\n",
    "plt.show()"
   ]
  },
  {
   "cell_type": "code",
   "execution_count": 28,
   "metadata": {},
   "outputs": [],
   "source": [
    "# Prepare the Data\n",
    "# Separate features and target variable\n",
    "X = df.drop(\"Class\", axis=1)  # Features\n",
    "y = df[\"Class\"]  # Target variable"
   ]
  },
  {
   "cell_type": "code",
   "execution_count": 29,
   "metadata": {},
   "outputs": [],
   "source": [
    "# Split the Data\n",
    "X_train, X_test, y_train, y_test = train_test_split(X, y, test_size=0.4, random_state=13, stratify=y)"
   ]
  },
  {
   "cell_type": "markdown",
   "metadata": {},
   "source": [
    "#### KNN"
   ]
  },
  {
   "cell_type": "code",
   "execution_count": 108,
   "metadata": {},
   "outputs": [],
   "source": [
    "# Create a KNN classifier with k=3\n",
    "knn = KNeighborsClassifier(n_neighbors=3)"
   ]
  },
  {
   "cell_type": "code",
   "execution_count": 109,
   "metadata": {},
   "outputs": [],
   "source": [
    "# Specify the number of cross-validation folds (K) - e.g., 5-fold cross-validation\n",
    "n_splits = 5\n",
    "cv = StratifiedKFold(n_splits=n_splits, shuffle=True, random_state=4)"
   ]
  },
  {
   "cell_type": "code",
   "execution_count": 110,
   "metadata": {},
   "outputs": [],
   "source": [
    "# Perform K-fold cross-validation and get the classification scores\n",
    "scores = cross_val_score(knn, X, y, cv=cv, scoring='accuracy')"
   ]
  },
  {
   "cell_type": "code",
   "execution_count": 111,
   "metadata": {},
   "outputs": [
    {
     "name": "stdout",
     "output_type": "stream",
     "text": [
      "Cross-Validation Accuracy Scores:\n",
      "Fold 1: 0.970803\n",
      "Fold 2: 0.978102\n",
      "Fold 3: 0.970803\n",
      "Fold 4: 0.985294\n",
      "Fold 5: 0.970588\n"
     ]
    }
   ],
   "source": [
    "# Print the accuracy for each fold\n",
    "print(\"Cross-Validation Accuracy Scores:\")\n",
    "for i, score in enumerate(scores):\n",
    "    print(f\"Fold {i+1}: {score:.6f}\")"
   ]
  },
  {
   "cell_type": "code",
   "execution_count": 112,
   "metadata": {},
   "outputs": [
    {
     "name": "stdout",
     "output_type": "stream",
     "text": [
      "Mean Accuracy: 0.975118\n",
      "Standard Deviation: 0.005835\n"
     ]
    }
   ],
   "source": [
    "# Calculate and print the mean accuracy and standard deviation\n",
    "mean_accuracy = np.mean(scores)\n",
    "std_accuracy = np.std(scores)\n",
    "print(f\"Mean Accuracy: {mean_accuracy:.6f}\")\n",
    "print(f\"Standard Deviation: {std_accuracy:.6f}\")"
   ]
  },
  {
   "cell_type": "code",
   "execution_count": 113,
   "metadata": {},
   "outputs": [
    {
     "name": "stdout",
     "output_type": "stream",
     "text": [
      "Cross-Validation Metrics:\n",
      "Fold 1:\n",
      "  Accuracy: 0.970803\n",
      "  Class 1:\n",
      "    Precision: 0.988506\n",
      "    Recall: 0.966292\n",
      "\n",
      "  Class 2:\n",
      "    Precision: 0.940000\n",
      "    Recall: 0.979167\n",
      "\n",
      "Fold 2:\n",
      "  Accuracy: 0.978102\n",
      "  Class 1:\n",
      "    Precision: 0.977778\n",
      "    Recall: 0.988764\n",
      "\n",
      "  Class 2:\n",
      "    Precision: 0.978723\n",
      "    Recall: 0.958333\n",
      "\n",
      "Fold 3:\n",
      "  Accuracy: 0.970803\n",
      "  Class 1:\n",
      "    Precision: 0.977528\n",
      "    Recall: 0.977528\n",
      "\n",
      "  Class 2:\n",
      "    Precision: 0.958333\n",
      "    Recall: 0.958333\n",
      "\n",
      "Fold 4:\n",
      "  Accuracy: 0.985294\n",
      "  Class 1:\n",
      "    Precision: 1.000000\n",
      "    Recall: 0.977528\n",
      "\n",
      "  Class 2:\n",
      "    Precision: 0.959184\n",
      "    Recall: 1.000000\n",
      "\n",
      "Fold 5:\n",
      "  Accuracy: 0.970588\n",
      "  Class 1:\n",
      "    Precision: 0.966667\n",
      "    Recall: 0.988636\n",
      "\n",
      "  Class 2:\n",
      "    Precision: 0.978261\n",
      "    Recall: 0.937500\n",
      "\n",
      "Mean Metrics:\n",
      "Mean Accuracy: 0.975118\n",
      "Class 1:\n",
      "  Mean Precision: 0.982096\n",
      "  Mean Recall: 0.979750\n",
      "\n",
      "Class 2:\n",
      "  Mean Precision: 0.962900\n",
      "  Mean Recall: 0.966667\n",
      "\n",
      "Standard Deviation Metrics:\n",
      "Standard Deviation Accuracy: 0.005835\n",
      "Class 1:\n",
      "  Standard Deviation Precision: 0.011307\n",
      "  Standard Deviation Recall: 0.008381\n",
      "Class 2:\n",
      "  Standard Deviation Precision: 0.014460\n",
      "  Standard Deviation Recall: 0.021246\n"
     ]
    }
   ],
   "source": [
    "# Initialize lists to store precision and recall values for each fold\n",
    "precision_per_fold = []\n",
    "recall_per_fold = []\n",
    "\n",
    "# Perform K-fold cross-validation and get the predicted labels for each fold\n",
    "predicted_labels = cross_val_predict(knn, X, y, cv=cv)\n",
    "\n",
    "# Calculate and print accuracy, precision, and recall for each fold and class\n",
    "print(\"Cross-Validation Metrics:\")\n",
    "for i, (train_idx, test_idx) in enumerate(cv.split(X, y)):\n",
    "    accuracy = accuracy_score(y[test_idx], predicted_labels[test_idx])\n",
    "    precision = precision_score(y[test_idx], predicted_labels[test_idx], average=None)\n",
    "    recall = recall_score(y[test_idx], predicted_labels[test_idx], average=None)\n",
    "    \n",
    "    print(f\"Fold {i + 1}:\")\n",
    "    print(f\"  Accuracy: {accuracy:.6f}\")\n",
    "    \n",
    "    for class_idx, (prec, rec) in enumerate(zip(precision, recall)):\n",
    "        print(f\"  Class {class_idx + 1}:\")\n",
    "        print(f\"    Precision: {prec:.6f}\")\n",
    "        print(f\"    Recall: {rec:.6f}\")\n",
    "        print()\n",
    "    \n",
    "    # Append precision and recall values for this fold to the lists\n",
    "    precision_per_fold.append(precision)\n",
    "    recall_per_fold.append(recall)\n",
    "\n",
    "# Calculate and print the mean accuracy, precision, and recall across all folds\n",
    "mean_accuracy = np.mean(scores)\n",
    "\n",
    "# Calculate mean precision and recall for each class\n",
    "mean_precision_per_class = np.mean(precision_per_fold, axis=0)\n",
    "mean_recall_per_class = np.mean(recall_per_fold, axis=0)\n",
    "\n",
    "# Calculate standard deviation of accuracy, precision, and recall across folds\n",
    "std_accuracy = np.std(scores)\n",
    "std_precision_per_class = np.std(precision_per_fold, axis=0)\n",
    "std_recall_per_class = np.std(recall_per_fold, axis=0)\n",
    "\n",
    "print(\"Mean Metrics:\")\n",
    "print(f\"Mean Accuracy: {mean_accuracy:.6f}\")\n",
    "\n",
    "for class_idx, (mean_prec, mean_rec) in enumerate(zip(mean_precision_per_class, mean_recall_per_class)):\n",
    "    print(f\"Class {class_idx + 1}:\")\n",
    "    print(f\"  Mean Precision: {mean_prec:.6f}\")\n",
    "    print(f\"  Mean Recall: {mean_rec:.6f}\")\n",
    "    print()\n",
    "\n",
    "print(\"Standard Deviation Metrics:\")\n",
    "print(f\"Standard Deviation Accuracy: {std_accuracy:.6f}\")\n",
    "\n",
    "for class_idx, (std_prec, std_rec) in enumerate(zip(std_precision_per_class, std_recall_per_class)):\n",
    "    print(f\"Class {class_idx + 1}:\")\n",
    "    print(f\"  Standard Deviation Precision: {std_prec:.6f}\")\n",
    "    print(f\"  Standard Deviation Recall: {std_rec:.6f}\")\n"
   ]
  },
  {
   "cell_type": "markdown",
   "metadata": {},
   "source": [
    "##### 60 - 40 split model training and evaluation for KNN"
   ]
  },
  {
   "cell_type": "code",
   "execution_count": 114,
   "metadata": {},
   "outputs": [
    {
     "data": {
      "text/plain": [
       "KNeighborsClassifier(n_neighbors=3)"
      ]
     },
     "execution_count": 114,
     "metadata": {},
     "output_type": "execute_result"
    }
   ],
   "source": [
    "# Fit KNN model for train set\n",
    "knn.fit(X_train, y_train)"
   ]
  },
  {
   "cell_type": "code",
   "execution_count": 115,
   "metadata": {},
   "outputs": [
    {
     "name": "stdout",
     "output_type": "stream",
     "text": [
      "Classification Report:\n",
      "              precision    recall  f1-score   support\n",
      "\n",
      "           0   0.982955  0.971910  0.977401       178\n",
      "           1   0.948980  0.968750  0.958763        96\n",
      "\n",
      "    accuracy                       0.970803       274\n",
      "   macro avg   0.965967  0.970330  0.968082       274\n",
      "weighted avg   0.971051  0.970803  0.970871       274\n",
      "\n"
     ]
    },
    {
     "data": {
      "image/png": "[encoded data removed]",
      "text/plain": [
       "<Figure size 468x360 with 2 Axes>"
      ]
     },
     "metadata": {
      "needs_background": "light"
     },
     "output_type": "display_data"
    }
   ],
   "source": [
    "# Use the trained KNN model to make predictions on the test data\n",
    "y_pred = knn.predict(X_test)\n",
    "\n",
    "# Print the Classification Report with 4 decimal points\n",
    "report = classification_report(y_test, y_pred, digits=6)\n",
    "print(\"Classification Report:\")\n",
    "print(report)\n",
    "\n",
    "# Print the Confusion Matrix using a Heatmap\n",
    "conf_matrix = confusion_matrix(y_test, y_pred)\n",
    "plt.figure(figsize=(6.5, 5))\n",
    "sns.heatmap(conf_matrix, annot=True, cmap='Blues', fmt='d', annot_kws={\"size\": 12})\n",
    "plt.xlabel('Predicted')\n",
    "plt.ylabel('Actual')\n",
    "plt.title('Confusion Matrix')\n",
    "plt.show()"
   ]
  },
  {
   "cell_type": "markdown",
   "metadata": {},
   "source": [
    "#### NBC"
   ]
  },
  {
   "cell_type": "code",
   "execution_count": 116,
   "metadata": {},
   "outputs": [],
   "source": [
    "# Create and train the Gaussian Naive Bayes model\n",
    "naive_bayes = GaussianNB()"
   ]
  },
  {
   "cell_type": "code",
   "execution_count": 117,
   "metadata": {},
   "outputs": [],
   "source": [
    "# Specify the number of cross-validation folds (K) - e.g., 5-fold cross-validation\n",
    "n_splits = 5\n",
    "cv = StratifiedKFold(n_splits=n_splits, shuffle=True, random_state=4)"
   ]
  },
  {
   "cell_type": "code",
   "execution_count": 118,
   "metadata": {},
   "outputs": [],
   "source": [
    "# Perform K-fold cross-validation and get the classification scores\n",
    "scores = cross_val_score(naive_bayes, X, y, cv=cv, scoring='accuracy')"
   ]
  },
  {
   "cell_type": "code",
   "execution_count": 119,
   "metadata": {},
   "outputs": [
    {
     "name": "stdout",
     "output_type": "stream",
     "text": [
      "Cross-Validation Accuracy Scores:\n",
      "Fold 1: 0.970803\n",
      "Fold 2: 0.941606\n",
      "Fold 3: 0.963504\n",
      "Fold 4: 0.970588\n",
      "Fold 5: 0.963235\n"
     ]
    }
   ],
   "source": [
    "# Print the accuracy for each fold\n",
    "print(\"Cross-Validation Accuracy Scores:\")\n",
    "for i, score in enumerate(scores):\n",
    "    print(f\"Fold {i+1}: {score:.6f}\")"
   ]
  },
  {
   "cell_type": "code",
   "execution_count": 120,
   "metadata": {},
   "outputs": [
    {
     "name": "stdout",
     "output_type": "stream",
     "text": [
      "Mean Accuracy: 0.961947\n",
      "Standard Deviation: 0.010686\n"
     ]
    }
   ],
   "source": [
    "# Calculate and print the mean accuracy and standard deviation\n",
    "mean_accuracy = np.mean(scores)\n",
    "std_accuracy = np.std(scores)\n",
    "print(f\"Mean Accuracy: {mean_accuracy:.6f}\")\n",
    "print(f\"Standard Deviation: {std_accuracy:.6f}\")"
   ]
  },
  {
   "cell_type": "code",
   "execution_count": 121,
   "metadata": {},
   "outputs": [
    {
     "name": "stdout",
     "output_type": "stream",
     "text": [
      "Cross-Validation Metrics:\n",
      "Fold 1:\n",
      "  Accuracy: 0.970803\n",
      "  Class 1:\n",
      "    Precision: 0.988506\n",
      "    Recall: 0.966292\n",
      "\n",
      "  Class 2:\n",
      "    Precision: 0.940000\n",
      "    Recall: 0.979167\n",
      "\n",
      "Fold 2:\n",
      "  Accuracy: 0.941606\n",
      "  Class 1:\n",
      "    Precision: 0.965517\n",
      "    Recall: 0.943820\n",
      "\n",
      "  Class 2:\n",
      "    Precision: 0.900000\n",
      "    Recall: 0.937500\n",
      "\n",
      "Fold 3:\n",
      "  Accuracy: 0.963504\n",
      "  Class 1:\n",
      "    Precision: 1.000000\n",
      "    Recall: 0.943820\n",
      "\n",
      "  Class 2:\n",
      "    Precision: 0.905660\n",
      "    Recall: 1.000000\n",
      "\n",
      "Fold 4:\n",
      "  Accuracy: 0.970588\n",
      "  Class 1:\n",
      "    Precision: 0.988506\n",
      "    Recall: 0.966292\n",
      "\n",
      "  Class 2:\n",
      "    Precision: 0.938776\n",
      "    Recall: 0.978723\n",
      "\n",
      "Fold 5:\n",
      "  Accuracy: 0.963235\n",
      "  Class 1:\n",
      "    Precision: 0.988235\n",
      "    Recall: 0.954545\n",
      "\n",
      "  Class 2:\n",
      "    Precision: 0.921569\n",
      "    Recall: 0.979167\n",
      "\n",
      "Mean Metrics:\n",
      "Mean Accuracy: 0.961947\n",
      "Class 1:\n",
      "  Mean Precision: 0.986153\n",
      "  Mean Recall: 0.954954\n",
      "\n",
      "Class 2:\n",
      "  Mean Precision: 0.921201\n",
      "  Mean Recall: 0.974911\n",
      "\n",
      "Standard Deviation Metrics:\n",
      "Standard Deviation Accuracy: 0.010686\n",
      "Class 1:\n",
      "  Standard Deviation Precision: 0.011251\n",
      "  Standard Deviation Recall: 0.010052\n",
      "Class 2:\n",
      "  Standard Deviation Precision: 0.016452\n",
      "  Standard Deviation Recall: 0.020395\n"
     ]
    }
   ],
   "source": [
    "# Initialize lists to store precision and recall values for each fold\n",
    "precision_per_fold = []\n",
    "recall_per_fold = []\n",
    "\n",
    "# Perform K-fold cross-validation and get the predicted labels for each fold\n",
    "predicted_labels = cross_val_predict(naive_bayes, X, y, cv=cv)\n",
    "\n",
    "# Calculate and print accuracy, precision, and recall for each fold and class\n",
    "print(\"Cross-Validation Metrics:\")\n",
    "for i, (train_idx, test_idx) in enumerate(cv.split(X, y)):\n",
    "    accuracy = accuracy_score(y[test_idx], predicted_labels[test_idx])\n",
    "    precision = precision_score(y[test_idx], predicted_labels[test_idx], average=None)\n",
    "    recall = recall_score(y[test_idx], predicted_labels[test_idx], average=None)\n",
    "    \n",
    "    print(f\"Fold {i + 1}:\")\n",
    "    print(f\"  Accuracy: {accuracy:.6f}\")\n",
    "    \n",
    "    for class_idx, (prec, rec) in enumerate(zip(precision, recall)):\n",
    "        print(f\"  Class {class_idx + 1}:\")\n",
    "        print(f\"    Precision: {prec:.6f}\")\n",
    "        print(f\"    Recall: {rec:.6f}\")\n",
    "        print()\n",
    "    \n",
    "    # Append precision and recall values for this fold to the lists\n",
    "    precision_per_fold.append(precision)\n",
    "    recall_per_fold.append(recall)\n",
    "\n",
    "# Calculate and print the mean accuracy, precision, and recall across all folds\n",
    "mean_accuracy = np.mean(scores)\n",
    "\n",
    "# Calculate mean precision and recall for each class\n",
    "mean_precision_per_class = np.mean(precision_per_fold, axis=0)\n",
    "mean_recall_per_class = np.mean(recall_per_fold, axis=0)\n",
    "\n",
    "# Calculate standard deviation of accuracy, precision, and recall across folds\n",
    "std_accuracy = np.std(scores)\n",
    "std_precision_per_class = np.std(precision_per_fold, axis=0)\n",
    "std_recall_per_class = np.std(recall_per_fold, axis=0)\n",
    "\n",
    "print(\"Mean Metrics:\")\n",
    "print(f\"Mean Accuracy: {mean_accuracy:.6f}\")\n",
    "\n",
    "for class_idx, (mean_prec, mean_rec) in enumerate(zip(mean_precision_per_class, mean_recall_per_class)):\n",
    "    print(f\"Class {class_idx + 1}:\")\n",
    "    print(f\"  Mean Precision: {mean_prec:.6f}\")\n",
    "    print(f\"  Mean Recall: {mean_rec:.6f}\")\n",
    "    print()\n",
    "\n",
    "print(\"Standard Deviation Metrics:\")\n",
    "print(f\"Standard Deviation Accuracy: {std_accuracy:.6f}\")\n",
    "\n",
    "for class_idx, (std_prec, std_rec) in enumerate(zip(std_precision_per_class, std_recall_per_class)):\n",
    "    print(f\"Class {class_idx + 1}:\")\n",
    "    print(f\"  Standard Deviation Precision: {std_prec:.6f}\")\n",
    "    print(f\"  Standard Deviation Recall: {std_rec:.6f}\")\n"
   ]
  },
  {
   "cell_type": "markdown",
   "metadata": {},
   "source": [
    "##### 60 - 40 split model training and evaluation for NBC"
   ]
  },
  {
   "cell_type": "code",
   "execution_count": 122,
   "metadata": {},
   "outputs": [
    {
     "data": {
      "text/plain": [
       "GaussianNB()"
      ]
     },
     "execution_count": 122,
     "metadata": {},
     "output_type": "execute_result"
    }
   ],
   "source": [
    "# Fit NBC model for train set\n",
    "naive_bayes.fit(X_train, y_train)"
   ]
  },
  {
   "cell_type": "code",
   "execution_count": 123,
   "metadata": {},
   "outputs": [
    {
     "name": "stdout",
     "output_type": "stream",
     "text": [
      "Classification Report:\n",
      "              precision    recall  f1-score   support\n",
      "\n",
      "           0   0.994118  0.949438  0.971264       178\n",
      "           1   0.913462  0.989583  0.950000        96\n",
      "\n",
      "    accuracy                       0.963504       274\n",
      "   macro avg   0.953790  0.969511  0.960632       274\n",
      "weighted avg   0.965859  0.963504  0.963814       274\n",
      "\n"
     ]
    },
    {
     "data": {
      "image/png": "[encoded data removed]",
      "text/plain": [
       "<Figure size 468x360 with 2 Axes>"
      ]
     },
     "metadata": {
      "needs_background": "light"
     },
     "output_type": "display_data"
    }
   ],
   "source": [
    "# Use the trained Naive Bayes model to make predictions on the test data\n",
    "y_pred = naive_bayes.predict(X_test)\n",
    "\n",
    "# Print the Classification Report with 4 decimal points\n",
    "report = classification_report(y_test, y_pred, digits=6)\n",
    "print(\"Classification Report:\")\n",
    "print(report)\n",
    "\n",
    "# Print the Confusion Matrix using a Heatmap\n",
    "conf_matrix = confusion_matrix(y_test, y_pred)\n",
    "plt.figure(figsize=(6.5, 5))\n",
    "sns.heatmap(conf_matrix, annot=True, cmap='Blues', fmt='d', annot_kws={\"size\": 12})\n",
    "plt.xlabel('Predicted')\n",
    "plt.ylabel('Actual')\n",
    "plt.title('Confusion Matrix')\n",
    "plt.show()"
   ]
  },
  {
   "cell_type": "markdown",
   "metadata": {},
   "source": [
    "#### XG Boost"
   ]
  },
  {
   "cell_type": "code",
   "execution_count": 43,
   "metadata": {},
   "outputs": [
    {
     "name": "stdout",
     "output_type": "stream",
     "text": [
      "Best Hyperparameters: {'subsample': 0.7, 'scale_pos_weight': 3, 'reg_lambda': 0.001, 'reg_alpha': 0, 'n_estimators': 150, 'min_child_weight': 4, 'max_depth': 6, 'learning_rate': 0.1, 'gamma': 0, 'colsample_bytree': 0.6}\n",
      "Cross-Validation Accuracy Scores:\n",
      "Fold 1: 0.970803\n",
      "Fold 2: 0.985401\n",
      "Fold 3: 0.985401\n",
      "Fold 4: 0.970588\n",
      "Fold 5: 0.992647\n",
      "Mean Accuracy: 0.980968\n",
      "Standard Deviation: 0.008795\n"
     ]
    }
   ],
   "source": [
    "# Create an instance of the XGBoost Classifier\n",
    "xgb_model = xgb.XGBClassifier()\n",
    "\n",
    "# Specify the number of cross-validation folds (K) - e.g., 5-fold cross-validation\n",
    "n_splits = 5\n",
    "cv = StratifiedKFold(n_splits=n_splits, shuffle=True, random_state=4)\n",
    "\n",
    "# Define the hyperparameter grid for RandomizedSearchCV\n",
    "param_dist = {\n",
    "    'n_estimators': range(50, 251, 50),  # Number of trees in the forest\n",
    "    'max_depth': range(3, 11),  # Maximum depth of each tree\n",
    "    'learning_rate': [0.01, 0.1, 0.2, 0.3],  # Learning rate\n",
    "    'subsample': [0.8, 0.9, 1.0],  # Fraction of samples used for training\n",
    "    'colsample_bytree': [0.8, 0.9, 1.0],  # Fraction of features used for training\n",
    "    'min_child_weight': [1, 2, 3, 4],  # Minimum sum of instance weight (hessian) needed in a child\n",
    "    'gamma': [0, 0.1, 0.2, 0.3],  # Minimum loss reduction required to make a further partition on a leaf node\n",
    "    'reg_alpha': [0, 1e-5, 1e-4, 1e-3, 1e-2],  # L1 regularization term on weights\n",
    "    'reg_lambda': [0, 1e-5, 1e-4, 1e-3, 1e-2],  # L2 regularization term on weights\n",
    "    'scale_pos_weight': [1, 2, 3],  # Controls the balance of positive and negative weights\n",
    "    'gamma': [0, 0.1, 0.2],  # Minimum loss reduction required to make a further partition on a leaf node\n",
    "    'subsample': [0.6, 0.7, 0.8, 0.9, 1.0],  # Fraction of samples used for training\n",
    "    'colsample_bytree': [0.6, 0.7, 0.8, 0.9, 1.0],  # Fraction of features used for training\n",
    "    'min_child_weight': [1, 2, 3, 4, 5]  # Minimum sum of instance weight (hessian) needed in a child\n",
    "}\n",
    "\n",
    "\n",
    "# Create RandomizedSearchCV with the XGBoost model and parameter grid\n",
    "random_search = RandomizedSearchCV(\n",
    "    xgb_model,\n",
    "    param_distributions=param_dist,\n",
    "    n_iter=500,  # Number of random combinations to try\n",
    "    cv=cv,\n",
    "    scoring='accuracy',\n",
    "    random_state=42,\n",
    "    n_jobs=-1  # Use all available CPU cores for parallel processing\n",
    ")\n",
    "\n",
    "# Perform Randomized Search to find the best hyperparameters\n",
    "random_search.fit(X, y)\n",
    "\n",
    "# Get the best hyperparameters\n",
    "best_params = random_search.best_params_\n",
    "print(\"Best Hyperparameters:\", best_params)\n",
    "\n",
    "# Train the XGBoost model with the best hyperparameters\n",
    "best_xgb_model = xgb.XGBClassifier(**best_params)\n",
    "\n",
    "# Perform K-fold cross-validation and get the classification scores\n",
    "scores = cross_val_score(best_xgb_model, X, y, cv=cv, scoring='accuracy')\n",
    "\n",
    "# Print the accuracy for each fold\n",
    "print(\"Cross-Validation Accuracy Scores:\")\n",
    "for i, score in enumerate(scores):\n",
    "    print(f\"Fold {i+1}: {score:.6f}\")\n",
    "\n",
    "# Calculate and print the mean accuracy and standard deviation\n",
    "mean_accuracy = np.mean(scores)\n",
    "std_accuracy = np.std(scores)\n",
    "print(f\"Mean Accuracy: {mean_accuracy:.6f}\")\n",
    "print(f\"Standard Deviation: {std_accuracy:.6f}\")\n"
   ]
  },
  {
   "cell_type": "code",
   "execution_count": 52,
   "metadata": {},
   "outputs": [],
   "source": [
    "# Create an instance of the XGBoost Classifier\n",
    "xgb_model = xgb.XGBClassifier(\n",
    "    subsample=0.7,\n",
    "    scale_pos_weight=3,\n",
    "    reg_lambda=0.001,\n",
    "    reg_alpha=0,\n",
    "    n_estimators=150,\n",
    "    min_child_weight=4,\n",
    "    max_depth=6,\n",
    "    learning_rate=0.1,\n",
    "    gamma=0,\n",
    "    colsample_bytree=0.6,\n",
    "    random_state=13\n",
    ")"
   ]
  },
  {
   "cell_type": "code",
   "execution_count": 53,
   "metadata": {},
   "outputs": [],
   "source": [
    "# Specify the number of cross-validation folds (K) - e.g., 5-fold cross-validation\n",
    "n_splits = 5\n",
    "cv = StratifiedKFold(n_splits=n_splits, shuffle=True, random_state=4)"
   ]
  },
  {
   "cell_type": "code",
   "execution_count": 54,
   "metadata": {},
   "outputs": [],
   "source": [
    "# Perform K-fold cross-validation and get the classification scores\n",
    "scores = cross_val_score(xgb_model, X, y, cv=cv, scoring='accuracy')"
   ]
  },
  {
   "cell_type": "code",
   "execution_count": 55,
   "metadata": {},
   "outputs": [
    {
     "name": "stdout",
     "output_type": "stream",
     "text": [
      "Cross-Validation Accuracy Scores:\n",
      "Fold 1: 0.970803\n",
      "Fold 2: 0.978102\n",
      "Fold 3: 0.978102\n",
      "Fold 4: 0.970588\n",
      "Fold 5: 0.985294\n"
     ]
    }
   ],
   "source": [
    "# Print the accuracy for each fold\n",
    "print(\"Cross-Validation Accuracy Scores:\")\n",
    "for i, score in enumerate(scores):\n",
    "    print(f\"Fold {i+1}: {score:.6f}\")"
   ]
  },
  {
   "cell_type": "code",
   "execution_count": 56,
   "metadata": {},
   "outputs": [
    {
     "name": "stdout",
     "output_type": "stream",
     "text": [
      "Mean Accuracy: 0.976578\n",
      "Standard Deviation: 0.005474\n"
     ]
    }
   ],
   "source": [
    "# Calculate and print the mean accuracy and standard deviation\n",
    "mean_accuracy = np.mean(scores)\n",
    "std_accuracy = np.std(scores)\n",
    "print(f\"Mean Accuracy: {mean_accuracy:.6f}\")\n",
    "print(f\"Standard Deviation: {std_accuracy:.6f}\")"
   ]
  },
  {
   "cell_type": "code",
   "execution_count": 57,
   "metadata": {},
   "outputs": [
    {
     "name": "stdout",
     "output_type": "stream",
     "text": [
      "Cross-Validation Metrics:\n",
      "Fold 1:\n",
      "  Accuracy: 0.970803\n",
      "  Class 1:\n",
      "    Precision: 0.988506\n",
      "    Recall: 0.966292\n",
      "\n",
      "  Class 2:\n",
      "    Precision: 0.940000\n",
      "    Recall: 0.979167\n",
      "\n",
      "Fold 2:\n",
      "  Accuracy: 0.978102\n",
      "  Class 1:\n",
      "    Precision: 0.977778\n",
      "    Recall: 0.988764\n",
      "\n",
      "  Class 2:\n",
      "    Precision: 0.978723\n",
      "    Recall: 0.958333\n",
      "\n",
      "Fold 3:\n",
      "  Accuracy: 0.978102\n",
      "  Class 1:\n",
      "    Precision: 0.988636\n",
      "    Recall: 0.977528\n",
      "\n",
      "  Class 2:\n",
      "    Precision: 0.959184\n",
      "    Recall: 0.979167\n",
      "\n",
      "Fold 4:\n",
      "  Accuracy: 0.970588\n",
      "  Class 1:\n",
      "    Precision: 1.000000\n",
      "    Recall: 0.955056\n",
      "\n",
      "  Class 2:\n",
      "    Precision: 0.921569\n",
      "    Recall: 1.000000\n",
      "\n",
      "Fold 5:\n",
      "  Accuracy: 0.985294\n",
      "  Class 1:\n",
      "    Precision: 0.988636\n",
      "    Recall: 0.988636\n",
      "\n",
      "  Class 2:\n",
      "    Precision: 0.979167\n",
      "    Recall: 0.979167\n",
      "\n",
      "Mean Metrics:\n",
      "Mean Accuracy: 0.976578\n",
      "Class 1:\n",
      "  Mean Precision: 0.988711\n",
      "  Mean Recall: 0.975255\n",
      "\n",
      "Class 2:\n",
      "  Mean Precision: 0.955728\n",
      "  Mean Recall: 0.979167\n",
      "\n",
      "Standard Deviation Metrics:\n",
      "Standard Deviation Accuracy: 0.005474\n",
      "Class 1:\n",
      "  Standard Deviation Precision: 0.007029\n",
      "  Standard Deviation Recall: 0.013077\n",
      "Class 2:\n",
      "  Standard Deviation Precision: 0.022380\n",
      "  Standard Deviation Recall: 0.013176\n"
     ]
    }
   ],
   "source": [
    "# Initialize lists to store precision and recall values for each fold\n",
    "precision_per_fold = []\n",
    "recall_per_fold = []\n",
    "\n",
    "# Perform K-fold cross-validation and get the predicted labels for each fold\n",
    "predicted_labels = cross_val_predict(xgb_model, X, y, cv=cv)\n",
    "\n",
    "# Calculate and print accuracy, precision, and recall for each fold and class\n",
    "print(\"Cross-Validation Metrics:\")\n",
    "for i, (train_idx, test_idx) in enumerate(cv.split(X, y)):\n",
    "    accuracy = accuracy_score(y[test_idx], predicted_labels[test_idx])\n",
    "    precision = precision_score(y[test_idx], predicted_labels[test_idx], average=None)\n",
    "    recall = recall_score(y[test_idx], predicted_labels[test_idx], average=None)\n",
    "    \n",
    "    print(f\"Fold {i + 1}:\")\n",
    "    print(f\"  Accuracy: {accuracy:.6f}\")\n",
    "    \n",
    "    for class_idx, (prec, rec) in enumerate(zip(precision, recall)):\n",
    "        print(f\"  Class {class_idx + 1}:\")\n",
    "        print(f\"    Precision: {prec:.6f}\")\n",
    "        print(f\"    Recall: {rec:.6f}\")\n",
    "        print()\n",
    "    \n",
    "    # Append precision and recall values for this fold to the lists\n",
    "    precision_per_fold.append(precision)\n",
    "    recall_per_fold.append(recall)\n",
    "\n",
    "# Calculate and print the mean accuracy, precision, and recall across all folds\n",
    "mean_accuracy = np.mean(scores)\n",
    "\n",
    "# Calculate mean precision and recall for each class\n",
    "mean_precision_per_class = np.mean(precision_per_fold, axis=0)\n",
    "mean_recall_per_class = np.mean(recall_per_fold, axis=0)\n",
    "\n",
    "# Calculate standard deviation of accuracy, precision, and recall across folds\n",
    "std_accuracy = np.std(scores)\n",
    "std_precision_per_class = np.std(precision_per_fold, axis=0)\n",
    "std_recall_per_class = np.std(recall_per_fold, axis=0)\n",
    "\n",
    "print(\"Mean Metrics:\")\n",
    "print(f\"Mean Accuracy: {mean_accuracy:.6f}\")\n",
    "\n",
    "for class_idx, (mean_prec, mean_rec) in enumerate(zip(mean_precision_per_class, mean_recall_per_class)):\n",
    "    print(f\"Class {class_idx + 1}:\")\n",
    "    print(f\"  Mean Precision: {mean_prec:.6f}\")\n",
    "    print(f\"  Mean Recall: {mean_rec:.6f}\")\n",
    "    print()\n",
    "\n",
    "print(\"Standard Deviation Metrics:\")\n",
    "print(f\"Standard Deviation Accuracy: {std_accuracy:.6f}\")\n",
    "\n",
    "for class_idx, (std_prec, std_rec) in enumerate(zip(std_precision_per_class, std_recall_per_class)):\n",
    "    print(f\"Class {class_idx + 1}:\")\n",
    "    print(f\"  Standard Deviation Precision: {std_prec:.6f}\")\n",
    "    print(f\"  Standard Deviation Recall: {std_rec:.6f}\")\n"
   ]
  },
  {
   "cell_type": "markdown",
   "metadata": {},
   "source": [
    "##### 60 - 40 split model training and evaluation for XG Boost"
   ]
  },
  {
   "cell_type": "code",
   "execution_count": 58,
   "metadata": {},
   "outputs": [
    {
     "data": {
      "text/plain": [
       "XGBClassifier(base_score=0.5, booster='gbtree', callbacks=None,\n",
       "              colsample_bylevel=1, colsample_bynode=1, colsample_bytree=0.6,\n",
       "              early_stopping_rounds=None, enable_categorical=False,\n",
       "              eval_metric=None, feature_types=None, gamma=0, gpu_id=-1,\n",
       "              grow_policy='depthwise', importance_type=None,\n",
       "              interaction_constraints='', learning_rate=0.1, max_bin=256,\n",
       "              max_cat_threshold=64, max_cat_to_onehot=4, max_delta_step=0,\n",
       "              max_depth=6, max_leaves=0, min_child_weight=4, missing=nan,\n",
       "              monotone_constraints='()', n_estimators=150, n_jobs=0,\n",
       "              num_parallel_tree=1, predictor='auto', random_state=13, ...)"
      ]
     },
     "execution_count": 58,
     "metadata": {},
     "output_type": "execute_result"
    }
   ],
   "source": [
    "# Fit KNN model for train set\n",
    "xgb_model.fit(X_train, y_train)"
   ]
  },
  {
   "cell_type": "code",
   "execution_count": 59,
   "metadata": {},
   "outputs": [
    {
     "name": "stdout",
     "output_type": "stream",
     "text": [
      "Classification Report:\n",
      "              precision    recall  f1-score   support\n",
      "\n",
      "           0   1.000000  0.966292  0.982857       178\n",
      "           1   0.941176  1.000000  0.969697        96\n",
      "\n",
      "    accuracy                       0.978102       274\n",
      "   macro avg   0.970588  0.983146  0.976277       274\n",
      "weighted avg   0.979390  0.978102  0.978246       274\n",
      "\n"
     ]
    },
    {
     "data": {
      "image/png": "[encoded data removed]",
      "text/plain": [
       "<Figure size 468x360 with 2 Axes>"
      ]
     },
     "metadata": {
      "needs_background": "light"
     },
     "output_type": "display_data"
    }
   ],
   "source": [
    "# Use the trained KNN model to make predictions on the test data\n",
    "y_pred = xgb_model.predict(X_test)\n",
    "\n",
    "# Print the Classification Report with 4 decimal points\n",
    "report = classification_report(y_test, y_pred, digits=6)\n",
    "print(\"Classification Report:\")\n",
    "print(report)\n",
    "\n",
    "# Print the Confusion Matrix using a Heatmap\n",
    "conf_matrix = confusion_matrix(y_test, y_pred)\n",
    "plt.figure(figsize=(6.5, 5))\n",
    "sns.heatmap(conf_matrix, annot=True, cmap='Blues', fmt='d', annot_kws={\"size\": 12})\n",
    "plt.xlabel('Predicted')\n",
    "plt.ylabel('Actual')\n",
    "plt.title('Confusion Matrix')\n",
    "plt.show()"
   ]
  },
  {
   "cell_type": "markdown",
   "metadata": {},
   "source": [
    "#### Random Forest"
   ]
  },
  {
   "cell_type": "code",
   "execution_count": 30,
   "metadata": {},
   "outputs": [],
   "source": [
    "# Initialize the RandomForestClassifier\n",
    "rf = RandomForestClassifier(\n",
    "    n_estimators=50,\n",
    "    max_depth=30,\n",
    "    min_samples_split=9,\n",
    "    min_samples_leaf=4,\n",
    "    criterion='entropy',\n",
    "    max_features=None,\n",
    "    bootstrap=True,\n",
    "    class_weight={0: 1, 1: 2},\n",
    "    min_impurity_decrease=0.0,\n",
    "    oob_score=True,\n",
    "    warm_start=False,\n",
    "    random_state=42\n",
    ")"
   ]
  },
  {
   "cell_type": "code",
   "execution_count": 31,
   "metadata": {},
   "outputs": [],
   "source": [
    "# Specify the number of cross-validation folds (K) - e.g., 5-fold cross-validation\n",
    "n_splits = 5\n",
    "cv = StratifiedKFold(n_splits=n_splits, shuffle=True, random_state=4)"
   ]
  },
  {
   "cell_type": "code",
   "execution_count": 33,
   "metadata": {},
   "outputs": [],
   "source": [
    "# Perform K-fold cross-validation and get the classification scores\n",
    "scores = cross_val_score(rf, X, y, cv=cv, scoring='accuracy')"
   ]
  },
  {
   "cell_type": "code",
   "execution_count": 34,
   "metadata": {},
   "outputs": [
    {
     "name": "stdout",
     "output_type": "stream",
     "text": [
      "Cross-Validation Accuracy Scores:\n",
      "Fold 1: 0.956204\n",
      "Fold 2: 0.963504\n",
      "Fold 3: 0.978102\n",
      "Fold 4: 0.970588\n",
      "Fold 5: 0.970588\n"
     ]
    }
   ],
   "source": [
    "# Print the accuracy for each fold\n",
    "print(\"Cross-Validation Accuracy Scores:\")\n",
    "for i, score in enumerate(scores):\n",
    "    print(f\"Fold {i+1}: {score:.6f}\")"
   ]
  },
  {
   "cell_type": "code",
   "execution_count": 35,
   "metadata": {},
   "outputs": [
    {
     "name": "stdout",
     "output_type": "stream",
     "text": [
      "Mean Accuracy: 0.967797\n",
      "Standard Deviation: 0.007411\n"
     ]
    }
   ],
   "source": [
    "# Calculate and print the mean accuracy and standard deviation\n",
    "mean_accuracy = np.mean(scores)\n",
    "std_accuracy = np.std(scores)\n",
    "print(f\"Mean Accuracy: {mean_accuracy:.6f}\")\n",
    "print(f\"Standard Deviation: {std_accuracy:.6f}\")"
   ]
  },
  {
   "cell_type": "code",
   "execution_count": 36,
   "metadata": {},
   "outputs": [
    {
     "name": "stdout",
     "output_type": "stream",
     "text": [
      "Cross-Validation Metrics:\n",
      "Fold 1:\n",
      "  Accuracy: 0.956204\n",
      "  Class 1:\n",
      "    Precision: 0.966292\n",
      "    Recall: 0.966292\n",
      "\n",
      "  Class 2:\n",
      "    Precision: 0.937500\n",
      "    Recall: 0.937500\n",
      "\n",
      "Fold 2:\n",
      "  Accuracy: 0.963504\n",
      "  Class 1:\n",
      "    Precision: 0.966667\n",
      "    Recall: 0.977528\n",
      "\n",
      "  Class 2:\n",
      "    Precision: 0.957447\n",
      "    Recall: 0.937500\n",
      "\n",
      "Fold 3:\n",
      "  Accuracy: 0.978102\n",
      "  Class 1:\n",
      "    Precision: 1.000000\n",
      "    Recall: 0.966292\n",
      "\n",
      "  Class 2:\n",
      "    Precision: 0.941176\n",
      "    Recall: 1.000000\n",
      "\n",
      "Fold 4:\n",
      "  Accuracy: 0.970588\n",
      "  Class 1:\n",
      "    Precision: 1.000000\n",
      "    Recall: 0.955056\n",
      "\n",
      "  Class 2:\n",
      "    Precision: 0.921569\n",
      "    Recall: 1.000000\n",
      "\n",
      "Fold 5:\n",
      "  Accuracy: 0.970588\n",
      "  Class 1:\n",
      "    Precision: 0.966667\n",
      "    Recall: 0.988636\n",
      "\n",
      "  Class 2:\n",
      "    Precision: 0.978261\n",
      "    Recall: 0.937500\n",
      "\n",
      "Mean Metrics:\n",
      "Mean Accuracy: 0.967797\n",
      "Class 1:\n",
      "  Mean Precision: 0.979925\n",
      "  Mean Recall: 0.970761\n",
      "\n",
      "Class 2:\n",
      "  Mean Precision: 0.947191\n",
      "  Mean Recall: 0.962500\n",
      "\n",
      "Standard Deviation Metrics:\n",
      "Standard Deviation Accuracy: 0.007411\n",
      "Class 1:\n",
      "  Standard Deviation Precision: 0.016392\n",
      "  Standard Deviation Recall: 0.011418\n",
      "Class 2:\n",
      "  Standard Deviation Precision: 0.019272\n",
      "  Standard Deviation Recall: 0.030619\n"
     ]
    }
   ],
   "source": [
    "# Initialize lists to store precision and recall values for each fold\n",
    "precision_per_fold = []\n",
    "recall_per_fold = []\n",
    "\n",
    "# Perform K-fold cross-validation and get the predicted labels for each fold\n",
    "predicted_labels = cross_val_predict(rf, X, y, cv=cv)\n",
    "\n",
    "# Calculate and print accuracy, precision, and recall for each fold and class\n",
    "print(\"Cross-Validation Metrics:\")\n",
    "for i, (train_idx, test_idx) in enumerate(cv.split(X, y)):\n",
    "    accuracy = accuracy_score(y[test_idx], predicted_labels[test_idx])\n",
    "    precision = precision_score(y[test_idx], predicted_labels[test_idx], average=None)\n",
    "    recall = recall_score(y[test_idx], predicted_labels[test_idx], average=None)\n",
    "    \n",
    "    print(f\"Fold {i + 1}:\")\n",
    "    print(f\"  Accuracy: {accuracy:.6f}\")\n",
    "    \n",
    "    for class_idx, (prec, rec) in enumerate(zip(precision, recall)):\n",
    "        print(f\"  Class {class_idx + 1}:\")\n",
    "        print(f\"    Precision: {prec:.6f}\")\n",
    "        print(f\"    Recall: {rec:.6f}\")\n",
    "        print()\n",
    "    \n",
    "    # Append precision and recall values for this fold to the lists\n",
    "    precision_per_fold.append(precision)\n",
    "    recall_per_fold.append(recall)\n",
    "\n",
    "# Calculate and print the mean accuracy, precision, and recall across all folds\n",
    "mean_accuracy = np.mean(scores)\n",
    "\n",
    "# Calculate mean precision and recall for each class\n",
    "mean_precision_per_class = np.mean(precision_per_fold, axis=0)\n",
    "mean_recall_per_class = np.mean(recall_per_fold, axis=0)\n",
    "\n",
    "# Calculate standard deviation of accuracy, precision, and recall across folds\n",
    "std_accuracy = np.std(scores)\n",
    "std_precision_per_class = np.std(precision_per_fold, axis=0)\n",
    "std_recall_per_class = np.std(recall_per_fold, axis=0)\n",
    "\n",
    "print(\"Mean Metrics:\")\n",
    "print(f\"Mean Accuracy: {mean_accuracy:.6f}\")\n",
    "\n",
    "for class_idx, (mean_prec, mean_rec) in enumerate(zip(mean_precision_per_class, mean_recall_per_class)):\n",
    "    print(f\"Class {class_idx + 1}:\")\n",
    "    print(f\"  Mean Precision: {mean_prec:.6f}\")\n",
    "    print(f\"  Mean Recall: {mean_rec:.6f}\")\n",
    "    print()\n",
    "\n",
    "print(\"Standard Deviation Metrics:\")\n",
    "print(f\"Standard Deviation Accuracy: {std_accuracy:.6f}\")\n",
    "\n",
    "for class_idx, (std_prec, std_rec) in enumerate(zip(std_precision_per_class, std_recall_per_class)):\n",
    "    print(f\"Class {class_idx + 1}:\")\n",
    "    print(f\"  Standard Deviation Precision: {std_prec:.6f}\")\n",
    "    print(f\"  Standard Deviation Recall: {std_rec:.6f}\")\n"
   ]
  },
  {
   "cell_type": "markdown",
   "metadata": {},
   "source": [
    "##### 60 - 40 split model training and evaluation for KNN"
   ]
  },
  {
   "cell_type": "code",
   "execution_count": 37,
   "metadata": {},
   "outputs": [
    {
     "data": {
      "text/plain": [
       "RandomForestClassifier(class_weight={0: 1, 1: 2}, criterion='entropy',\n",
       "                       max_depth=30, max_features=None, min_samples_leaf=4,\n",
       "                       min_samples_split=9, n_estimators=50, oob_score=True,\n",
       "                       random_state=42)"
      ]
     },
     "execution_count": 37,
     "metadata": {},
     "output_type": "execute_result"
    }
   ],
   "source": [
    "# Fit model for train set\n",
    "rf.fit(X_train, y_train)"
   ]
  },
  {
   "cell_type": "code",
   "execution_count": 38,
   "metadata": {},
   "outputs": [
    {
     "name": "stdout",
     "output_type": "stream",
     "text": [
      "Classification Report:\n",
      "              precision    recall  f1-score   support\n",
      "\n",
      "           0   0.988571  0.971910  0.980170       178\n",
      "           1   0.949495  0.979167  0.964103        96\n",
      "\n",
      "    accuracy                       0.974453       274\n",
      "   macro avg   0.969033  0.975538  0.972136       274\n",
      "weighted avg   0.974880  0.974453  0.974541       274\n",
      "\n"
     ]
    },
    {
     "data": {
      "image/png": "[encoded data removed]",
      "text/plain": [
       "<Figure size 468x360 with 2 Axes>"
      ]
     },
     "metadata": {
      "needs_background": "light"
     },
     "output_type": "display_data"
    }
   ],
   "source": [
    "# Use the trained Naive Bayes model to make predictions on the test data\n",
    "y_pred = rf.predict(X_test)\n",
    "\n",
    "# Print the Classification Report with 4 decimal points\n",
    "report = classification_report(y_test, y_pred, digits=6)\n",
    "print(\"Classification Report:\")\n",
    "print(report)\n",
    "\n",
    "# Print the Confusion Matrix using a Heatmap\n",
    "conf_matrix = confusion_matrix(y_test, y_pred)\n",
    "plt.figure(figsize=(6.5, 5))\n",
    "sns.heatmap(conf_matrix, annot=True, cmap='Blues', fmt='d', annot_kws={\"size\": 12})\n",
    "plt.xlabel('Predicted')\n",
    "plt.ylabel('Actual')\n",
    "plt.title('Confusion Matrix')\n",
    "plt.show()"
   ]
  },
  {
   "cell_type": "code",
   "execution_count": null,
   "metadata": {},
   "outputs": [],
   "source": []
  }
 ],
 "metadata": {
  "kernelspec": {
   "display_name": "base",
   "language": "python",
   "name": "python3"
  },
  "language_info": {
   "codemirror_mode": {
    "name": "ipython",
    "version": 3
   },
   "file_extension": ".py",
   "mimetype": "text/x-python",
   "name": "python",
   "nbconvert_exporter": "python",
   "pygments_lexer": "ipython3",
   "version": "3.9.12"
  },
  "orig_nbformat": 4
 },
 "nbformat": 4,
 "nbformat_minor": 2
}
